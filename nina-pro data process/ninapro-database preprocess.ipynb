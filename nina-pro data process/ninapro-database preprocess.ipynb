{
 "cells": [
  {
   "cell_type": "markdown",
   "id": "b9c5dfc1-b837-43ae-b266-ce18107f8556",
   "metadata": {},
   "source": [
    "## Ninapro-db1 database preprocess"
   ]
  },
  {
   "cell_type": "code",
   "execution_count": 2,
   "id": "ec41f3b6-fe51-4b8f-9d33-b845b1e70006",
   "metadata": {},
   "outputs": [],
   "source": [
    "import os\n",
    "import scipy.io as sio\n",
    "import numpy as np\n",
    "import matplotlib\n",
    "import matplotlib.pyplot as plt\n",
    "from joblib import Parallel, delayed\n",
    "import emg_features"
   ]
  },
  {
   "cell_type": "markdown",
   "id": "98129a7b-9f55-4153-84f0-6d96696748ae",
   "metadata": {},
   "source": [
    "#### parameter"
   ]
  },
  {
   "cell_type": "code",
   "execution_count": 367,
   "id": "128330f0-7066-4751-b268-f3d5b062924b",
   "metadata": {},
   "outputs": [],
   "source": [
    "BASE_PATH='C:/Users/11488/Desktop/my semg/nina-pro data process'\n",
    "OUT_PATH='C:/Users/11488/Desktop/my semg/nina-pro data process/my dataset'\n",
    "NUM_GESTURE_G1=12+1\n",
    "NUM_GESTURE_G2=17+1\n",
    "NUM_GESTURE_G3=23+1\n",
    "TOT_NUM_GESTURE=NUM_GESTURE_G1+NUM_GESTURE_G2+NUM_GESTURE_G3-2\n",
    "SUBJECT=list(range(1,28))"
   ]
  },
  {
   "cell_type": "markdown",
   "id": "39c1dfc5-a166-4aa2-9f91-0dca7a800f5e",
   "metadata": {},
   "source": [
    "#### init db for each gesture, start with element gesture accessing by key 'gesture'"
   ]
  },
  {
   "cell_type": "code",
   "execution_count": 368,
   "id": "2424572e-dda6-43b4-bc62-ecd7bde01e27",
   "metadata": {},
   "outputs": [],
   "source": [
    "if os.path.isdir(OUT_PATH) is False:\n",
    "    os.makedirs(OUT_PATH)\n",
    "data={}\n",
    "for g in range(TOT_NUM_GESTURE):\n",
    "    target_mat=os.path.join(OUT_PATH,\n",
    "                            'Gesture'+str(g)+'.mat')\n",
    "    data['gesture']=np.array(g)\n",
    "    sio.savemat(target_mat, data) \n"
   ]
  },
  {
   "cell_type": "markdown",
   "id": "787c3d08-bbfb-4c82-bb04-c054f1f77cfe",
   "metadata": {},
   "source": [
    "for db1, there are 3 group of data corresponding to three set of data, each contain 12,17 23 kinds of movements, 0 as the label of rest."
   ]
  },
  {
   "cell_type": "markdown",
   "id": "c39437af-d929-4feb-a59d-4365e22d2076",
   "metadata": {},
   "source": [
    "#### process group1 gesture"
   ]
  },
  {
   "cell_type": "code",
   "execution_count": 369,
   "id": "fa9646b0-34d4-4827-8c95-53e6f84d373c",
   "metadata": {},
   "outputs": [],
   "source": [
    "def Build_Group1_Mat():    \n",
    "    for s in SUBJECT:\n",
    "        path_1=os.path.join(BASE_PATH,\n",
    "                            'raw data',\n",
    "                            'nina-db1',\n",
    "                            'group1',\n",
    "                            'S'+str(s)+'.mat')\n",
    "        #print(path_1)\n",
    "        my_mat=sio.loadmat(path_1)\n",
    "        my_emg=my_mat['emg']\n",
    "        my_label=np.array([j for [j] in my_mat['restimulus'].astype(np.int32)])\n",
    "        my_subject=my_mat['subject'].astype(np.int32)[0,0]\n",
    "        ####\n",
    "        channel_split=Split_Channel(my_emg) #split signal into channels ,return as a ndarray\n",
    "        ####\n",
    "        #Draw_signal(channel_split,s) #draw the raw signal by channel\n",
    "        ####\n",
    "        for ch in range(channel_split.shape[0]):\n",
    "            gesture_split,onset_split=Split_Gesture(channel_split[ch,:],my_label,NUM_GESTURE_G1)\n",
    "            for ges in range(NUM_GESTURE_G1):\n",
    "                if ges==0:\n",
    "                    path_out=os.path.join(OUT_PATH,\n",
    "                                'Gesture'+str(ges)+'.mat')\n",
    "                    mat_out=sio.loadmat(path_out)\n",
    "                    key_ges='gesture_subject'+str(s)+'_channel'+str(ch)\n",
    "                    mat_out[key_ges]=gesture_split[ges]\n",
    "                    sio.savemat(path_out, mat_out) \n",
    "                else:\n",
    "                    \n",
    "                    path_out=os.path.join(OUT_PATH,\n",
    "                                    'Gesture'+str(ges)+'.mat')\n",
    "                    mat_out=sio.loadmat(path_out)\n",
    "                    key_ges='gesture_subject'+str(s)+'_channel'+str(ch)\n",
    "                    mat_out[key_ges]=gesture_split[ges]\n",
    "                    key_onset='onset_subject'+str(s)+'_channel'+str(ch)\n",
    "                    mat_out[key_onset]=onset_split[ges]\n",
    "                    sio.savemat(path_out, mat_out) \n",
    "    return\n",
    "\n",
    "        \n",
    "\n",
    "                        "
   ]
  },
  {
   "cell_type": "code",
   "execution_count": 370,
   "id": "92dc3344-5e54-40f1-bf61-79cb2a64d495",
   "metadata": {},
   "outputs": [],
   "source": [
    "Build_Group1_Mat()"
   ]
  },
  {
   "cell_type": "markdown",
   "id": "f51a88b5-d4eb-4a5f-8c40-12bfe3ae51d0",
   "metadata": {},
   "source": [
    "#### process group2 gesture"
   ]
  },
  {
   "cell_type": "code",
   "execution_count": 371,
   "id": "c8878489-c17a-46e3-8e2c-fc542f7cf15d",
   "metadata": {},
   "outputs": [],
   "source": [
    "#group 2 contains 17 gestures plus rest, should change its label to 13-29 in my database\n",
    "def Build_Group2_Mat():\n",
    "    for s in SUBJECT:\n",
    "        path_2=os.path.join(BASE_PATH,\n",
    "                            'raw data',\n",
    "                            'nina-db1',\n",
    "                            'group2',\n",
    "                            'S'+str(s)+'.mat')\n",
    "        my_mat=sio.loadmat(path_2)\n",
    "        my_emg=my_mat['emg']\n",
    "        my_label=np.array([j for [j] in my_mat['restimulus'].astype(np.int32)])\n",
    "        my_subject=my_mat['subject'].astype(np.int32)[0,0]\n",
    "         ####\n",
    "        channel_split=Split_Channel(my_emg) #split signal into channels ,return as a ndarray\n",
    "        ####\n",
    "        #Draw_signal(channel_split,s) #draw the raw signal by channel\n",
    "        ####\n",
    "        for ch in range(channel_split.shape[0]):\n",
    "            gesture_split,onset_split=Split_Gesture(channel_split[ch,:],my_label,NUM_GESTURE_G2)\n",
    "            for ges in range(NUM_GESTURE_G2):\n",
    "                if ges==0:\n",
    "                    path_out=os.path.join(OUT_PATH,\n",
    "                                    'Gesture'+str(ges)+'.mat')\n",
    "                    mat_out=sio.loadmat(path_out)\n",
    "                    key_ges='gesture_subject'+str(s)+'_channel'+str(ch)\n",
    "                    old_ges=mat_out[key_ges]\n",
    "                    add_ges=gesture_split[ges]\n",
    "                    new_ges=Build_Large_list(old_ges,add_ges)\n",
    "                    mat_out[key_ges]=new_ges\n",
    "                    sio.savemat(path_out, mat_out)\n",
    "                else:\n",
    "                    path_out=os.path.join(OUT_PATH,\n",
    "                                    'Gesture'+str(ges+12)+'.mat')\n",
    "                    mat_out=sio.loadmat(path_out)\n",
    "                    key_ges='gesture_subject'+str(s)+'_channel'+str(ch)\n",
    "                    mat_out[key_ges]=gesture_split[ges]\n",
    "                    key_onset='onset_subject'+str(s)+'_channel'+str(ch)\n",
    "                    mat_out[key_onset]=onset_split[ges]\n",
    "                    sio.savemat(path_out, mat_out)\n",
    "    return\n",
    "            \n",
    "        \n",
    "    "
   ]
  },
  {
   "cell_type": "code",
   "execution_count": 372,
   "id": "ad2b4bb2-9d85-4822-85c1-adf6c544a117",
   "metadata": {},
   "outputs": [],
   "source": [
    "Build_Group2_Mat()"
   ]
  },
  {
   "cell_type": "markdown",
   "id": "d53eec5e-7d5b-47c9-a516-d3b3edf7dfa1",
   "metadata": {},
   "source": [
    "#### process group3 gesture"
   ]
  },
  {
   "cell_type": "code",
   "execution_count": 373,
   "id": "3cae6ffd-b8d8-45ae-80ce-93f3a436c786",
   "metadata": {},
   "outputs": [],
   "source": [
    "#group 3 contains 23 gestures plus rest, should change its label to 30-52 in my database\n",
    "def Build_Group3_Mat():\n",
    "    for s in SUBJECT:\n",
    "        path_3=os.path.join(BASE_PATH,\n",
    "                            'raw data',\n",
    "                            'nina-db1',\n",
    "                            'group3',\n",
    "                            'S'+str(s)+'.mat')\n",
    "        my_mat=sio.loadmat(path_3)\n",
    "        my_emg=my_mat['emg']\n",
    "        my_label=np.array([j for [j] in my_mat['restimulus'].astype(np.int32)])\n",
    "        my_subject=my_mat['subject'].astype(np.int32)[0,0]\n",
    "         ####\n",
    "        channel_split=Split_Channel(my_emg) #split signal into channels ,return as a ndarray\n",
    "        ####\n",
    "        #Draw_signal(channel_split,s) #draw the raw signal by channel\n",
    "        ####\n",
    "        for ch in range(channel_split.shape[0]):\n",
    "            gesture_split,onset_split=Split_Gesture(channel_split[ch,:],my_label,NUM_GESTURE_G3)\n",
    "            for ges in range(NUM_GESTURE_G3):\n",
    "                if ges==0:\n",
    "                    path_out=os.path.join(OUT_PATH,\n",
    "                                    'Gesture'+str(ges)+'.mat')\n",
    "                    mat_out=sio.loadmat(path_out)\n",
    "                    key_ges='gesture_subject'+str(s)+'_channel'+str(ch)\n",
    "                    old_ges=mat_out[key_ges]\n",
    "                    add_ges=gesture_split[ges]\n",
    "                    new_ges=Build_Large_list(old_ges,add_ges)\n",
    "                    mat_out[key_ges]=new_ges\n",
    "                    sio.savemat(path_out, mat_out)\n",
    "                else:\n",
    "                    path_out=os.path.join(OUT_PATH,\n",
    "                                    'Gesture'+str(ges+29)+'.mat')\n",
    "                    mat_out=sio.loadmat(path_out)\n",
    "                    key_ges='gesture_subject'+str(s)+'_channel'+str(ch)\n",
    "                    mat_out[key_ges]=gesture_split[ges]\n",
    "                    key_onset='onset_subject'+str(s)+'_channel'+str(ch)\n",
    "                    mat_out[key_onset]=onset_split[ges]\n",
    "                    sio.savemat(path_out, mat_out)"
   ]
  },
  {
   "cell_type": "code",
   "execution_count": 374,
   "id": "f3eb5425-22e2-4612-af43-340231db7ba3",
   "metadata": {},
   "outputs": [],
   "source": [
    "Build_Group3_Mat()"
   ]
  },
  {
   "cell_type": "code",
   "execution_count": null,
   "id": "a406f045-df3e-4da9-bd45-609653ebefb4",
   "metadata": {},
   "outputs": [],
   "source": []
  },
  {
   "cell_type": "code",
   "execution_count": null,
   "id": "4b796aa7-8d54-4f9f-adaa-b24060a17c68",
   "metadata": {},
   "outputs": [],
   "source": []
  },
  {
   "cell_type": "code",
   "execution_count": 334,
   "id": "a6b32b7f-36b3-4da0-a0d9-7fd09ab18fbb",
   "metadata": {},
   "outputs": [],
   "source": [
    "def Split_Channel(signal):\n",
    "    channel_set=[]\n",
    "    for i in range(signal.shape[1]):\n",
    "        channel_set.append(list(signal[:,i]))\n",
    "    return np.array(channel_set)"
   ]
  },
  {
   "cell_type": "code",
   "execution_count": 335,
   "id": "282cfd51-5a0d-4f97-88b4-91a19e50e1e3",
   "metadata": {},
   "outputs": [],
   "source": [
    "def Draw_signal(signal,s):\n",
    "    plt.figure(figsize=(40,5))\n",
    "    for ch in range(signal.shape[0]):\n",
    "        plt.plot(signal[ch,:],label='channel'+str(ch+1))\n",
    "    plt.title('signal for subject'+str(s))\n",
    "    plt.xlabel('n (sample point index)')\n",
    "    plt.ylabel('Intensity')\n",
    "    plt.legend(loc=\"upper right\")\n",
    "    \n",
    "   \n",
    "    \n",
    "    "
   ]
  },
  {
   "cell_type": "code",
   "execution_count": 336,
   "id": "ab40cf0c-4640-4dbd-8f4c-e4518be753f5",
   "metadata": {},
   "outputs": [],
   "source": [
    "def Split_Gesture(signal,label,num_gesture):\n",
    "    if signal.shape!=label.shape:\n",
    "        print('wrong signal or label shape')\n",
    "        return \n",
    "    else:\n",
    "        gesture_set=[[] for _ in range(num_gesture)]\n",
    "        onset_set=[[] for _ in range(num_gesture)]\n",
    "        count=np.zeros(num_gesture)\n",
    "        for i in range(signal.shape[0]):\n",
    "            gesture_set[label[i]].append(signal[i])\n",
    "            if i >0:\n",
    "                if (label[i]!=0 and label[i-1]==0) or (label[i]!=0 and label[i-1]!=0):\n",
    "                    count[label[i]]+=1\n",
    "                if label[i]==0 and label[i-1]!=0:\n",
    "                    onset_set[label[i-1]].append(count[label[i-1]])\n",
    "                    count[label[i-1]]=0\n",
    "                \n",
    "                    \n",
    "                    \n",
    "#         gesture_set=[np.array(ges,dtype=object) for ges in gesture_set]\n",
    "#         onset_set=[np.array(ges,dtype=object).astype(np.int32) for ges in onset_set]\n",
    "        \n",
    "#     return np.array(gesture_set,dtype=object),np.array(onset_set,dtype=object)\n",
    "    return gesture_set,onset_set\n",
    "            \n",
    "    \n",
    "    \n",
    "    "
   ]
  },
  {
   "cell_type": "code",
   "execution_count": 360,
   "id": "5a86bb1b-5370-4aca-a2ed-884425cb140a",
   "metadata": {},
   "outputs": [],
   "source": [
    "def Build_Large_list(old,add):\n",
    "    return np.append(old,add)"
   ]
  },
  {
   "cell_type": "code",
   "execution_count": null,
   "id": "0d5bfb22-2b9c-497a-9bb3-e782ea180859",
   "metadata": {},
   "outputs": [],
   "source": []
  },
  {
   "cell_type": "code",
   "execution_count": null,
   "id": "8cc1dbf9-92d4-4c7f-8e87-e633c27437c6",
   "metadata": {},
   "outputs": [],
   "source": []
  },
  {
   "cell_type": "code",
   "execution_count": 181,
   "id": "db222ef5-92bd-4600-9af9-fb6e492fd485",
   "metadata": {},
   "outputs": [
    {
     "name": "stdout",
     "output_type": "stream",
     "text": [
      "dict_keys(['__header__', '__version__', '__globals__', 'subject', 'exercise', 'stimulus', 'emg', 'glove', 'restimulus', 'repetition', 'rerepetition'])\n"
     ]
    }
   ],
   "source": [
    "print(my_mat.keys())"
   ]
  },
  {
   "cell_type": "code",
   "execution_count": 194,
   "id": "ffcef86e-0181-4e5e-a975-782ff73b6059",
   "metadata": {},
   "outputs": [
    {
     "data": {
      "text/plain": [
       "{'__header__': b'MATLAB 5.0 MAT-file, Platform: MACI64, Created on: Mon Jul 28 14:23:25 2014',\n",
       " '__version__': '1.0',\n",
       " '__globals__': [],\n",
       " 'subject': array([[27]], dtype=uint8),\n",
       " 'exercise': array([[1]], dtype=uint8),\n",
       " 'stimulus': array([[0],\n",
       "        [0],\n",
       "        [0],\n",
       "        ...,\n",
       "        [0],\n",
       "        [0],\n",
       "        [0]], dtype=uint8),\n",
       " 'emg': array([[0.0024, 0.0049, 0.0049, ..., 0.0024, 0.0024, 0.0708],\n",
       "        [0.0049, 0.0024, 0.0024, ..., 0.0049, 0.0024, 0.0635],\n",
       "        [0.0024, 0.0049, 0.0024, ..., 0.0024, 0.0049, 0.0586],\n",
       "        ...,\n",
       "        [0.0684, 0.0049, 0.0049, ..., 0.1416, 0.0024, 0.0024],\n",
       "        [0.0781, 0.0024, 0.0049, ..., 0.1538, 0.0049, 0.0024],\n",
       "        [0.083 , 0.0024, 0.0024, ..., 0.1611, 0.0049, 0.0049]]),\n",
       " 'glove': array([[129., 105., 125., ..., 130., 137., 119.],\n",
       "        [129., 105., 125., ..., 130., 137., 119.],\n",
       "        [129., 105., 125., ..., 130., 137., 119.],\n",
       "        ...,\n",
       "        [138., 103., 120., ..., 177., 139., 113.],\n",
       "        [138., 103., 120., ..., 177., 139., 113.],\n",
       "        [138., 103., 120., ..., 177., 139., 113.]]),\n",
       " 'restimulus': array([[0],\n",
       "        [0],\n",
       "        [0],\n",
       "        ...,\n",
       "        [0],\n",
       "        [0],\n",
       "        [0]], dtype=uint8),\n",
       " 'repetition': array([[0],\n",
       "        [0],\n",
       "        [0],\n",
       "        ...,\n",
       "        [0],\n",
       "        [0],\n",
       "        [0]], dtype=uint8),\n",
       " 'rerepetition': array([[0],\n",
       "        [0],\n",
       "        [0],\n",
       "        ...,\n",
       "        [0],\n",
       "        [0],\n",
       "        [0]], dtype=uint8)}"
      ]
     },
     "execution_count": 194,
     "metadata": {},
     "output_type": "execute_result"
    }
   ],
   "source": [
    "my_mat"
   ]
  },
  {
   "cell_type": "code",
   "execution_count": 77,
   "id": "8e03ff76-621b-446b-b984-a07bb292be1f",
   "metadata": {},
   "outputs": [
    {
     "data": {
      "text/plain": [
       "array([0.0024, 0.0049, 0.0024, ..., 0.0684, 0.0781, 0.083 ])"
      ]
     },
     "execution_count": 77,
     "metadata": {},
     "output_type": "execute_result"
    }
   ],
   "source": [
    "my_mat['emg'][:,0]\n"
   ]
  },
  {
   "cell_type": "code",
   "execution_count": 70,
   "id": "2ad39ce3-ade1-45fb-b16a-4c99b074f2b9",
   "metadata": {},
   "outputs": [
    {
     "data": {
      "text/plain": [
       "array([[0.0024, 0.0049, 0.0049, ..., 0.0024, 0.0024, 0.0708],\n",
       "       [0.0049, 0.0024, 0.0024, ..., 0.0049, 0.0024, 0.0635],\n",
       "       [0.0024, 0.0049, 0.0024, ..., 0.0024, 0.0049, 0.0586],\n",
       "       ...,\n",
       "       [0.0684, 0.0049, 0.0049, ..., 0.1416, 0.0024, 0.0024],\n",
       "       [0.0781, 0.0024, 0.0049, ..., 0.1538, 0.0049, 0.0024],\n",
       "       [0.083 , 0.0024, 0.0024, ..., 0.1611, 0.0049, 0.0049]])"
      ]
     },
     "execution_count": 70,
     "metadata": {},
     "output_type": "execute_result"
    }
   ],
   "source": [
    "my_mat['emg']"
   ]
  },
  {
   "cell_type": "code",
   "execution_count": 284,
   "id": "0372c160-1d4b-49df-8ef7-ed52709288af",
   "metadata": {},
   "outputs": [
    {
     "data": {
      "text/plain": [
       "array([0.0024, 0.0049, 0.0024, ..., 0.0684, 0.0781, 0.083 ])"
      ]
     },
     "execution_count": 284,
     "metadata": {},
     "output_type": "execute_result"
    }
   ],
   "source": [
    "Split_Channel(my_mat['emg'])[0,:]"
   ]
  },
  {
   "cell_type": "code",
   "execution_count": 285,
   "id": "83f5adc5-c6d1-4ed6-a04a-46a5d8dfd7ad",
   "metadata": {},
   "outputs": [
    {
     "data": {
      "text/plain": [
       "array([0, 0, 0, ..., 0, 0, 0], dtype=uint8)"
      ]
     },
     "execution_count": 285,
     "metadata": {},
     "output_type": "execute_result"
    }
   ],
   "source": [
    "my_label=[i for [i] in my_mat['restimulus']]\n",
    "np.array(my_label)"
   ]
  },
  {
   "cell_type": "code",
   "execution_count": 286,
   "id": "6cd3078e-63b4-4bc4-8f4d-2f0044d32582",
   "metadata": {},
   "outputs": [
    {
     "data": {
      "text/plain": [
       "27"
      ]
     },
     "execution_count": 286,
     "metadata": {},
     "output_type": "execute_result"
    }
   ],
   "source": [
    "my_mat['subject'].astype(np.int32)[0,0]"
   ]
  },
  {
   "cell_type": "code",
   "execution_count": 287,
   "id": "15cb1104-d834-41e1-a7f0-985f15a96c11",
   "metadata": {},
   "outputs": [
    {
     "data": {
      "text/plain": [
       "array([2], dtype=uint8)"
      ]
     },
     "execution_count": 287,
     "metadata": {},
     "output_type": "execute_result"
    }
   ],
   "source": [
    "my_mat['repetition'][1500]"
   ]
  },
  {
   "cell_type": "code",
   "execution_count": 288,
   "id": "ea30251d-c8e6-454d-88ff-318c7cf2d6ef",
   "metadata": {},
   "outputs": [],
   "source": [
    "ges,onset=Split_Gesture(Split_Channel(my_mat['emg'])[0,:],np.array(my_label),NUM_GESTURE_G1)"
   ]
  },
  {
   "cell_type": "code",
   "execution_count": 311,
   "id": "6a3cf842-05dd-46c6-a3a3-1de60bf66e4a",
   "metadata": {},
   "outputs": [
    {
     "data": {
      "text/plain": [
       "46020"
      ]
     },
     "execution_count": 311,
     "metadata": {},
     "output_type": "execute_result"
    }
   ],
   "source": [
    "len(ges[0])"
   ]
  },
  {
   "cell_type": "code",
   "execution_count": 298,
   "id": "e70ad9d9-7afd-4d9f-ac90-e4cf84bf2e42",
   "metadata": {},
   "outputs": [
    {
     "data": {
      "text/plain": [
       "0.1587"
      ]
     },
     "execution_count": 298,
     "metadata": {},
     "output_type": "execute_result"
    }
   ],
   "source": [
    "ges[1][-1]"
   ]
  },
  {
   "cell_type": "code",
   "execution_count": 365,
   "id": "0de716a3-bc42-4cea-8796-407cdf3694ec",
   "metadata": {},
   "outputs": [
    {
     "data": {
      "text/plain": [
       "[[],\n",
       " [498.0, 365.0, 314.0, 273.0, 306.0, 371.0, 333.0, 519.0, 384.0, 311.0],\n",
       " [241.0, 367.0, 510.0, 388.0, 296.0, 337.0, 332.0, 598.0, 505.0, 488.0],\n",
       " [450.0, 590.0, 505.0, 501.0, 447.0, 590.0, 591.0, 589.0, 347.0, 508.0],\n",
       " [271.0, 594.0, 588.0, 589.0, 570.0, 306.0, 239.0, 405.0, 500.0, 398.0],\n",
       " [514.0, 274.0, 413.0, 308.0, 279.0, 359.0, 373.0, 263.0, 271.0, 350.0],\n",
       " [448.0, 594.0, 555.0, 441.0, 594.0, 426.0, 549.0, 413.0, 424.0, 439.0],\n",
       " [296.0, 310.0, 305.0, 331.0, 323.0, 279.0, 428.0, 367.0, 370.0, 188.0],\n",
       " [595.0, 586.0, 596.0, 595.0, 488.0, 594.0, 600.0, 595.0, 598.0, 595.0],\n",
       " [591.0, 477.0, 591.0, 591.0, 595.0, 591.0, 591.0, 590.0, 329.0, 591.0],\n",
       " [588.0, 592.0, 589.0, 585.0, 419.0, 590.0, 535.0, 595.0, 590.0, 596.0],\n",
       " [308.0, 376.0, 591.0, 274.0, 547.0, 419.0, 545.0, 592.0, 545.0, 545.0],\n",
       " [453.0, 511.0, 394.0, 374.0, 344.0, 439.0, 434.0, 422.0, 530.0, 429.0]]"
      ]
     },
     "execution_count": 365,
     "metadata": {},
     "output_type": "execute_result"
    }
   ],
   "source": [
    "onset"
   ]
  },
  {
   "cell_type": "code",
   "execution_count": 261,
   "id": "71547749-8f18-4720-ab46-dd9fa48d670a",
   "metadata": {},
   "outputs": [],
   "source": [
    "a=dict()\n",
    "a['1']=2"
   ]
  },
  {
   "cell_type": "code",
   "execution_count": 262,
   "id": "49220c63-7cce-4c75-beac-637dc9355988",
   "metadata": {},
   "outputs": [
    {
     "data": {
      "text/plain": [
       "{'1': 2}"
      ]
     },
     "execution_count": 262,
     "metadata": {},
     "output_type": "execute_result"
    }
   ],
   "source": [
    "a"
   ]
  },
  {
   "cell_type": "code",
   "execution_count": null,
   "id": "234ae7c4-032f-417c-a56c-f40e8c55009e",
   "metadata": {},
   "outputs": [],
   "source": []
  }
 ],
 "metadata": {
  "kernelspec": {
   "display_name": "Python 3",
   "language": "python",
   "name": "python3"
  },
  "language_info": {
   "codemirror_mode": {
    "name": "ipython",
    "version": 3
   },
   "file_extension": ".py",
   "mimetype": "text/x-python",
   "name": "python",
   "nbconvert_exporter": "python",
   "pygments_lexer": "ipython3",
   "version": "3.8.8"
  }
 },
 "nbformat": 4,
 "nbformat_minor": 5
}
