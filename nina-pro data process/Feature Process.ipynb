{
 "cells": [
  {
   "cell_type": "markdown",
   "id": "57b418ba-8ba3-43da-8064-b51f3688eee1",
   "metadata": {},
   "source": [
    "## feature process "
   ]
  },
  {
   "cell_type": "code",
   "execution_count": 94,
   "id": "28deb9e9-9512-483c-adf2-c75e1a914c29",
   "metadata": {},
   "outputs": [],
   "source": [
    "import os\n",
    "import scipy.io as sio\n",
    "import numpy as np\n",
    "import matplotlib\n",
    "import matplotlib.pyplot as plt\n",
    "import pandas as pd \n",
    "import numpy as np"
   ]
  },
  {
   "cell_type": "markdown",
   "id": "052cdb7a-b10e-48e1-84a4-c4589984edac",
   "metadata": {},
   "source": [
    "### parameter"
   ]
  },
  {
   "cell_type": "code",
   "execution_count": 95,
   "id": "e14e2fbb-0812-449e-869f-a2d45b276573",
   "metadata": {},
   "outputs": [],
   "source": [
    "PATH_FILE='C:/Users/11488/Desktop/my semg/nina-pro data process/my feature'\n",
    "NUM_GESTURE=53\n",
    "DB_FRAMERATE=100\n",
    "TRIALS=10\n",
    "NUM_SUBJECT=27\n",
    "NUM_CHANNEL=10\n",
    "\n",
    "window_length_ms = 200\n",
    "window_stride_ms = 10\n",
    "window = window_length_ms*DB_FRAMERATE/1000\n",
    "stride = window_stride_ms*DB_FRAMERATE/1000\n",
    "##see paper Feature reduction and selection for EMG signal classification for more detail\n",
    "Feature_List=['emg_iemg','emg_mav','emg_mav1','emg_mav2','emg_ssi','emg_var','emg_mavslpphinyomark','emg_mavslp10','emg_mavslpframewise','emg_rms',\n",
    "              'emg_mavtm3','emg_mavtm4','emg_mavtm5','emg_vorder','emg_log','emg_wl','emg_aac','emg_zc','emg_wl_dasdv','emg_afb9','emg_myop','emg_wamp','emg_hemg15','emg_hemg20',\n",
    "              'emg_mhw_energy','emg_mtw_energy','emg_arc','emg_cc','emg_mnf_MEDIAN_POWER','emg_mdf_MEDIAN_POWER','emg_pkf','emg_mnp','emg_ttp','emg_smn1','emg_smn2','emg_smn3',\n",
    "              'emg_fr','emg_psr','emg_vcf'\n",
    "             ]"
   ]
  },
  {
   "cell_type": "code",
   "execution_count": null,
   "id": "5cd950e5-92f9-4818-a092-8e83b9aadfc8",
   "metadata": {},
   "outputs": [],
   "source": [
    "\n"
   ]
  },
  {
   "cell_type": "code",
   "execution_count": 119,
   "id": "6ae378ab-8c72-4b80-9405-d858ea0790fc",
   "metadata": {},
   "outputs": [
    {
     "data": {
      "text/plain": [
       "39"
      ]
     },
     "execution_count": 119,
     "metadata": {},
     "output_type": "execute_result"
    }
   ],
   "source": [
    "len(Feature_List)"
   ]
  },
  {
   "cell_type": "code",
   "execution_count": null,
   "id": "40c96019-b7bb-4598-828b-14ca9dabd247",
   "metadata": {},
   "outputs": [],
   "source": []
  },
  {
   "cell_type": "code",
   "execution_count": null,
   "id": "07461056-8c20-4b07-bfcb-1b28113c4632",
   "metadata": {},
   "outputs": [],
   "source": []
  },
  {
   "cell_type": "code",
   "execution_count": 96,
   "id": "b869da59-2522-4044-9341-f780052bff4d",
   "metadata": {},
   "outputs": [],
   "source": [
    "# my_mat.keys()"
   ]
  },
  {
   "cell_type": "code",
   "execution_count": null,
   "id": "ac9f641f-23d5-42f2-80da-b60b7524e30f",
   "metadata": {},
   "outputs": [],
   "source": []
  },
  {
   "cell_type": "markdown",
   "id": "4ab2c033-9273-4f04-937b-4f3d4a3212ff",
   "metadata": {},
   "source": [
    "### model data and label process"
   ]
  },
  {
   "cell_type": "code",
   "execution_count": 121,
   "id": "0074c5e1-e590-4a9c-9c36-972d7dba20b9",
   "metadata": {},
   "outputs": [],
   "source": [
    "data=np.zeros((14310,39,10,20))\n",
    "label=[]\n",
    "for g in range(NUM_GESTURE):\n",
    "    for s in range(NUM_SUBJECT):\n",
    "        for t in range(TRIALS):\n",
    "            mat_path=os.path.join(PATH_FILE,\n",
    "                                'Subject'+str(s+1),\n",
    "                                'trial'+str(t),\n",
    "                                 'Gesture'+str(g)+'.mat'\n",
    "                                 )\n",
    "            \n",
    "            my_mat=sio.loadmat(mat_path)\n",
    "            for i in range(len(Feature_List)):\n",
    "                if (i >=6 and i<=8) or (i>=22 and i<=27): #\n",
    "                    data[g*270+10*s+t,i,:,:]=Mean_reshape(my_mat[Feature_List[i]])\n",
    "                else:\n",
    "                    \n",
    "                    data[g*270+10*s+t,i,:,:]=my_mat[Feature_List[i]]\n",
    "            label.append(g)\n",
    "            \n",
    "            \n",
    "            \n",
    "            \n",
    "            "
   ]
  },
  {
   "cell_type": "code",
   "execution_count": 122,
   "id": "3c59f045-3ebc-4f08-a9a6-64c666056054",
   "metadata": {},
   "outputs": [],
   "source": [
    "label=np.array(label)"
   ]
  },
  {
   "cell_type": "code",
   "execution_count": 123,
   "id": "0954d4fa-a7e3-479b-8d0f-b569fba5846f",
   "metadata": {},
   "outputs": [],
   "source": [
    "def Mean_reshape(signal):\n",
    "    shape=signal.shape\n",
    "    n=shape[-1]\n",
    "    res=np.zeros((10,20))\n",
    "    for i in range(shape[0]):\n",
    "        for j in range(shape[1]):\n",
    "            res[i][j]=signal[i][j].sum()/n\n",
    "    return res"
   ]
  },
  {
   "cell_type": "code",
   "execution_count": 127,
   "id": "991d6b9d-e6cb-48c4-8fe0-f33b5864f734",
   "metadata": {},
   "outputs": [
    {
     "data": {
      "text/plain": [
       "(14310,)"
      ]
     },
     "execution_count": 127,
     "metadata": {},
     "output_type": "execute_result"
    }
   ],
   "source": [
    "data.shape\n",
    "label.shape"
   ]
  },
  {
   "cell_type": "code",
   "execution_count": 129,
   "id": "9ddf62fd-10cc-4b26-9a15-5d9851f9df0f",
   "metadata": {},
   "outputs": [],
   "source": [
    "np.save('C:/Users/11488/Desktop/my semg/nina-pro data process/data.npy', data)"
   ]
  },
  {
   "cell_type": "code",
   "execution_count": null,
   "id": "319ae6ed-0701-4f45-b3de-c4a0c1fa19c5",
   "metadata": {},
   "outputs": [],
   "source": []
  },
  {
   "cell_type": "code",
   "execution_count": 36,
   "id": "53453f6c-73a0-4dcb-a3fc-aad3bd66ec66",
   "metadata": {},
   "outputs": [
    {
     "data": {
      "text/plain": [
       "array([3.60988254, 1.72779835, 0.91110267, 1.3017315 , 0.62208357,\n",
       "       1.49854906, 0.64441922, 1.30177234, 0.73568912, 0.36532069,\n",
       "       1.99741338, 0.64663808, 0.75970916, 0.51384597, 1.31395222,\n",
       "       1.37953528, 0.52814168, 2.39722405, 0.53325163, 4.13706092])"
      ]
     },
     "execution_count": 36,
     "metadata": {},
     "output_type": "execute_result"
    }
   ],
   "source": []
  },
  {
   "cell_type": "code",
   "execution_count": 62,
   "id": "f3d069ac-2e37-42fa-aae9-f64225e52775",
   "metadata": {},
   "outputs": [],
   "source": [
    "data=np.zeros((14310,40,10,20))"
   ]
  },
  {
   "cell_type": "code",
   "execution_count": 63,
   "id": "2fab8ce4-9d75-4de2-9c78-20a6979a9a3a",
   "metadata": {},
   "outputs": [
    {
     "data": {
      "text/plain": [
       "(14310, 40, 10, 20)"
      ]
     },
     "execution_count": 63,
     "metadata": {},
     "output_type": "execute_result"
    }
   ],
   "source": []
  },
  {
   "cell_type": "code",
   "execution_count": 88,
   "id": "a12ecc01-82f0-46b8-a216-2e9991fb52dc",
   "metadata": {},
   "outputs": [],
   "source": [
    "a=np.zeros((3,4))\n",
    "a[0,1]=3"
   ]
  },
  {
   "cell_type": "code",
   "execution_count": 92,
   "id": "6a349f6c-9a53-4582-b8e8-36a6464936f9",
   "metadata": {},
   "outputs": [
    {
     "data": {
      "text/plain": [
       "array([3., 0., 0.])"
      ]
     },
     "execution_count": 92,
     "metadata": {},
     "output_type": "execute_result"
    }
   ],
   "source": [
    "a.sum(axis=1)"
   ]
  },
  {
   "cell_type": "code",
   "execution_count": 91,
   "id": "45717f4f-f28c-4bdd-9786-743f62d6947a",
   "metadata": {},
   "outputs": [
    {
     "data": {
      "text/plain": [
       "array([[0., 3., 0., 0.],\n",
       "       [0., 0., 0., 0.],\n",
       "       [0., 0., 0., 0.]])"
      ]
     },
     "execution_count": 91,
     "metadata": {},
     "output_type": "execute_result"
    }
   ],
   "source": [
    "a"
   ]
  },
  {
   "cell_type": "code",
   "execution_count": null,
   "id": "b2818a0b-179c-445d-b927-bdf3f7fa7eb8",
   "metadata": {},
   "outputs": [],
   "source": []
  }
 ],
 "metadata": {
  "kernelspec": {
   "display_name": "Python 3",
   "language": "python",
   "name": "python3"
  },
  "language_info": {
   "codemirror_mode": {
    "name": "ipython",
    "version": 3
   },
   "file_extension": ".py",
   "mimetype": "text/x-python",
   "name": "python",
   "nbconvert_exporter": "python",
   "pygments_lexer": "ipython3",
   "version": "3.8.8"
  }
 },
 "nbformat": 4,
 "nbformat_minor": 5
}
