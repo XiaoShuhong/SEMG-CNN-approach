{
 "cells": [
  {
   "cell_type": "markdown",
   "id": "57b418ba-8ba3-43da-8064-b51f3688eee1",
   "metadata": {},
   "source": [
    "## feature process "
   ]
  },
  {
   "cell_type": "code",
   "execution_count": 1,
   "id": "28deb9e9-9512-483c-adf2-c75e1a914c29",
   "metadata": {},
   "outputs": [],
   "source": [
    "import os\n",
    "import scipy.io as sio\n",
    "import numpy as np\n",
    "import matplotlib\n",
    "import matplotlib.pyplot as plt\n",
    "from joblib import Parallel, delayed\n",
    "from scipy.signal import butter, lfilter, filtfilt\n",
    "import emg_features"
   ]
  },
  {
   "cell_type": "markdown",
   "id": "052cdb7a-b10e-48e1-84a4-c4589984edac",
   "metadata": {},
   "source": [
    "### parameter"
   ]
  },
  {
   "cell_type": "code",
   "execution_count": 8,
   "id": "e14e2fbb-0812-449e-869f-a2d45b276573",
   "metadata": {},
   "outputs": [],
   "source": [
    "PATH_FILE='C:/Users/11488/Desktop/my semg/nina-pro data process/my feature'"
   ]
  },
  {
   "cell_type": "code",
   "execution_count": null,
   "id": "5cd950e5-92f9-4818-a092-8e83b9aadfc8",
   "metadata": {},
   "outputs": [],
   "source": []
  },
  {
   "cell_type": "code",
   "execution_count": null,
   "id": "6ae378ab-8c72-4b80-9405-d858ea0790fc",
   "metadata": {},
   "outputs": [],
   "source": []
  },
  {
   "cell_type": "code",
   "execution_count": 9,
   "id": "40c96019-b7bb-4598-828b-14ca9dabd247",
   "metadata": {},
   "outputs": [],
   "source": [
    "s=0\n",
    "t=0\n",
    "mat_file=os.path.join(PATH_FILE,\n",
    "                              'Subject'+str(s+1),\n",
    "                                'trial'+str(t),\n",
    "                                 'Gesture1.mat')"
   ]
  },
  {
   "cell_type": "code",
   "execution_count": 10,
   "id": "07461056-8c20-4b07-bfcb-1b28113c4632",
   "metadata": {},
   "outputs": [],
   "source": [
    "my_mat=sio.loadmat(mat_file)"
   ]
  },
  {
   "cell_type": "code",
   "execution_count": 12,
   "id": "b869da59-2522-4044-9341-f780052bff4d",
   "metadata": {},
   "outputs": [
    {
     "data": {
      "text/plain": [
       "dict_keys(['__header__', '__version__', '__globals__', 'emg_iemg', 'emg_mav', 'emg_mav1', 'emg_mav2', 'emg_ssi', 'emg_var', 'emg_sampen', 'emg_mavslpphinyomark', 'emg_mavslp10', 'emg_mavslpframewise', 'emg_rms', 'emg_mavtm3', 'emg_mavtm4', 'emg_mavtm5', 'emg_vorder', 'emg_log', 'emg_wl', 'emg_aac', 'emg_zc', 'emg_wl_dasdv', 'emg_afb9', 'emg_myop', 'emg_wamp', 'emg_hemg15', 'emg_hemg20', 'emg_mhw_energy', 'emg_mtw_energy', 'emg_arc', 'emg_cc', 'emg_mnf_MEDIAN_POWER', 'emg_mdf_MEDIAN_POWER', 'emg_pkf', 'emg_mnp', 'emg_ttp', 'emg_smn1', 'emg_smn2', 'emg_smn3', 'emg_fr', 'emg_psr', 'emg_vcf'])"
      ]
     },
     "execution_count": 12,
     "metadata": {},
     "output_type": "execute_result"
    }
   ],
   "source": [
    "my_mat.keys()"
   ]
  },
  {
   "cell_type": "code",
   "execution_count": null,
   "id": "ac9f641f-23d5-42f2-80da-b60b7524e30f",
   "metadata": {},
   "outputs": [],
   "source": []
  },
  {
   "cell_type": "code",
   "execution_count": null,
   "id": "618c8e47-3f4e-4ce9-9c46-30e944a411be",
   "metadata": {},
   "outputs": [],
   "source": []
  },
  {
   "cell_type": "code",
   "execution_count": null,
   "id": "0074c5e1-e590-4a9c-9c36-972d7dba20b9",
   "metadata": {},
   "outputs": [],
   "source": []
  }
 ],
 "metadata": {
  "kernelspec": {
   "display_name": "Python 3",
   "language": "python",
   "name": "python3"
  },
  "language_info": {
   "codemirror_mode": {
    "name": "ipython",
    "version": 3
   },
   "file_extension": ".py",
   "mimetype": "text/x-python",
   "name": "python",
   "nbconvert_exporter": "python",
   "pygments_lexer": "ipython3",
   "version": "3.8.8"
  }
 },
 "nbformat": 4,
 "nbformat_minor": 5
}
