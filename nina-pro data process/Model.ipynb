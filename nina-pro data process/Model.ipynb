{
  "nbformat": 4,
  "nbformat_minor": 5,
  "metadata": {
    "kernelspec": {
      "display_name": "Python 3",
      "language": "python",
      "name": "python3"
    },
    "language_info": {
      "codemirror_mode": {
        "name": "ipython",
        "version": 3
      },
      "file_extension": ".py",
      "mimetype": "text/x-python",
      "name": "python",
      "nbconvert_exporter": "python",
      "pygments_lexer": "ipython3",
      "version": "3.8.8"
    },
    "colab": {
      "name": "Model.ipynb",
      "provenance": [],
      "collapsed_sections": []
    },
    "accelerator": "GPU"
  },
  "cells": [
    {
      "cell_type": "markdown",
      "metadata": {
        "id": "ebc8399a-df92-409f-b11e-f40f273b444a"
      },
      "source": [
        "## Model"
      ],
      "id": "ebc8399a-df92-409f-b11e-f40f273b444a"
    },
    {
      "cell_type": "code",
      "metadata": {
        "id": "9a3e7cd3-ffb7-4f17-9a8b-2b72c9575748"
      },
      "source": [
        "import os\n",
        "import scipy.io as sio\n",
        "import numpy as np\n",
        "import matplotlib\n",
        "import matplotlib.pyplot as plt\n",
        "import pandas as pd \n",
        "import numpy as np\n",
        "from sklearn.model_selection import train_test_split\n",
        "from keras.layers import Input,Conv2D,BatchNormalization,concatenate,Dense,Dropout\n",
        "from keras.models import Model\n",
        "import datetime, time\n",
        "from keras.callbacks import Callback, ModelCheckpoint\n",
        "import pandas as pd"
      ],
      "id": "9a3e7cd3-ffb7-4f17-9a8b-2b72c9575748",
      "execution_count": 2,
      "outputs": []
    },
    {
      "cell_type": "code",
      "metadata": {
        "colab": {
          "base_uri": "https://localhost:8080/"
        },
        "id": "fBYvsPRoEg8h",
        "outputId": "350fa7f3-eb49-4a27-ef8e-a687ed868e55"
      },
      "source": [
        "from google.colab import drive\n",
        "drive.mount('/content/drive')"
      ],
      "id": "fBYvsPRoEg8h",
      "execution_count": 6,
      "outputs": [
        {
          "output_type": "stream",
          "text": [
            "Mounted at /content/drive\n"
          ],
          "name": "stdout"
        }
      ]
    },
    {
      "cell_type": "code",
      "metadata": {
        "colab": {
          "base_uri": "https://localhost:8080/"
        },
        "id": "8RXmxohWGW-r",
        "outputId": "6c4a07f9-9406-449b-f06c-4bf6eb9cf95b"
      },
      "source": [
        "# !pwd"
      ],
      "id": "8RXmxohWGW-r",
      "execution_count": 5,
      "outputs": [
        {
          "output_type": "stream",
          "text": [
            "/content\n"
          ],
          "name": "stdout"
        }
      ]
    },
    {
      "cell_type": "code",
      "metadata": {
        "id": "Uxn-_FUMGMc6"
      },
      "source": [
        "import os\n",
        "from os.path import expanduser, exists"
      ],
      "id": "Uxn-_FUMGMc6",
      "execution_count": 7,
      "outputs": []
    },
    {
      "cell_type": "code",
      "metadata": {
        "colab": {
          "base_uri": "https://localhost:8080/"
        },
        "id": "WtqEgw74GyHl",
        "outputId": "025ebe04-f3c1-4062-b390-cde1fc853c33"
      },
      "source": [
        "% cd /content/drive/MyDrive/srtp-xsh/\n"
      ],
      "id": "WtqEgw74GyHl",
      "execution_count": 25,
      "outputs": [
        {
          "output_type": "stream",
          "text": [
            "data.npy  label.npy\n"
          ],
          "name": "stdout"
        }
      ]
    },
    {
      "cell_type": "markdown",
      "metadata": {
        "id": "9b47feba-cce2-4dcf-9e27-7a1c120f7821"
      },
      "source": [
        "### parameter"
      ],
      "id": "9b47feba-cce2-4dcf-9e27-7a1c120f7821"
    },
    {
      "cell_type": "code",
      "metadata": {
        "id": "a726e048-f2e0-4d44-8af2-d0efefbcc454"
      },
      "source": [
        "data_path='data.npy'\n",
        "label_path='label.npy'\n",
        "Model_File='model_weight.h5'"
      ],
      "id": "a726e048-f2e0-4d44-8af2-d0efefbcc454",
      "execution_count": 31,
      "outputs": []
    },
    {
      "cell_type": "code",
      "metadata": {
        "id": "b0401558-57e5-42f2-8e4d-055512ef24d6"
      },
      "source": [
        "FEATURE_SHAPE=(10,20,1)\n",
        "BATCH_SIZE=64\n",
        "num_epoch=28\n",
        "VALIDATION_SPLIT=0.1"
      ],
      "id": "b0401558-57e5-42f2-8e4d-055512ef24d6",
      "execution_count": 39,
      "outputs": []
    },
    {
      "cell_type": "markdown",
      "metadata": {
        "id": "5f488065-262a-4d31-93d7-de5cec322af0"
      },
      "source": [
        "### input process"
      ],
      "id": "5f488065-262a-4d31-93d7-de5cec322af0"
    },
    {
      "cell_type": "code",
      "metadata": {
        "id": "7bc56df5-c7b7-4bb4-bad2-238b71e3c336"
      },
      "source": [
        "data=np.load(data_path)\n",
        "label=np.load(label_path)"
      ],
      "id": "7bc56df5-c7b7-4bb4-bad2-238b71e3c336",
      "execution_count": 33,
      "outputs": []
    },
    {
      "cell_type": "code",
      "metadata": {
        "id": "0987dbb2-edec-4cdf-a0c8-b1541cd0b08d",
        "outputId": "35aad86b-304d-40ab-a63b-6f016337a98f"
      },
      "source": [
        "print('data shape:', data.shape)\n",
        "print('label shape:',label.shape)"
      ],
      "id": "0987dbb2-edec-4cdf-a0c8-b1541cd0b08d",
      "execution_count": null,
      "outputs": [
        {
          "output_type": "stream",
          "text": [
            "data shape: (14310, 39, 10, 20)\n",
            "label shape: (14310,)\n"
          ],
          "name": "stdout"
        }
      ]
    },
    {
      "cell_type": "code",
      "metadata": {
        "id": "2e5acc2f-9f89-467a-9e90-4415855973ca"
      },
      "source": [
        "data_train,data_test,label_train,label_test=train_test_split(data, label, test_size=0.20,random_state=42,shuffle=True)"
      ],
      "id": "2e5acc2f-9f89-467a-9e90-4415855973ca",
      "execution_count": null,
      "outputs": []
    },
    {
      "cell_type": "code",
      "metadata": {
        "id": "e9862737-18a9-4480-a81e-94e9cc253cb5"
      },
      "source": [
        ""
      ],
      "id": "e9862737-18a9-4480-a81e-94e9cc253cb5",
      "execution_count": null,
      "outputs": []
    },
    {
      "cell_type": "code",
      "metadata": {
        "id": "c9a53208-84a0-43a8-8e66-8c9db74ea077",
        "outputId": "d47c3a8d-c3a9-4f2a-c2b3-2a2fd9dc7a6a"
      },
      "source": [
        "print('training data shape:',data_train.shape)\n",
        "print('training label shape',label_train.shape,'\\n')\n",
        "\n",
        "print('test data shape:',data_test.shape)\n",
        "print('test label shape:',label_test.shape,'\\n')\n"
      ],
      "id": "c9a53208-84a0-43a8-8e66-8c9db74ea077",
      "execution_count": null,
      "outputs": [
        {
          "output_type": "stream",
          "text": [
            "training data shape: (11448, 39, 10, 20)\n",
            "training label shape (11448,) \n",
            "\n",
            "test data shape: (1431, 39, 10, 20)\n",
            "test label shape: (1431,) \n",
            "\n",
            "validate data shape: (1431, 39, 10, 20)\n",
            "validate label shape: (14310,)\n"
          ],
          "name": "stdout"
        }
      ]
    },
    {
      "cell_type": "code",
      "metadata": {
        "id": "a9b10d73-3d8b-4d84-b807-37e08048ecb1"
      },
      "source": [
        "## as designed now, we have each feature(total 39) as one image, so next is to split each out"
      ],
      "id": "a9b10d73-3d8b-4d84-b807-37e08048ecb1",
      "execution_count": null,
      "outputs": []
    },
    {
      "cell_type": "code",
      "metadata": {
        "id": "c61148a5-5853-481c-a816-713385a3e064"
      },
      "source": [
        ""
      ],
      "id": "c61148a5-5853-481c-a816-713385a3e064",
      "execution_count": null,
      "outputs": []
    },
    {
      "cell_type": "code",
      "metadata": {
        "id": "d0665783-c684-4224-be37-42c7b991ce42"
      },
      "source": [
        ""
      ],
      "id": "d0665783-c684-4224-be37-42c7b991ce42",
      "execution_count": null,
      "outputs": []
    },
    {
      "cell_type": "markdown",
      "metadata": {
        "id": "d12a6524-6354-4557-a593-d595389419bb"
      },
      "source": [
        "### model structure"
      ],
      "id": "d12a6524-6354-4557-a593-d595389419bb"
    },
    {
      "cell_type": "code",
      "metadata": {
        "id": "e6c509fe-dab2-4ec0-8931-229665729286"
      },
      "source": [
        "##input layer\n",
        "F1=Input(shape=FEATURE_SHAPE,batch_size=BATCH_SIZE,name='Feature 1')\n",
        "F2=Input(shape=FEATURE_SHAPE,batch_size=BATCH_SIZE,name='Feature 2')\n",
        "F3=Input(shape=FEATURE_SHAPE,batch_size=BATCH_SIZE,name='Feature 3')\n",
        "F4=Input(shape=FEATURE_SHAPE,batch_size=BATCH_SIZE,name='Feature 4')\n",
        "F5=Input(shape=FEATURE_SHAPE,batch_size=BATCH_SIZE,name='Feature 5')\n",
        "F6=Input(shape=FEATURE_SHAPE,batch_size=BATCH_SIZE,name='Feature 6')\n",
        "F7=Input(shape=FEATURE_SHAPE,batch_size=BATCH_SIZE,name='Feature 7')\n",
        "F8=Input(shape=FEATURE_SHAPE,batch_size=BATCH_SIZE,name='Feature 8')\n",
        "F9=Input(shape=FEATURE_SHAPE,batch_size=BATCH_SIZE,name='Feature 9')\n",
        "F10=Input(shape=FEATURE_SHAPE,batch_size=BATCH_SIZE,name='Feature 10')\n",
        "F11=Input(shape=FEATURE_SHAPE,batch_size=BATCH_SIZE,name='Feature 11')\n",
        "F12=Input(shape=FEATURE_SHAPE,batch_size=BATCH_SIZE,name='Feature 12')\n",
        "F13=Input(shape=FEATURE_SHAPE,batch_size=BATCH_SIZE,name='Feature 13')\n",
        "F14=Input(shape=FEATURE_SHAPE,batch_size=BATCH_SIZE,name='Feature 14')\n",
        "F15=Input(shape=FEATURE_SHAPE,batch_size=BATCH_SIZE,name='Feature 15')\n",
        "F16=Input(shape=FEATURE_SHAPE,batch_size=BATCH_SIZE,name='Feature 16')\n",
        "F17=Input(shape=FEATURE_SHAPE,batch_size=BATCH_SIZE,name='Feature 17')\n",
        "F18=Input(shape=FEATURE_SHAPE,batch_size=BATCH_SIZE,name='Feature 18')\n",
        "F19=Input(shape=FEATURE_SHAPE,batch_size=BATCH_SIZE,name='Feature 19')\n",
        "F20=Input(shape=FEATURE_SHAPE,batch_size=BATCH_SIZE,name='Feature 20')\n",
        "F21=Input(shape=FEATURE_SHAPE,batch_size=BATCH_SIZE,name='Feature 21')\n",
        "F22=Input(shape=FEATURE_SHAPE,batch_size=BATCH_SIZE,name='Feature 22')\n",
        "F23=Input(shape=FEATURE_SHAPE,batch_size=BATCH_SIZE,name='Feature 23')\n",
        "F24=Input(shape=FEATURE_SHAPE,batch_size=BATCH_SIZE,name='Feature 24')\n",
        "F25=Input(shape=FEATURE_SHAPE,batch_size=BATCH_SIZE,name='Feature 25')\n",
        "F26=Input(shape=FEATURE_SHAPE,batch_size=BATCH_SIZE,name='Feature 26')\n",
        "F27=Input(shape=FEATURE_SHAPE,batch_size=BATCH_SIZE,name='Feature 27')\n",
        "F28=Input(shape=FEATURE_SHAPE,batch_size=BATCH_SIZE,name='Feature 28')\n",
        "F29=Input(shape=FEATURE_SHAPE,batch_size=BATCH_SIZE,name='Feature 29')\n",
        "F30=Input(shape=FEATURE_SHAPE,batch_size=BATCH_SIZE,name='Feature 30')\n",
        "F31=Input(shape=FEATURE_SHAPE,batch_size=BATCH_SIZE,name='Feature 31')\n",
        "F32=Input(shape=FEATURE_SHAPE,batch_size=BATCH_SIZE,name='Feature 32')\n",
        "F33=Input(shape=FEATURE_SHAPE,batch_size=BATCH_SIZE,name='Feature 33')\n",
        "F34=Input(shape=FEATURE_SHAPE,batch_size=BATCH_SIZE,name='Feature 34')\n",
        "F35=Input(shape=FEATURE_SHAPE,batch_size=BATCH_SIZE,name='Feature 35')\n",
        "F36=Input(shape=FEATURE_SHAPE,batch_size=BATCH_SIZE,name='Feature 36')\n",
        "F37=Input(shape=FEATURE_SHAPE,batch_size=BATCH_SIZE,name='Feature 37')\n",
        "F38=Input(shape=FEATURE_SHAPE,batch_size=BATCH_SIZE,name='Feature 38')\n",
        "F39=Input(shape=FEATURE_SHAPE,batch_size=BATCH_SIZE,name='Feature 39')"
      ],
      "id": "e6c509fe-dab2-4ec0-8931-229665729286",
      "execution_count": 40,
      "outputs": []
    },
    {
      "cell_type": "code",
      "metadata": {
        "id": "0ea05f09-41cd-4bae-a742-44746ff323e0"
      },
      "source": [
        "## first 3x3 conv\n",
        "C1=Conv2D(64,3,strides=(1, 1), padding='valid',activation='relu')(F1)\n",
        "C1= BatchNormalization()(C1)\n",
        "C2=Conv2D(64,3,strides=(1, 1), padding='valid',activation='relu')(F2)\n",
        "C2= BatchNormalization()(C2)\n",
        "C3=Conv2D(64,3,strides=(1, 1), padding='valid',activation='relu')(F3)\n",
        "C3= BatchNormalization()(C3)\n",
        "C4=Conv2D(64,3,strides=(1, 1), padding='valid',activation='relu')(F4)\n",
        "C4= BatchNormalization()(C4)\n",
        "C5=Conv2D(64,3,strides=(1, 1), padding='valid',activation='relu')(F5)\n",
        "C5= BatchNormalization()(C5)\n",
        "C6=Conv2D(64,3,strides=(1, 1), padding='valid',activation='relu')(F6)\n",
        "C6= BatchNormalization()(C6)\n",
        "C7=Conv2D(64,3,strides=(1, 1), padding='valid',activation='relu')(F7)\n",
        "C7= BatchNormalization()(C7)\n",
        "C8=Conv2D(64,3,strides=(1, 1), padding='valid',activation='relu')(F8)\n",
        "C8= BatchNormalization()(C8)\n",
        "C9=Conv2D(64,3,strides=(1, 1), padding='valid',activation='relu')(F9)\n",
        "C9= BatchNormalization()(C9)\n",
        "C10=Conv2D(64,3,strides=(1, 1), padding='valid',activation='relu')(F10)\n",
        "C10= BatchNormalization()(C10)\n",
        "C11=Conv2D(64,3,strides=(1, 1), padding='valid',activation='relu')(F11)\n",
        "C11= BatchNormalization()(C11)\n",
        "C12=Conv2D(64,3,strides=(1, 1), padding='valid',activation='relu')(F12)\n",
        "C12= BatchNormalization()(C12)\n",
        "C13=Conv2D(64,3,strides=(1, 1), padding='valid',activation='relu')(F13)\n",
        "C13= BatchNormalization()(C13)\n",
        "C14=Conv2D(64,3,strides=(1, 1), padding='valid',activation='relu')(F14)\n",
        "C14= BatchNormalization()(C14)\n",
        "C15=Conv2D(64,3,strides=(1, 1), padding='valid',activation='relu')(F15)\n",
        "C15= BatchNormalization()(C15)\n",
        "C16=Conv2D(64,3,strides=(1, 1), padding='valid',activation='relu')(F16)\n",
        "C16= BatchNormalization()(C16)\n",
        "C17=Conv2D(64,3,strides=(1, 1), padding='valid',activation='relu')(F17)\n",
        "C17= BatchNormalization()(C17)\n",
        "C18=Conv2D(64,3,strides=(1, 1), padding='valid',activation='relu')(F18)\n",
        "C18= BatchNormalization()(C18)\n",
        "C19=Conv2D(64,3,strides=(1, 1), padding='valid',activation='relu')(F19)\n",
        "C19= BatchNormalization()(C19)\n",
        "C20=Conv2D(64,3,strides=(1, 1), padding='valid',activation='relu')(F20)\n",
        "C20= BatchNormalization()(C20)\n",
        "C21=Conv2D(64,3,strides=(1, 1), padding='valid',activation='relu')(F21)\n",
        "C21= BatchNormalization()(C21)\n",
        "C22=Conv2D(64,3,strides=(1, 1), padding='valid',activation='relu')(F22)\n",
        "C22= BatchNormalization()(C22)\n",
        "C23=Conv2D(64,3,strides=(1, 1), padding='valid',activation='relu')(F23)\n",
        "C23= BatchNormalization()(C23)\n",
        "C24=Conv2D(64,3,strides=(1, 1), padding='valid',activation='relu')(F24)\n",
        "C24= BatchNormalization()(C24)\n",
        "C25=Conv2D(64,3,strides=(1, 1), padding='valid',activation='relu')(F25)\n",
        "C25= BatchNormalization()(C25)\n",
        "C26=Conv2D(64,3,strides=(1, 1), padding='valid',activation='relu')(F26)\n",
        "C26= BatchNormalization()(C26)\n",
        "C27=Conv2D(64,3,strides=(1, 1), padding='valid',activation='relu')(F27)\n",
        "C27= BatchNormalization()(C27)\n",
        "C28=Conv2D(64,3,strides=(1, 1), padding='valid',activation='relu')(F28)\n",
        "C28= BatchNormalization()(C28)\n",
        "C29=Conv2D(64,3,strides=(1, 1), padding='valid',activation='relu')(F29)\n",
        "C29= BatchNormalization()(C29)\n",
        "C30=Conv2D(64,3,strides=(1, 1), padding='valid',activation='relu')(F30)\n",
        "C30= BatchNormalization()(C30)\n",
        "C31=Conv2D(64,3,strides=(1, 1), padding='valid',activation='relu')(F31)\n",
        "C31= BatchNormalization()(C31)\n",
        "C32=Conv2D(64,3,strides=(1, 1), padding='valid',activation='relu')(F32)\n",
        "C32= BatchNormalization()(C32)\n",
        "C33=Conv2D(64,3,strides=(1, 1), padding='valid',activation='relu')(F33)\n",
        "C33= BatchNormalization()(C33)\n",
        "C34=Conv2D(64,3,strides=(1, 1), padding='valid',activation='relu')(F34)\n",
        "C34= BatchNormalization()(C34)\n",
        "C35=Conv2D(64,3,strides=(1, 1), padding='valid',activation='relu')(F35)\n",
        "C35= BatchNormalization()(C35)\n",
        "C36=Conv2D(64,3,strides=(1, 1), padding='valid',activation='relu')(F36)\n",
        "C36= BatchNormalization()(C36)\n",
        "C37=Conv2D(64,3,strides=(1, 1), padding='valid',activation='relu')(F37)\n",
        "C37= BatchNormalization()(C37)\n",
        "C38=Conv2D(64,3,strides=(1, 1), padding='valid',activation='relu')(F38)\n",
        "C38= BatchNormalization()(C38)\n",
        "C39=Conv2D(64,3,strides=(1, 1), padding='valid',activation='relu')(F39)\n",
        "C39= BatchNormalization()(C39)"
      ],
      "id": "0ea05f09-41cd-4bae-a742-44746ff323e0",
      "execution_count": 41,
      "outputs": []
    },
    {
      "cell_type": "code",
      "metadata": {
        "id": "73458269"
      },
      "source": [
        "## early fusion \n",
        "early_fusion=concatenate([C1,C2,C3,C4,C5,C6,C7,C8,C9,C10,C11,C12,C13,C14,C15,C16,C17,C18,C19,C20,C21,C22,C23,C24,C25,C26,C27,C28,C29,C30,C31,C32,C33,C34,C35,C36,C37,C38,C39])\n",
        "E=Conv2D(64,3,strides=(1, 1), padding='valid',activation='relu')(early_fusion)\n",
        "E=BatchNormalization()(E)\n",
        "E=Conv2D(64,1,strides=(1, 1), padding='valid',activation='relu')(early_fusion)\n",
        "E=BatchNormalization()(E)\n",
        "E=Conv2D(64,1,strides=(1, 1), padding='valid',activation='relu')(E)\n",
        "E=BatchNormalization()(E)\n",
        "E=Dense(512,activation='relu')(E)\n",
        "E=Dropout(0.25)(E)\n",
        "E=BatchNormalization()(E)\n",
        "E=Dense(128,activation='relu')(E)\n",
        "E=Dropout(0.25)(E)\n",
        "E=BatchNormalization()(E)\n",
        "E=Dense(53,activation='sigmoid')(E)\n",
        "\n",
        "\n"
      ],
      "id": "73458269",
      "execution_count": 43,
      "outputs": []
    },
    {
      "cell_type": "code",
      "metadata": {
        "id": "381b9636"
      },
      "source": [
        "###late fusion\n",
        "L1=Conv2D(64,3,strides=(1, 1), padding='valid',activation='relu')(C1)\n",
        "L1=BatchNormalization()(L1)\n",
        "L2=Conv2D(64,3,strides=(1, 1), padding='valid',activation='relu')(C2)\n",
        "L2=BatchNormalization()(L2)\n",
        "L3=Conv2D(64,3,strides=(1, 1), padding='valid',activation='relu')(C3)\n",
        "L3=BatchNormalization()(L3)\n",
        "L4=Conv2D(64,3,strides=(1, 1), padding='valid',activation='relu')(C4)\n",
        "L4=BatchNormalization()(L4)\n",
        "L5=Conv2D(64,3,strides=(1, 1), padding='valid',activation='relu')(C5)\n",
        "L5=BatchNormalization()(L5)\n",
        "L6=Conv2D(64,3,strides=(1, 1), padding='valid',activation='relu')(C6)\n",
        "L6=BatchNormalization()(L6)\n",
        "L7=Conv2D(64,3,strides=(1, 1), padding='valid',activation='relu')(C7)\n",
        "L7=BatchNormalization()(L7)\n",
        "L8=Conv2D(64,3,strides=(1, 1), padding='valid',activation='relu')(C8)\n",
        "L8=BatchNormalization()(L8)\n",
        "L9=Conv2D(64,3,strides=(1, 1), padding='valid',activation='relu')(C9)\n",
        "L9=BatchNormalization()(L9)\n",
        "L10=Conv2D(64,3,strides=(1, 1), padding='valid',activation='relu')(C10)\n",
        "L10=BatchNormalization()(L10)\n",
        "L11=Conv2D(64,3,strides=(1, 1), padding='valid',activation='relu')(C11)\n",
        "L11=BatchNormalization()(L11)\n",
        "L12=Conv2D(64,3,strides=(1, 1), padding='valid',activation='relu')(C12)\n",
        "L12=BatchNormalization()(L12)\n",
        "L13=Conv2D(64,3,strides=(1, 1), padding='valid',activation='relu')(C13)\n",
        "L13=BatchNormalization()(L13)\n",
        "L14=Conv2D(64,3,strides=(1, 1), padding='valid',activation='relu')(C14)\n",
        "L14=BatchNormalization()(L14)\n",
        "L15=Conv2D(64,3,strides=(1, 1), padding='valid',activation='relu')(C15)\n",
        "L15=BatchNormalization()(L15)\n",
        "L16=Conv2D(64,3,strides=(1, 1), padding='valid',activation='relu')(C16)\n",
        "L16=BatchNormalization()(L16)\n",
        "L17=Conv2D(64,3,strides=(1, 1), padding='valid',activation='relu')(C17)\n",
        "L17=BatchNormalization()(L17)\n",
        "L18=Conv2D(64,3,strides=(1, 1), padding='valid',activation='relu')(C18)\n",
        "L18=BatchNormalization()(L18)\n",
        "L19=Conv2D(64,3,strides=(1, 1), padding='valid',activation='relu')(C19)\n",
        "L19=BatchNormalization()(L19)\n",
        "L20=Conv2D(64,3,strides=(1, 1), padding='valid',activation='relu')(C20)\n",
        "L20=BatchNormalization()(L20)\n",
        "L21=Conv2D(64,3,strides=(1, 1), padding='valid',activation='relu')(C21)\n",
        "L21=BatchNormalization()(L21)\n",
        "L22=Conv2D(64,3,strides=(1, 1), padding='valid',activation='relu')(C22)\n",
        "L22=BatchNormalization()(L22)\n",
        "L23=Conv2D(64,3,strides=(1, 1), padding='valid',activation='relu')(C23)\n",
        "L23=BatchNormalization()(L23)\n",
        "L24=Conv2D(64,3,strides=(1, 1), padding='valid',activation='relu')(C24)\n",
        "L24=BatchNormalization()(L24)\n",
        "L25=Conv2D(64,3,strides=(1, 1), padding='valid',activation='relu')(C25)\n",
        "L25=BatchNormalization()(L25)\n",
        "L26=Conv2D(64,3,strides=(1, 1), padding='valid',activation='relu')(C26)\n",
        "L26=BatchNormalization()(L26)\n",
        "L27=Conv2D(64,3,strides=(1, 1), padding='valid',activation='relu')(C27)\n",
        "L27=BatchNormalization()(L27)\n",
        "L28=Conv2D(64,3,strides=(1, 1), padding='valid',activation='relu')(C28)\n",
        "L28=BatchNormalization()(L28)\n",
        "L29=Conv2D(64,3,strides=(1, 1), padding='valid',activation='relu')(C29)\n",
        "L29=BatchNormalization()(L29)\n",
        "L30=Conv2D(64,3,strides=(1, 1), padding='valid',activation='relu')(C30)\n",
        "L30=BatchNormalization()(L30)\n",
        "L31=Conv2D(64,3,strides=(1, 1), padding='valid',activation='relu')(C31)\n",
        "L31=BatchNormalization()(L31)\n",
        "L32=Conv2D(64,3,strides=(1, 1), padding='valid',activation='relu')(C32)\n",
        "L32=BatchNormalization()(L32)\n",
        "L33=Conv2D(64,3,strides=(1, 1), padding='valid',activation='relu')(C33)\n",
        "L33=BatchNormalization()(L33)\n",
        "L34=Conv2D(64,3,strides=(1, 1), padding='valid',activation='relu')(C34)\n",
        "L34=BatchNormalization()(L34)\n",
        "L35=Conv2D(64,3,strides=(1, 1), padding='valid',activation='relu')(C35)\n",
        "L35=BatchNormalization()(L35)\n",
        "L36=Conv2D(64,3,strides=(1, 1), padding='valid',activation='relu')(C36)\n",
        "L36=BatchNormalization()(L36)\n",
        "L37=Conv2D(64,3,strides=(1, 1), padding='valid',activation='relu')(C37)\n",
        "L37=BatchNormalization()(L37)\n",
        "L38=Conv2D(64,3,strides=(1, 1), padding='valid',activation='relu')(C38)\n",
        "L38=BatchNormalization()(L38)\n",
        "L39=Conv2D(64,3,strides=(1, 1), padding='valid',activation='relu')(C39)\n",
        "L39=BatchNormalization()(L39)\n",
        "\n",
        "L1=Conv2D(64,1,strides=(1, 1), padding='valid',activation='relu')(L1)\n",
        "L1=BatchNormalization()(L1)\n",
        "L1=Conv2D(64,1,strides=(1, 1), padding='valid',activation='relu')(L1)\n",
        "L1=BatchNormalization()(L1)\n",
        "L2=Conv2D(64,1,strides=(1, 1), padding='valid',activation='relu')(L2)\n",
        "L2=BatchNormalization()(L2)\n",
        "L2=Conv2D(64,1,strides=(1, 1), padding='valid',activation='relu')(L2)\n",
        "L2=BatchNormalization()(L2)\n",
        "L3=Conv2D(64,1,strides=(1, 1), padding='valid',activation='relu')(L3)\n",
        "L3=BatchNormalization()(L3)\n",
        "L3=Conv2D(64,1,strides=(1, 1), padding='valid',activation='relu')(L3)\n",
        "L3=BatchNormalization()(L3)\n",
        "L4=Conv2D(64,1,strides=(1, 1), padding='valid',activation='relu')(L4)\n",
        "L4=BatchNormalization()(L4)\n",
        "L4=Conv2D(64,1,strides=(1, 1), padding='valid',activation='relu')(L4)\n",
        "L4=BatchNormalization()(L4)\n",
        "L5=Conv2D(64,1,strides=(1, 1), padding='valid',activation='relu')(L5)\n",
        "L5=BatchNormalization()(L5)\n",
        "L5=Conv2D(64,1,strides=(1, 1), padding='valid',activation='relu')(L5)\n",
        "L5=BatchNormalization()(L5)\n",
        "L6=Conv2D(64,1,strides=(1, 1), padding='valid',activation='relu')(L6)\n",
        "L6=BatchNormalization()(L6)\n",
        "L6=Conv2D(64,1,strides=(1, 1), padding='valid',activation='relu')(L6)\n",
        "L6=BatchNormalization()(L6)\n",
        "L7=Conv2D(64,1,strides=(1, 1), padding='valid',activation='relu')(L7)\n",
        "L7=BatchNormalization()(L7)\n",
        "L7=Conv2D(64,1,strides=(1, 1), padding='valid',activation='relu')(L7)\n",
        "L7=BatchNormalization()(L7)\n",
        "L8=Conv2D(64,1,strides=(1, 1), padding='valid',activation='relu')(L8)\n",
        "L8=BatchNormalization()(L8)\n",
        "L8=Conv2D(64,1,strides=(1, 1), padding='valid',activation='relu')(L8)\n",
        "L8=BatchNormalization()(L8)\n",
        "L9=Conv2D(64,1,strides=(1, 1), padding='valid',activation='relu')(L9)\n",
        "L9=BatchNormalization()(L9)\n",
        "L9=Conv2D(64,1,strides=(1, 1), padding='valid',activation='relu')(L9)\n",
        "L9=BatchNormalization()(L9)\n",
        "L10=Conv2D(64,1,strides=(1, 1), padding='valid',activation='relu')(L10)\n",
        "L10=BatchNormalization()(L10)\n",
        "L10=Conv2D(64,1,strides=(1, 1), padding='valid',activation='relu')(L10)\n",
        "L10=BatchNormalization()(L10)\n",
        "L11=Conv2D(64,1,strides=(1, 1), padding='valid',activation='relu')(L11)\n",
        "L11=BatchNormalization()(L11)\n",
        "L11=Conv2D(64,1,strides=(1, 1), padding='valid',activation='relu')(L11)\n",
        "L11=BatchNormalization()(L11)\n",
        "L12=Conv2D(64,1,strides=(1, 1), padding='valid',activation='relu')(L12)\n",
        "L12=BatchNormalization()(L12)\n",
        "L12=Conv2D(64,1,strides=(1, 1), padding='valid',activation='relu')(L12)\n",
        "L12=BatchNormalization()(L12)\n",
        "L13=Conv2D(64,1,strides=(1, 1), padding='valid',activation='relu')(L13)\n",
        "L13=BatchNormalization()(L13)\n",
        "L13=Conv2D(64,1,strides=(1, 1), padding='valid',activation='relu')(L13)\n",
        "L13=BatchNormalization()(L13)\n",
        "L14=Conv2D(64,1,strides=(1, 1), padding='valid',activation='relu')(L14)\n",
        "L14=BatchNormalization()(L14)\n",
        "L14=Conv2D(64,1,strides=(1, 1), padding='valid',activation='relu')(L14)\n",
        "L14=BatchNormalization()(L14)\n",
        "L15=Conv2D(64,1,strides=(1, 1), padding='valid',activation='relu')(L15)\n",
        "L15=BatchNormalization()(L15)\n",
        "L15=Conv2D(64,1,strides=(1, 1), padding='valid',activation='relu')(L15)\n",
        "L15=BatchNormalization()(L15)\n",
        "L16=Conv2D(64,1,strides=(1, 1), padding='valid',activation='relu')(L16)\n",
        "L16=BatchNormalization()(L16)\n",
        "L16=Conv2D(64,1,strides=(1, 1), padding='valid',activation='relu')(L16)\n",
        "L16=BatchNormalization()(L16)\n",
        "L17=Conv2D(64,1,strides=(1, 1), padding='valid',activation='relu')(L17)\n",
        "L17=BatchNormalization()(L17)\n",
        "L17=Conv2D(64,1,strides=(1, 1), padding='valid',activation='relu')(L17)\n",
        "L17=BatchNormalization()(L17)\n",
        "L18=Conv2D(64,1,strides=(1, 1), padding='valid',activation='relu')(L18)\n",
        "L18=BatchNormalization()(L18)\n",
        "L18=Conv2D(64,1,strides=(1, 1), padding='valid',activation='relu')(L18)\n",
        "L18=BatchNormalization()(L18)\n",
        "L19=Conv2D(64,1,strides=(1, 1), padding='valid',activation='relu')(L19)\n",
        "L19=BatchNormalization()(L19)\n",
        "L19=Conv2D(64,1,strides=(1, 1), padding='valid',activation='relu')(L19)\n",
        "L19=BatchNormalization()(L19)\n",
        "L20=Conv2D(64,1,strides=(1, 1), padding='valid',activation='relu')(L20)\n",
        "L20=BatchNormalization()(L20)\n",
        "L20=Conv2D(64,1,strides=(1, 1), padding='valid',activation='relu')(L20)\n",
        "L20=BatchNormalization()(L20)\n",
        "L21=Conv2D(64,1,strides=(1, 1), padding='valid',activation='relu')(L21)\n",
        "L21=BatchNormalization()(L21)\n",
        "L21=Conv2D(64,1,strides=(1, 1), padding='valid',activation='relu')(L21)\n",
        "L21=BatchNormalization()(L21)\n",
        "L22=Conv2D(64,1,strides=(1, 1), padding='valid',activation='relu')(L22)\n",
        "L22=BatchNormalization()(L22)\n",
        "L22=Conv2D(64,1,strides=(1, 1), padding='valid',activation='relu')(L22)\n",
        "L22=BatchNormalization()(L22)\n",
        "L23=Conv2D(64,1,strides=(1, 1), padding='valid',activation='relu')(L23)\n",
        "L23=BatchNormalization()(L23)\n",
        "L23=Conv2D(64,1,strides=(1, 1), padding='valid',activation='relu')(L23)\n",
        "L23=BatchNormalization()(L23)\n",
        "L24=Conv2D(64,1,strides=(1, 1), padding='valid',activation='relu')(L24)\n",
        "L24=BatchNormalization()(L24)\n",
        "L24=Conv2D(64,1,strides=(1, 1), padding='valid',activation='relu')(L24)\n",
        "L24=BatchNormalization()(L24)\n",
        "L25=Conv2D(64,1,strides=(1, 1), padding='valid',activation='relu')(L25)\n",
        "L25=BatchNormalization()(L25)\n",
        "L25=Conv2D(64,1,strides=(1, 1), padding='valid',activation='relu')(L25)\n",
        "L25=BatchNormalization()(L25)\n",
        "L26=Conv2D(64,1,strides=(1, 1), padding='valid',activation='relu')(L26)\n",
        "L26=BatchNormalization()(L26)\n",
        "L26=Conv2D(64,1,strides=(1, 1), padding='valid',activation='relu')(L26)\n",
        "L26=BatchNormalization()(L26)\n",
        "L27=Conv2D(64,1,strides=(1, 1), padding='valid',activation='relu')(L27)\n",
        "L27=BatchNormalization()(L27)\n",
        "L27=Conv2D(64,1,strides=(1, 1), padding='valid',activation='relu')(L27)\n",
        "L27=BatchNormalization()(L27)\n",
        "L28=Conv2D(64,1,strides=(1, 1), padding='valid',activation='relu')(L28)\n",
        "L28=BatchNormalization()(L28)\n",
        "L28=Conv2D(64,1,strides=(1, 1), padding='valid',activation='relu')(L28)\n",
        "L28=BatchNormalization()(L28)\n",
        "L29=Conv2D(64,1,strides=(1, 1), padding='valid',activation='relu')(L29)\n",
        "L29=BatchNormalization()(L29)\n",
        "L29=Conv2D(64,1,strides=(1, 1), padding='valid',activation='relu')(L29)\n",
        "L29=BatchNormalization()(L29)\n",
        "L30=Conv2D(64,1,strides=(1, 1), padding='valid',activation='relu')(L30)\n",
        "L30=BatchNormalization()(L30)\n",
        "L30=Conv2D(64,1,strides=(1, 1), padding='valid',activation='relu')(L30)\n",
        "L30=BatchNormalization()(L30)\n",
        "L31=Conv2D(64,1,strides=(1, 1), padding='valid',activation='relu')(L31)\n",
        "L31=BatchNormalization()(L31)\n",
        "L31=Conv2D(64,1,strides=(1, 1), padding='valid',activation='relu')(L31)\n",
        "L31=BatchNormalization()(L31)\n",
        "L32=Conv2D(64,1,strides=(1, 1), padding='valid',activation='relu')(L32)\n",
        "L32=BatchNormalization()(L32)\n",
        "L32=Conv2D(64,1,strides=(1, 1), padding='valid',activation='relu')(L32)\n",
        "L32=BatchNormalization()(L32)\n",
        "L33=Conv2D(64,1,strides=(1, 1), padding='valid',activation='relu')(L33)\n",
        "L33=BatchNormalization()(L33)\n",
        "L33=Conv2D(64,1,strides=(1, 1), padding='valid',activation='relu')(L33)\n",
        "L33=BatchNormalization()(L33)\n",
        "L34=Conv2D(64,1,strides=(1, 1), padding='valid',activation='relu')(L34)\n",
        "L34=BatchNormalization()(L34)\n",
        "L34=Conv2D(64,1,strides=(1, 1), padding='valid',activation='relu')(L34)\n",
        "L34=BatchNormalization()(L34)\n",
        "L35=Conv2D(64,1,strides=(1, 1), padding='valid',activation='relu')(L35)\n",
        "L35=BatchNormalization()(L35)\n",
        "L35=Conv2D(64,1,strides=(1, 1), padding='valid',activation='relu')(L35)\n",
        "L35=BatchNormalization()(L35)\n",
        "L36=Conv2D(64,1,strides=(1, 1), padding='valid',activation='relu')(L36)\n",
        "L36=BatchNormalization()(L36)\n",
        "L36=Conv2D(64,1,strides=(1, 1), padding='valid',activation='relu')(L36)\n",
        "L36=BatchNormalization()(L36)\n",
        "L37=Conv2D(64,1,strides=(1, 1), padding='valid',activation='relu')(L37)\n",
        "L37=BatchNormalization()(L37)\n",
        "L37=Conv2D(64,1,strides=(1, 1), padding='valid',activation='relu')(L37)\n",
        "L37=BatchNormalization()(L37)\n",
        "L38=Conv2D(64,1,strides=(1, 1), padding='valid',activation='relu')(L38)\n",
        "L38=BatchNormalization()(L38)\n",
        "L38=Conv2D(64,1,strides=(1, 1), padding='valid',activation='relu')(L38)\n",
        "L38=BatchNormalization()(L38)\n",
        "L39=Conv2D(64,1,strides=(1, 1), padding='valid',activation='relu')(L39)\n",
        "L39=BatchNormalization()(L39)\n",
        "L39=Conv2D(64,1,strides=(1, 1), padding='valid',activation='relu')(L39)\n",
        "L39=BatchNormalization()(L39)\n",
        "\n",
        "L1=Dense(512,activation='relu')(L1)\n",
        "L1=Dropout(0.25)(L1)\n",
        "L1=BatchNormalization()(L1)\n",
        "L1=Dense(128,activation='relu')(L1)\n",
        "L1=Dropout(0.25)(L1)\n",
        "L1=BatchNormalization()(L1)\n",
        "L2=Dense(512,activation='relu')(L2)\n",
        "L2=Dropout(0.25)(L2)\n",
        "L2=BatchNormalization()(L2)\n",
        "L2=Dense(128,activation='relu')(L2)\n",
        "L2=Dropout(0.25)(L2)\n",
        "L2=BatchNormalization()(L2)\n",
        "L3=Dense(512,activation='relu')(L3)\n",
        "L3=Dropout(0.25)(L3)\n",
        "L3=BatchNormalization()(L3)\n",
        "L3=Dense(128,activation='relu')(L3)\n",
        "L3=Dropout(0.25)(L3)\n",
        "L3=BatchNormalization()(L3)\n",
        "L4=Dense(512,activation='relu')(L4)\n",
        "L4=Dropout(0.25)(L4)\n",
        "L4=BatchNormalization()(L4)\n",
        "L4=Dense(128,activation='relu')(L4)\n",
        "L4=Dropout(0.25)(L4)\n",
        "L4=BatchNormalization()(L4)\n",
        "L5=Dense(512,activation='relu')(L5)\n",
        "L5=Dropout(0.25)(L5)\n",
        "L5=BatchNormalization()(L5)\n",
        "L5=Dense(128,activation='relu')(L5)\n",
        "L5=Dropout(0.25)(L5)\n",
        "L5=BatchNormalization()(L5)\n",
        "L6=Dense(512,activation='relu')(L6)\n",
        "L6=Dropout(0.25)(L6)\n",
        "L6=BatchNormalization()(L6)\n",
        "L6=Dense(128,activation='relu')(L6)\n",
        "L6=Dropout(0.25)(L6)\n",
        "L6=BatchNormalization()(L6)\n",
        "L7=Dense(512,activation='relu')(L7)\n",
        "L7=Dropout(0.25)(L7)\n",
        "L7=BatchNormalization()(L7)\n",
        "L7=Dense(128,activation='relu')(L7)\n",
        "L7=Dropout(0.25)(L7)\n",
        "L7=BatchNormalization()(L7)\n",
        "L8=Dense(512,activation='relu')(L8)\n",
        "L8=Dropout(0.25)(L8)\n",
        "L8=BatchNormalization()(L8)\n",
        "L8=Dense(128,activation='relu')(L8)\n",
        "L8=Dropout(0.25)(L8)\n",
        "L8=BatchNormalization()(L8)\n",
        "L9=Dense(512,activation='relu')(L9)\n",
        "L9=Dropout(0.25)(L9)\n",
        "L9=BatchNormalization()(L9)\n",
        "L9=Dense(128,activation='relu')(L9)\n",
        "L9=Dropout(0.25)(L9)\n",
        "L9=BatchNormalization()(L9)\n",
        "L10=Dense(512,activation='relu')(L10)\n",
        "L10=Dropout(0.25)(L10)\n",
        "L10=BatchNormalization()(L10)\n",
        "L10=Dense(128,activation='relu')(L10)\n",
        "L10=Dropout(0.25)(L10)\n",
        "L10=BatchNormalization()(L10)\n",
        "L11=Dense(512,activation='relu')(L11)\n",
        "L11=Dropout(0.25)(L11)\n",
        "L11=BatchNormalization()(L11)\n",
        "L11=Dense(128,activation='relu')(L11)\n",
        "L11=Dropout(0.25)(L11)\n",
        "L11=BatchNormalization()(L11)\n",
        "L12=Dense(512,activation='relu')(L12)\n",
        "L12=Dropout(0.25)(L12)\n",
        "L12=BatchNormalization()(L12)\n",
        "L12=Dense(128,activation='relu')(L12)\n",
        "L12=Dropout(0.25)(L12)\n",
        "L12=BatchNormalization()(L12)\n",
        "L13=Dense(512,activation='relu')(L13)\n",
        "L13=Dropout(0.25)(L13)\n",
        "L13=BatchNormalization()(L13)\n",
        "L13=Dense(128,activation='relu')(L13)\n",
        "L13=Dropout(0.25)(L13)\n",
        "L13=BatchNormalization()(L13)\n",
        "L14=Dense(512,activation='relu')(L14)\n",
        "L14=Dropout(0.25)(L14)\n",
        "L14=BatchNormalization()(L14)\n",
        "L14=Dense(128,activation='relu')(L14)\n",
        "L14=Dropout(0.25)(L14)\n",
        "L14=BatchNormalization()(L14)\n",
        "L15=Dense(512,activation='relu')(L15)\n",
        "L15=Dropout(0.25)(L15)\n",
        "L15=BatchNormalization()(L15)\n",
        "L15=Dense(128,activation='relu')(L15)\n",
        "L15=Dropout(0.25)(L15)\n",
        "L15=BatchNormalization()(L15)\n",
        "L16=Dense(512,activation='relu')(L16)\n",
        "L16=Dropout(0.25)(L16)\n",
        "L16=BatchNormalization()(L16)\n",
        "L16=Dense(128,activation='relu')(L16)\n",
        "L16=Dropout(0.25)(L16)\n",
        "L16=BatchNormalization()(L16)\n",
        "L17=Dense(512,activation='relu')(L17)\n",
        "L17=Dropout(0.25)(L17)\n",
        "L17=BatchNormalization()(L17)\n",
        "L17=Dense(128,activation='relu')(L17)\n",
        "L17=Dropout(0.25)(L17)\n",
        "L17=BatchNormalization()(L17)\n",
        "L18=Dense(512,activation='relu')(L18)\n",
        "L18=Dropout(0.25)(L18)\n",
        "L18=BatchNormalization()(L18)\n",
        "L18=Dense(128,activation='relu')(L18)\n",
        "L18=Dropout(0.25)(L18)\n",
        "L18=BatchNormalization()(L18)\n",
        "L19=Dense(512,activation='relu')(L19)\n",
        "L19=Dropout(0.25)(L19)\n",
        "L19=BatchNormalization()(L19)\n",
        "L19=Dense(128,activation='relu')(L19)\n",
        "L19=Dropout(0.25)(L19)\n",
        "L19=BatchNormalization()(L19)\n",
        "L20=Dense(512,activation='relu')(L20)\n",
        "L20=Dropout(0.25)(L20)\n",
        "L20=BatchNormalization()(L20)\n",
        "L20=Dense(128,activation='relu')(L20)\n",
        "L20=Dropout(0.25)(L20)\n",
        "L20=BatchNormalization()(L20)\n",
        "L21=Dense(512,activation='relu')(L21)\n",
        "L21=Dropout(0.25)(L21)\n",
        "L21=BatchNormalization()(L21)\n",
        "L21=Dense(128,activation='relu')(L21)\n",
        "L21=Dropout(0.25)(L21)\n",
        "L21=BatchNormalization()(L21)\n",
        "L22=Dense(512,activation='relu')(L22)\n",
        "L22=Dropout(0.25)(L22)\n",
        "L22=BatchNormalization()(L22)\n",
        "L22=Dense(128,activation='relu')(L22)\n",
        "L22=Dropout(0.25)(L22)\n",
        "L22=BatchNormalization()(L22)\n",
        "L23=Dense(512,activation='relu')(L23)\n",
        "L23=Dropout(0.25)(L23)\n",
        "L23=BatchNormalization()(L23)\n",
        "L23=Dense(128,activation='relu')(L23)\n",
        "L23=Dropout(0.25)(L23)\n",
        "L23=BatchNormalization()(L23)\n",
        "L24=Dense(512,activation='relu')(L24)\n",
        "L24=Dropout(0.25)(L24)\n",
        "L24=BatchNormalization()(L24)\n",
        "L24=Dense(128,activation='relu')(L24)\n",
        "L24=Dropout(0.25)(L24)\n",
        "L24=BatchNormalization()(L24)\n",
        "L25=Dense(512,activation='relu')(L25)\n",
        "L25=Dropout(0.25)(L25)\n",
        "L25=BatchNormalization()(L25)\n",
        "L25=Dense(128,activation='relu')(L25)\n",
        "L25=Dropout(0.25)(L25)\n",
        "L25=BatchNormalization()(L25)\n",
        "L26=Dense(512,activation='relu')(L26)\n",
        "L26=Dropout(0.25)(L26)\n",
        "L26=BatchNormalization()(L26)\n",
        "L26=Dense(128,activation='relu')(L26)\n",
        "L26=Dropout(0.25)(L26)\n",
        "L26=BatchNormalization()(L26)\n",
        "L27=Dense(512,activation='relu')(L27)\n",
        "L27=Dropout(0.25)(L27)\n",
        "L27=BatchNormalization()(L27)\n",
        "L27=Dense(128,activation='relu')(L27)\n",
        "L27=Dropout(0.25)(L27)\n",
        "L27=BatchNormalization()(L27)\n",
        "L28=Dense(512,activation='relu')(L28)\n",
        "L28=Dropout(0.25)(L28)\n",
        "L28=BatchNormalization()(L28)\n",
        "L28=Dense(128,activation='relu')(L28)\n",
        "L28=Dropout(0.25)(L28)\n",
        "L28=BatchNormalization()(L28)\n",
        "L29=Dense(512,activation='relu')(L29)\n",
        "L29=Dropout(0.25)(L29)\n",
        "L29=BatchNormalization()(L29)\n",
        "L29=Dense(128,activation='relu')(L29)\n",
        "L29=Dropout(0.25)(L29)\n",
        "L29=BatchNormalization()(L29)\n",
        "L30=Dense(512,activation='relu')(L30)\n",
        "L30=Dropout(0.25)(L30)\n",
        "L30=BatchNormalization()(L30)\n",
        "L30=Dense(128,activation='relu')(L30)\n",
        "L30=Dropout(0.25)(L30)\n",
        "L30=BatchNormalization()(L30)\n",
        "L31=Dense(512,activation='relu')(L31)\n",
        "L31=Dropout(0.25)(L31)\n",
        "L31=BatchNormalization()(L31)\n",
        "L31=Dense(128,activation='relu')(L31)\n",
        "L31=Dropout(0.25)(L31)\n",
        "L31=BatchNormalization()(L31)\n",
        "L32=Dense(512,activation='relu')(L32)\n",
        "L32=Dropout(0.25)(L32)\n",
        "L32=BatchNormalization()(L32)\n",
        "L32=Dense(128,activation='relu')(L32)\n",
        "L32=Dropout(0.25)(L32)\n",
        "L32=BatchNormalization()(L32)\n",
        "L33=Dense(512,activation='relu')(L33)\n",
        "L33=Dropout(0.25)(L33)\n",
        "L33=BatchNormalization()(L33)\n",
        "L33=Dense(128,activation='relu')(L33)\n",
        "L33=Dropout(0.25)(L33)\n",
        "L33=BatchNormalization()(L33)\n",
        "L34=Dense(512,activation='relu')(L34)\n",
        "L34=Dropout(0.25)(L34)\n",
        "L34=BatchNormalization()(L34)\n",
        "L34=Dense(128,activation='relu')(L34)\n",
        "L34=Dropout(0.25)(L34)\n",
        "L34=BatchNormalization()(L34)\n",
        "L35=Dense(512,activation='relu')(L35)\n",
        "L35=Dropout(0.25)(L35)\n",
        "L35=BatchNormalization()(L35)\n",
        "L35=Dense(128,activation='relu')(L35)\n",
        "L35=Dropout(0.25)(L35)\n",
        "L35=BatchNormalization()(L35)\n",
        "L36=Dense(512,activation='relu')(L36)\n",
        "L36=Dropout(0.25)(L36)\n",
        "L36=BatchNormalization()(L36)\n",
        "L36=Dense(128,activation='relu')(L36)\n",
        "L36=Dropout(0.25)(L36)\n",
        "L36=BatchNormalization()(L36)\n",
        "L37=Dense(512,activation='relu')(L37)\n",
        "L37=Dropout(0.25)(L37)\n",
        "L37=BatchNormalization()(L37)\n",
        "L37=Dense(128,activation='relu')(L37)\n",
        "L37=Dropout(0.25)(L37)\n",
        "L37=BatchNormalization()(L37)\n",
        "L38=Dense(512,activation='relu')(L38)\n",
        "L38=Dropout(0.25)(L38)\n",
        "L38=BatchNormalization()(L38)\n",
        "L38=Dense(128,activation='relu')(L38)\n",
        "L38=Dropout(0.25)(L38)\n",
        "L38=BatchNormalization()(L38)\n",
        "L39=Dense(512,activation='relu')(L39)\n",
        "L39=Dropout(0.25)(L39)\n",
        "L39=BatchNormalization()(L39)\n",
        "L39=Dense(128,activation='relu')(L39)\n",
        "L39=Dropout(0.25)(L39)\n",
        "L39=BatchNormalization()(L39)\n",
        "\n",
        "L=concatenate([L1,L2,L3,L4,L5,L6,L7,L8,L9,L10,L11,L12,L13,L14,L15,L16,L17,L18,L19,L20,L21,L22,L23,L24,L25,L26,L27,L28,L29,L30,L31,L32,L33,L34,L35,L36,L37,L38,L39])\n",
        "L=Dense(512,activation='relu')(L)\n",
        "L=Dropout(0.25)(L)\n",
        "L=BatchNormalization()(L)\n",
        "\n",
        "L=Dense(53,activation='sigmoid')(L)"
      ],
      "id": "381b9636",
      "execution_count": 44,
      "outputs": []
    },
    {
      "cell_type": "code",
      "metadata": {
        "colab": {
          "base_uri": "https://localhost:8080/",
          "height": 467
        },
        "id": "07f32946-8c07-4ddd-b53b-4aa130e3a777",
        "outputId": "234b9db1-7348-410f-f10b-abf2300c1c92"
      },
      "source": [
        "##decision\n",
        "out=(L+E)/2\n",
        "model = Model(inputs=[F1,F2,F3,F4,F5,F6,F7,F8,F9,F10,F11,F12,F13,F14,F15,F16,F17,F18,F19,F20,F21,F22,F23,F24,F25,F26,F27,F28,F29,F30,F31,F32,F33,F34,F35,F36,F37,F38,F39], outputs=L, name='CNN')\n",
        "model.complie(loss='binary_crossentropy', optimizer='SGD', metrics=['accuracy'])"
      ],
      "id": "07f32946-8c07-4ddd-b53b-4aa130e3a777",
      "execution_count": 45,
      "outputs": [
        {
          "output_type": "error",
          "ename": "ValueError",
          "evalue": "ignored",
          "traceback": [
            "\u001b[0;31m---------------------------------------------------------------------------\u001b[0m",
            "\u001b[0;31mTypeError\u001b[0m                                 Traceback (most recent call last)",
            "\u001b[0;32m/usr/local/lib/python3.7/dist-packages/tensorflow/python/ops/math_ops.py\u001b[0m in \u001b[0;36mbinary_op_wrapper\u001b[0;34m(x, y)\u001b[0m\n\u001b[1;32m   1244\u001b[0m             \u001b[0mr_op\u001b[0m \u001b[0;34m=\u001b[0m \u001b[0mgetattr\u001b[0m\u001b[0;34m(\u001b[0m\u001b[0my\u001b[0m\u001b[0;34m,\u001b[0m \u001b[0;34m\"__r%s__\"\u001b[0m \u001b[0;34m%\u001b[0m \u001b[0mop_name\u001b[0m\u001b[0;34m)\u001b[0m\u001b[0;34m\u001b[0m\u001b[0;34m\u001b[0m\u001b[0m\n\u001b[0;32m-> 1245\u001b[0;31m             \u001b[0mout\u001b[0m \u001b[0;34m=\u001b[0m \u001b[0mr_op\u001b[0m\u001b[0;34m(\u001b[0m\u001b[0mx\u001b[0m\u001b[0;34m)\u001b[0m\u001b[0;34m\u001b[0m\u001b[0;34m\u001b[0m\u001b[0m\n\u001b[0m\u001b[1;32m   1246\u001b[0m             \u001b[0;32mif\u001b[0m \u001b[0mout\u001b[0m \u001b[0;32mis\u001b[0m \u001b[0mNotImplemented\u001b[0m\u001b[0;34m:\u001b[0m\u001b[0;34m\u001b[0m\u001b[0;34m\u001b[0m\u001b[0m\n",
            "\u001b[0;32m/usr/local/lib/python3.7/dist-packages/tensorflow/python/ops/math_ops.py\u001b[0m in \u001b[0;36mr_binary_op_wrapper\u001b[0;34m(y, x)\u001b[0m\n\u001b[1;32m   1265\u001b[0m       \u001b[0;31m#   r_binary_op_wrapper use different force_same_dtype values.\u001b[0m\u001b[0;34m\u001b[0m\u001b[0;34m\u001b[0m\u001b[0;34m\u001b[0m\u001b[0m\n\u001b[0;32m-> 1266\u001b[0;31m       \u001b[0my\u001b[0m\u001b[0;34m,\u001b[0m \u001b[0mx\u001b[0m \u001b[0;34m=\u001b[0m \u001b[0mmaybe_promote_tensors\u001b[0m\u001b[0;34m(\u001b[0m\u001b[0my\u001b[0m\u001b[0;34m,\u001b[0m \u001b[0mx\u001b[0m\u001b[0;34m)\u001b[0m\u001b[0;34m\u001b[0m\u001b[0;34m\u001b[0m\u001b[0m\n\u001b[0m\u001b[1;32m   1267\u001b[0m       \u001b[0;32mreturn\u001b[0m \u001b[0mfunc\u001b[0m\u001b[0;34m(\u001b[0m\u001b[0mx\u001b[0m\u001b[0;34m,\u001b[0m \u001b[0my\u001b[0m\u001b[0;34m,\u001b[0m \u001b[0mname\u001b[0m\u001b[0;34m=\u001b[0m\u001b[0mname\u001b[0m\u001b[0;34m)\u001b[0m\u001b[0;34m\u001b[0m\u001b[0;34m\u001b[0m\u001b[0m\n",
            "\u001b[0;32m/usr/local/lib/python3.7/dist-packages/tensorflow/python/ops/math_ops.py\u001b[0m in \u001b[0;36mmaybe_promote_tensors\u001b[0;34m(force_same_dtype, *tensors)\u001b[0m\n\u001b[1;32m   1201\u001b[0m       promoted_tensors.append(\n\u001b[0;32m-> 1202\u001b[0;31m           ops.convert_to_tensor(tensor, dtype, name=\"x\"))\n\u001b[0m\u001b[1;32m   1203\u001b[0m     \u001b[0;32mreturn\u001b[0m \u001b[0mpromoted_tensors\u001b[0m\u001b[0;34m\u001b[0m\u001b[0;34m\u001b[0m\u001b[0m\n",
            "\u001b[0;32m/usr/local/lib/python3.7/dist-packages/tensorflow/python/profiler/trace.py\u001b[0m in \u001b[0;36mwrapped\u001b[0;34m(*args, **kwargs)\u001b[0m\n\u001b[1;32m    162\u001b[0m           \u001b[0;32mreturn\u001b[0m \u001b[0mfunc\u001b[0m\u001b[0;34m(\u001b[0m\u001b[0;34m*\u001b[0m\u001b[0margs\u001b[0m\u001b[0;34m,\u001b[0m \u001b[0;34m**\u001b[0m\u001b[0mkwargs\u001b[0m\u001b[0;34m)\u001b[0m\u001b[0;34m\u001b[0m\u001b[0;34m\u001b[0m\u001b[0m\n\u001b[0;32m--> 163\u001b[0;31m       \u001b[0;32mreturn\u001b[0m \u001b[0mfunc\u001b[0m\u001b[0;34m(\u001b[0m\u001b[0;34m*\u001b[0m\u001b[0margs\u001b[0m\u001b[0;34m,\u001b[0m \u001b[0;34m**\u001b[0m\u001b[0mkwargs\u001b[0m\u001b[0;34m)\u001b[0m\u001b[0;34m\u001b[0m\u001b[0;34m\u001b[0m\u001b[0m\n\u001b[0m\u001b[1;32m    164\u001b[0m \u001b[0;34m\u001b[0m\u001b[0m\n",
            "\u001b[0;32m/usr/local/lib/python3.7/dist-packages/tensorflow/python/framework/ops.py\u001b[0m in \u001b[0;36mconvert_to_tensor\u001b[0;34m(value, dtype, name, as_ref, preferred_dtype, dtype_hint, ctx, accepted_result_types)\u001b[0m\n\u001b[1;32m   1565\u001b[0m     \u001b[0;32mif\u001b[0m \u001b[0mret\u001b[0m \u001b[0;32mis\u001b[0m \u001b[0;32mNone\u001b[0m\u001b[0;34m:\u001b[0m\u001b[0;34m\u001b[0m\u001b[0;34m\u001b[0m\u001b[0m\n\u001b[0;32m-> 1566\u001b[0;31m       \u001b[0mret\u001b[0m \u001b[0;34m=\u001b[0m \u001b[0mconversion_func\u001b[0m\u001b[0;34m(\u001b[0m\u001b[0mvalue\u001b[0m\u001b[0;34m,\u001b[0m \u001b[0mdtype\u001b[0m\u001b[0;34m=\u001b[0m\u001b[0mdtype\u001b[0m\u001b[0;34m,\u001b[0m \u001b[0mname\u001b[0m\u001b[0;34m=\u001b[0m\u001b[0mname\u001b[0m\u001b[0;34m,\u001b[0m \u001b[0mas_ref\u001b[0m\u001b[0;34m=\u001b[0m\u001b[0mas_ref\u001b[0m\u001b[0;34m)\u001b[0m\u001b[0;34m\u001b[0m\u001b[0;34m\u001b[0m\u001b[0m\n\u001b[0m\u001b[1;32m   1567\u001b[0m \u001b[0;34m\u001b[0m\u001b[0m\n",
            "\u001b[0;32m/usr/local/lib/python3.7/dist-packages/tensorflow/python/framework/constant_op.py\u001b[0m in \u001b[0;36m_constant_tensor_conversion_function\u001b[0;34m(v, dtype, name, as_ref)\u001b[0m\n\u001b[1;32m    338\u001b[0m   \u001b[0m_\u001b[0m \u001b[0;34m=\u001b[0m \u001b[0mas_ref\u001b[0m\u001b[0;34m\u001b[0m\u001b[0;34m\u001b[0m\u001b[0m\n\u001b[0;32m--> 339\u001b[0;31m   \u001b[0;32mreturn\u001b[0m \u001b[0mconstant\u001b[0m\u001b[0;34m(\u001b[0m\u001b[0mv\u001b[0m\u001b[0;34m,\u001b[0m \u001b[0mdtype\u001b[0m\u001b[0;34m=\u001b[0m\u001b[0mdtype\u001b[0m\u001b[0;34m,\u001b[0m \u001b[0mname\u001b[0m\u001b[0;34m=\u001b[0m\u001b[0mname\u001b[0m\u001b[0;34m)\u001b[0m\u001b[0;34m\u001b[0m\u001b[0;34m\u001b[0m\u001b[0m\n\u001b[0m\u001b[1;32m    340\u001b[0m \u001b[0;34m\u001b[0m\u001b[0m\n",
            "\u001b[0;32m/usr/local/lib/python3.7/dist-packages/tensorflow/python/framework/constant_op.py\u001b[0m in \u001b[0;36mconstant\u001b[0;34m(value, dtype, shape, name)\u001b[0m\n\u001b[1;32m    264\u001b[0m   return _constant_impl(value, dtype, shape, name, verify_shape=False,\n\u001b[0;32m--> 265\u001b[0;31m                         allow_broadcast=True)\n\u001b[0m\u001b[1;32m    266\u001b[0m \u001b[0;34m\u001b[0m\u001b[0m\n",
            "\u001b[0;32m/usr/local/lib/python3.7/dist-packages/tensorflow/python/framework/constant_op.py\u001b[0m in \u001b[0;36m_constant_impl\u001b[0;34m(value, dtype, shape, name, verify_shape, allow_broadcast)\u001b[0m\n\u001b[1;32m    275\u001b[0m         \u001b[0;32mreturn\u001b[0m \u001b[0m_constant_eager_impl\u001b[0m\u001b[0;34m(\u001b[0m\u001b[0mctx\u001b[0m\u001b[0;34m,\u001b[0m \u001b[0mvalue\u001b[0m\u001b[0;34m,\u001b[0m \u001b[0mdtype\u001b[0m\u001b[0;34m,\u001b[0m \u001b[0mshape\u001b[0m\u001b[0;34m,\u001b[0m \u001b[0mverify_shape\u001b[0m\u001b[0;34m)\u001b[0m\u001b[0;34m\u001b[0m\u001b[0;34m\u001b[0m\u001b[0m\n\u001b[0;32m--> 276\u001b[0;31m     \u001b[0;32mreturn\u001b[0m \u001b[0m_constant_eager_impl\u001b[0m\u001b[0;34m(\u001b[0m\u001b[0mctx\u001b[0m\u001b[0;34m,\u001b[0m \u001b[0mvalue\u001b[0m\u001b[0;34m,\u001b[0m \u001b[0mdtype\u001b[0m\u001b[0;34m,\u001b[0m \u001b[0mshape\u001b[0m\u001b[0;34m,\u001b[0m \u001b[0mverify_shape\u001b[0m\u001b[0;34m)\u001b[0m\u001b[0;34m\u001b[0m\u001b[0;34m\u001b[0m\u001b[0m\n\u001b[0m\u001b[1;32m    277\u001b[0m \u001b[0;34m\u001b[0m\u001b[0m\n",
            "\u001b[0;32m/usr/local/lib/python3.7/dist-packages/tensorflow/python/framework/constant_op.py\u001b[0m in \u001b[0;36m_constant_eager_impl\u001b[0;34m(ctx, value, dtype, shape, verify_shape)\u001b[0m\n\u001b[1;32m    300\u001b[0m   \u001b[0;34m\"\"\"Implementation of eager constant.\"\"\"\u001b[0m\u001b[0;34m\u001b[0m\u001b[0;34m\u001b[0m\u001b[0m\n\u001b[0;32m--> 301\u001b[0;31m   \u001b[0mt\u001b[0m \u001b[0;34m=\u001b[0m \u001b[0mconvert_to_eager_tensor\u001b[0m\u001b[0;34m(\u001b[0m\u001b[0mvalue\u001b[0m\u001b[0;34m,\u001b[0m \u001b[0mctx\u001b[0m\u001b[0;34m,\u001b[0m \u001b[0mdtype\u001b[0m\u001b[0;34m)\u001b[0m\u001b[0;34m\u001b[0m\u001b[0;34m\u001b[0m\u001b[0m\n\u001b[0m\u001b[1;32m    302\u001b[0m   \u001b[0;32mif\u001b[0m \u001b[0mshape\u001b[0m \u001b[0;32mis\u001b[0m \u001b[0;32mNone\u001b[0m\u001b[0;34m:\u001b[0m\u001b[0;34m\u001b[0m\u001b[0;34m\u001b[0m\u001b[0m\n",
            "\u001b[0;32m/usr/local/lib/python3.7/dist-packages/tensorflow/python/framework/constant_op.py\u001b[0m in \u001b[0;36mconvert_to_eager_tensor\u001b[0;34m(value, ctx, dtype)\u001b[0m\n\u001b[1;32m     97\u001b[0m   \u001b[0mctx\u001b[0m\u001b[0;34m.\u001b[0m\u001b[0mensure_initialized\u001b[0m\u001b[0;34m(\u001b[0m\u001b[0;34m)\u001b[0m\u001b[0;34m\u001b[0m\u001b[0;34m\u001b[0m\u001b[0m\n\u001b[0;32m---> 98\u001b[0;31m   \u001b[0;32mreturn\u001b[0m \u001b[0mops\u001b[0m\u001b[0;34m.\u001b[0m\u001b[0mEagerTensor\u001b[0m\u001b[0;34m(\u001b[0m\u001b[0mvalue\u001b[0m\u001b[0;34m,\u001b[0m \u001b[0mctx\u001b[0m\u001b[0;34m.\u001b[0m\u001b[0mdevice_name\u001b[0m\u001b[0;34m,\u001b[0m \u001b[0mdtype\u001b[0m\u001b[0;34m)\u001b[0m\u001b[0;34m\u001b[0m\u001b[0;34m\u001b[0m\u001b[0m\n\u001b[0m\u001b[1;32m     99\u001b[0m \u001b[0;34m\u001b[0m\u001b[0m\n",
            "\u001b[0;32m/usr/local/lib/python3.7/dist-packages/keras/engine/keras_tensor.py\u001b[0m in \u001b[0;36m__array__\u001b[0;34m(self)\u001b[0m\n\u001b[1;32m    244\u001b[0m     raise TypeError(\n\u001b[0;32m--> 245\u001b[0;31m         \u001b[0;34m'Cannot convert a symbolic Keras input/output to a numpy array. '\u001b[0m\u001b[0;34m\u001b[0m\u001b[0;34m\u001b[0m\u001b[0m\n\u001b[0m\u001b[1;32m    246\u001b[0m         \u001b[0;34m'This error may indicate that you\\'re trying to pass a symbolic value '\u001b[0m\u001b[0;34m\u001b[0m\u001b[0;34m\u001b[0m\u001b[0m\n",
            "\u001b[0;31mTypeError\u001b[0m: Cannot convert a symbolic Keras input/output to a numpy array. This error may indicate that you're trying to pass a symbolic value to a NumPy call, which is not supported. Or, you may be trying to pass Keras symbolic inputs/outputs to a TF API that does not register dispatching, preventing Keras from automatically converting the API call to a lambda layer in the Functional Model.",
            "\nDuring handling of the above exception, another exception occurred:\n",
            "\u001b[0;31mValueError\u001b[0m                                Traceback (most recent call last)",
            "\u001b[0;32m<ipython-input-45-137ee0ebded7>\u001b[0m in \u001b[0;36m<module>\u001b[0;34m()\u001b[0m\n\u001b[1;32m      1\u001b[0m \u001b[0;31m##decision\u001b[0m\u001b[0;34m\u001b[0m\u001b[0;34m\u001b[0m\u001b[0;34m\u001b[0m\u001b[0m\n\u001b[0;32m----> 2\u001b[0;31m \u001b[0mout\u001b[0m\u001b[0;34m=\u001b[0m\u001b[0;34m(\u001b[0m\u001b[0mL\u001b[0m\u001b[0;34m+\u001b[0m\u001b[0mE\u001b[0m\u001b[0;34m)\u001b[0m\u001b[0;34m/\u001b[0m\u001b[0;36m2\u001b[0m\u001b[0;34m\u001b[0m\u001b[0;34m\u001b[0m\u001b[0m\n\u001b[0m\u001b[1;32m      3\u001b[0m \u001b[0mmodel\u001b[0m \u001b[0;34m=\u001b[0m \u001b[0mModel\u001b[0m\u001b[0;34m(\u001b[0m\u001b[0minputs\u001b[0m\u001b[0;34m=\u001b[0m\u001b[0;34m[\u001b[0m\u001b[0mF1\u001b[0m\u001b[0;34m,\u001b[0m\u001b[0mF2\u001b[0m\u001b[0;34m,\u001b[0m\u001b[0mF3\u001b[0m\u001b[0;34m,\u001b[0m\u001b[0mF4\u001b[0m\u001b[0;34m,\u001b[0m\u001b[0mF5\u001b[0m\u001b[0;34m,\u001b[0m\u001b[0mF6\u001b[0m\u001b[0;34m,\u001b[0m\u001b[0mF7\u001b[0m\u001b[0;34m,\u001b[0m\u001b[0mF8\u001b[0m\u001b[0;34m,\u001b[0m\u001b[0mF9\u001b[0m\u001b[0;34m,\u001b[0m\u001b[0mF10\u001b[0m\u001b[0;34m,\u001b[0m\u001b[0mF11\u001b[0m\u001b[0;34m,\u001b[0m\u001b[0mF12\u001b[0m\u001b[0;34m,\u001b[0m\u001b[0mF13\u001b[0m\u001b[0;34m,\u001b[0m\u001b[0mF14\u001b[0m\u001b[0;34m,\u001b[0m\u001b[0mF15\u001b[0m\u001b[0;34m,\u001b[0m\u001b[0mF16\u001b[0m\u001b[0;34m,\u001b[0m\u001b[0mF17\u001b[0m\u001b[0;34m,\u001b[0m\u001b[0mF18\u001b[0m\u001b[0;34m,\u001b[0m\u001b[0mF19\u001b[0m\u001b[0;34m,\u001b[0m\u001b[0mF20\u001b[0m\u001b[0;34m,\u001b[0m\u001b[0mF21\u001b[0m\u001b[0;34m,\u001b[0m\u001b[0mF22\u001b[0m\u001b[0;34m,\u001b[0m\u001b[0mF23\u001b[0m\u001b[0;34m,\u001b[0m\u001b[0mF24\u001b[0m\u001b[0;34m,\u001b[0m\u001b[0mF25\u001b[0m\u001b[0;34m,\u001b[0m\u001b[0mF26\u001b[0m\u001b[0;34m,\u001b[0m\u001b[0mF27\u001b[0m\u001b[0;34m,\u001b[0m\u001b[0mF28\u001b[0m\u001b[0;34m,\u001b[0m\u001b[0mF29\u001b[0m\u001b[0;34m,\u001b[0m\u001b[0mF30\u001b[0m\u001b[0;34m,\u001b[0m\u001b[0mF31\u001b[0m\u001b[0;34m,\u001b[0m\u001b[0mF32\u001b[0m\u001b[0;34m,\u001b[0m\u001b[0mF33\u001b[0m\u001b[0;34m,\u001b[0m\u001b[0mF34\u001b[0m\u001b[0;34m,\u001b[0m\u001b[0mF35\u001b[0m\u001b[0;34m,\u001b[0m\u001b[0mF36\u001b[0m\u001b[0;34m,\u001b[0m\u001b[0mF37\u001b[0m\u001b[0;34m,\u001b[0m\u001b[0mF38\u001b[0m\u001b[0;34m,\u001b[0m\u001b[0mF39\u001b[0m\u001b[0;34m]\u001b[0m\u001b[0;34m,\u001b[0m \u001b[0moutputs\u001b[0m\u001b[0;34m=\u001b[0m\u001b[0mL\u001b[0m\u001b[0;34m,\u001b[0m \u001b[0mname\u001b[0m\u001b[0;34m=\u001b[0m\u001b[0;34m'CNN'\u001b[0m\u001b[0;34m)\u001b[0m\u001b[0;34m\u001b[0m\u001b[0;34m\u001b[0m\u001b[0m\n\u001b[1;32m      4\u001b[0m \u001b[0mmodel\u001b[0m\u001b[0;34m.\u001b[0m\u001b[0mcomplie\u001b[0m\u001b[0;34m(\u001b[0m\u001b[0mloss\u001b[0m\u001b[0;34m=\u001b[0m\u001b[0;34m'binary_crossentropy'\u001b[0m\u001b[0;34m,\u001b[0m \u001b[0moptimizer\u001b[0m\u001b[0;34m=\u001b[0m\u001b[0;34m'SGD'\u001b[0m\u001b[0;34m,\u001b[0m \u001b[0mmetrics\u001b[0m\u001b[0;34m=\u001b[0m\u001b[0;34m[\u001b[0m\u001b[0;34m'accuracy'\u001b[0m\u001b[0;34m]\u001b[0m\u001b[0;34m)\u001b[0m\u001b[0;34m\u001b[0m\u001b[0;34m\u001b[0m\u001b[0m\n",
            "\u001b[0;32m/usr/local/lib/python3.7/dist-packages/tensorflow/python/ops/math_ops.py\u001b[0m in \u001b[0;36mbinary_op_wrapper\u001b[0;34m(x, y)\u001b[0m\n\u001b[1;32m   1248\u001b[0m             \u001b[0;32mreturn\u001b[0m \u001b[0mout\u001b[0m\u001b[0;34m\u001b[0m\u001b[0;34m\u001b[0m\u001b[0m\n\u001b[1;32m   1249\u001b[0m           \u001b[0;32mexcept\u001b[0m \u001b[0;34m(\u001b[0m\u001b[0mTypeError\u001b[0m\u001b[0;34m,\u001b[0m \u001b[0mValueError\u001b[0m\u001b[0;34m)\u001b[0m\u001b[0;34m:\u001b[0m\u001b[0;34m\u001b[0m\u001b[0;34m\u001b[0m\u001b[0m\n\u001b[0;32m-> 1250\u001b[0;31m             \u001b[0;32mraise\u001b[0m \u001b[0me\u001b[0m\u001b[0;34m\u001b[0m\u001b[0;34m\u001b[0m\u001b[0m\n\u001b[0m\u001b[1;32m   1251\u001b[0m         \u001b[0;32melse\u001b[0m\u001b[0;34m:\u001b[0m\u001b[0;34m\u001b[0m\u001b[0;34m\u001b[0m\u001b[0m\n\u001b[1;32m   1252\u001b[0m           \u001b[0;32mraise\u001b[0m\u001b[0;34m\u001b[0m\u001b[0;34m\u001b[0m\u001b[0m\n",
            "\u001b[0;32m/usr/local/lib/python3.7/dist-packages/tensorflow/python/ops/math_ops.py\u001b[0m in \u001b[0;36mbinary_op_wrapper\u001b[0;34m(x, y)\u001b[0m\n\u001b[1;32m   1232\u001b[0m         \u001b[0;31m#   r_binary_op_wrapper use different force_same_dtype values.\u001b[0m\u001b[0;34m\u001b[0m\u001b[0;34m\u001b[0m\u001b[0;34m\u001b[0m\u001b[0m\n\u001b[1;32m   1233\u001b[0m         \u001b[0mx\u001b[0m\u001b[0;34m,\u001b[0m \u001b[0my\u001b[0m \u001b[0;34m=\u001b[0m \u001b[0mmaybe_promote_tensors\u001b[0m\u001b[0;34m(\u001b[0m\u001b[0mx\u001b[0m\u001b[0;34m,\u001b[0m \u001b[0my\u001b[0m\u001b[0;34m,\u001b[0m \u001b[0mforce_same_dtype\u001b[0m\u001b[0;34m=\u001b[0m\u001b[0;32mFalse\u001b[0m\u001b[0;34m)\u001b[0m\u001b[0;34m\u001b[0m\u001b[0;34m\u001b[0m\u001b[0m\n\u001b[0;32m-> 1234\u001b[0;31m         \u001b[0;32mreturn\u001b[0m \u001b[0mfunc\u001b[0m\u001b[0;34m(\u001b[0m\u001b[0mx\u001b[0m\u001b[0;34m,\u001b[0m \u001b[0my\u001b[0m\u001b[0;34m,\u001b[0m \u001b[0mname\u001b[0m\u001b[0;34m=\u001b[0m\u001b[0mname\u001b[0m\u001b[0;34m)\u001b[0m\u001b[0;34m\u001b[0m\u001b[0;34m\u001b[0m\u001b[0m\n\u001b[0m\u001b[1;32m   1235\u001b[0m       \u001b[0;32mexcept\u001b[0m \u001b[0;34m(\u001b[0m\u001b[0mTypeError\u001b[0m\u001b[0;34m,\u001b[0m \u001b[0mValueError\u001b[0m\u001b[0;34m)\u001b[0m \u001b[0;32mas\u001b[0m \u001b[0me\u001b[0m\u001b[0;34m:\u001b[0m\u001b[0;34m\u001b[0m\u001b[0;34m\u001b[0m\u001b[0m\n\u001b[1;32m   1236\u001b[0m         \u001b[0;31m# Even if dispatching the op failed, the RHS may be a tensor aware\u001b[0m\u001b[0;34m\u001b[0m\u001b[0;34m\u001b[0m\u001b[0;34m\u001b[0m\u001b[0m\n",
            "\u001b[0;32m/usr/local/lib/python3.7/dist-packages/tensorflow/python/util/dispatch.py\u001b[0m in \u001b[0;36mwrapper\u001b[0;34m(*args, **kwargs)\u001b[0m\n\u001b[1;32m    208\u001b[0m       \u001b[0;31m# Note: convert_to_eager_tensor currently raises a ValueError, not a\u001b[0m\u001b[0;34m\u001b[0m\u001b[0;34m\u001b[0m\u001b[0;34m\u001b[0m\u001b[0m\n\u001b[1;32m    209\u001b[0m       \u001b[0;31m# TypeError, when given unexpected types.  So we need to catch both.\u001b[0m\u001b[0;34m\u001b[0m\u001b[0;34m\u001b[0m\u001b[0;34m\u001b[0m\u001b[0m\n\u001b[0;32m--> 210\u001b[0;31m       \u001b[0mresult\u001b[0m \u001b[0;34m=\u001b[0m \u001b[0mdispatch\u001b[0m\u001b[0;34m(\u001b[0m\u001b[0mwrapper\u001b[0m\u001b[0;34m,\u001b[0m \u001b[0margs\u001b[0m\u001b[0;34m,\u001b[0m \u001b[0mkwargs\u001b[0m\u001b[0;34m)\u001b[0m\u001b[0;34m\u001b[0m\u001b[0;34m\u001b[0m\u001b[0m\n\u001b[0m\u001b[1;32m    211\u001b[0m       \u001b[0;32mif\u001b[0m \u001b[0mresult\u001b[0m \u001b[0;32mis\u001b[0m \u001b[0;32mnot\u001b[0m \u001b[0mOpDispatcher\u001b[0m\u001b[0;34m.\u001b[0m\u001b[0mNOT_SUPPORTED\u001b[0m\u001b[0;34m:\u001b[0m\u001b[0;34m\u001b[0m\u001b[0;34m\u001b[0m\u001b[0m\n\u001b[1;32m    212\u001b[0m         \u001b[0;32mreturn\u001b[0m \u001b[0mresult\u001b[0m\u001b[0;34m\u001b[0m\u001b[0;34m\u001b[0m\u001b[0m\n",
            "\u001b[0;32m/usr/local/lib/python3.7/dist-packages/tensorflow/python/util/dispatch.py\u001b[0m in \u001b[0;36mdispatch\u001b[0;34m(op, args, kwargs)\u001b[0m\n\u001b[1;32m    124\u001b[0m       \u001b[0;32mreturn\u001b[0m \u001b[0mresult\u001b[0m\u001b[0;34m\u001b[0m\u001b[0;34m\u001b[0m\u001b[0m\n\u001b[1;32m    125\u001b[0m   \u001b[0;32mfor\u001b[0m \u001b[0mdispatcher\u001b[0m \u001b[0;32min\u001b[0m \u001b[0m_GLOBAL_DISPATCHERS\u001b[0m\u001b[0;34m:\u001b[0m\u001b[0;34m\u001b[0m\u001b[0;34m\u001b[0m\u001b[0m\n\u001b[0;32m--> 126\u001b[0;31m     \u001b[0mresult\u001b[0m \u001b[0;34m=\u001b[0m \u001b[0mdispatcher\u001b[0m\u001b[0;34m.\u001b[0m\u001b[0mhandle\u001b[0m\u001b[0;34m(\u001b[0m\u001b[0mop\u001b[0m\u001b[0;34m,\u001b[0m \u001b[0margs\u001b[0m\u001b[0;34m,\u001b[0m \u001b[0mkwargs\u001b[0m\u001b[0;34m)\u001b[0m\u001b[0;34m\u001b[0m\u001b[0;34m\u001b[0m\u001b[0m\n\u001b[0m\u001b[1;32m    127\u001b[0m     \u001b[0;32mif\u001b[0m \u001b[0mresult\u001b[0m \u001b[0;32mis\u001b[0m \u001b[0;32mnot\u001b[0m \u001b[0mOpDispatcher\u001b[0m\u001b[0;34m.\u001b[0m\u001b[0mNOT_SUPPORTED\u001b[0m\u001b[0;34m:\u001b[0m\u001b[0;34m\u001b[0m\u001b[0;34m\u001b[0m\u001b[0m\n\u001b[1;32m    128\u001b[0m       \u001b[0;32mreturn\u001b[0m \u001b[0mresult\u001b[0m\u001b[0;34m\u001b[0m\u001b[0;34m\u001b[0m\u001b[0m\n",
            "\u001b[0;32m/usr/local/lib/python3.7/dist-packages/keras/layers/core.py\u001b[0m in \u001b[0;36mhandle\u001b[0;34m(self, op, args, kwargs)\u001b[0m\n\u001b[1;32m   1464\u001b[0m         \u001b[0misinstance\u001b[0m\u001b[0;34m(\u001b[0m\u001b[0mx\u001b[0m\u001b[0;34m,\u001b[0m \u001b[0mkeras_tensor\u001b[0m\u001b[0;34m.\u001b[0m\u001b[0mKerasTensor\u001b[0m\u001b[0;34m)\u001b[0m\u001b[0;34m\u001b[0m\u001b[0;34m\u001b[0m\u001b[0m\n\u001b[1;32m   1465\u001b[0m         for x in tf.nest.flatten([args, kwargs])):\n\u001b[0;32m-> 1466\u001b[0;31m       \u001b[0;32mreturn\u001b[0m \u001b[0mTFOpLambda\u001b[0m\u001b[0;34m(\u001b[0m\u001b[0mop\u001b[0m\u001b[0;34m)\u001b[0m\u001b[0;34m(\u001b[0m\u001b[0;34m*\u001b[0m\u001b[0margs\u001b[0m\u001b[0;34m,\u001b[0m \u001b[0;34m**\u001b[0m\u001b[0mkwargs\u001b[0m\u001b[0;34m)\u001b[0m\u001b[0;34m\u001b[0m\u001b[0;34m\u001b[0m\u001b[0m\n\u001b[0m\u001b[1;32m   1467\u001b[0m     \u001b[0;32melse\u001b[0m\u001b[0;34m:\u001b[0m\u001b[0;34m\u001b[0m\u001b[0;34m\u001b[0m\u001b[0m\n\u001b[1;32m   1468\u001b[0m       \u001b[0;32mreturn\u001b[0m \u001b[0mself\u001b[0m\u001b[0;34m.\u001b[0m\u001b[0mNOT_SUPPORTED\u001b[0m\u001b[0;34m\u001b[0m\u001b[0;34m\u001b[0m\u001b[0m\n",
            "\u001b[0;32m/usr/local/lib/python3.7/dist-packages/keras/engine/base_layer.py\u001b[0m in \u001b[0;36m__call__\u001b[0;34m(self, *args, **kwargs)\u001b[0m\n\u001b[1;32m    944\u001b[0m     \u001b[0;32mif\u001b[0m \u001b[0m_in_functional_construction_mode\u001b[0m\u001b[0;34m(\u001b[0m\u001b[0mself\u001b[0m\u001b[0;34m,\u001b[0m \u001b[0minputs\u001b[0m\u001b[0;34m,\u001b[0m \u001b[0margs\u001b[0m\u001b[0;34m,\u001b[0m \u001b[0mkwargs\u001b[0m\u001b[0;34m,\u001b[0m \u001b[0minput_list\u001b[0m\u001b[0;34m)\u001b[0m\u001b[0;34m:\u001b[0m\u001b[0;34m\u001b[0m\u001b[0;34m\u001b[0m\u001b[0m\n\u001b[1;32m    945\u001b[0m       return self._functional_construction_call(inputs, args, kwargs,\n\u001b[0;32m--> 946\u001b[0;31m                                                 input_list)\n\u001b[0m\u001b[1;32m    947\u001b[0m \u001b[0;34m\u001b[0m\u001b[0m\n\u001b[1;32m    948\u001b[0m     \u001b[0;31m# Maintains info about the `Layer.call` stack.\u001b[0m\u001b[0;34m\u001b[0m\u001b[0;34m\u001b[0m\u001b[0;34m\u001b[0m\u001b[0m\n",
            "\u001b[0;32m/usr/local/lib/python3.7/dist-packages/keras/engine/base_layer.py\u001b[0m in \u001b[0;36m_functional_construction_call\u001b[0;34m(self, inputs, args, kwargs, input_list)\u001b[0m\n\u001b[1;32m   1082\u001b[0m       \u001b[0;31m# Check input assumptions set after layer building, e.g. input shape.\u001b[0m\u001b[0;34m\u001b[0m\u001b[0;34m\u001b[0m\u001b[0;34m\u001b[0m\u001b[0m\n\u001b[1;32m   1083\u001b[0m       outputs = self._keras_tensor_symbolic_call(\n\u001b[0;32m-> 1084\u001b[0;31m           inputs, input_masks, args, kwargs)\n\u001b[0m\u001b[1;32m   1085\u001b[0m \u001b[0;34m\u001b[0m\u001b[0m\n\u001b[1;32m   1086\u001b[0m       \u001b[0;32mif\u001b[0m \u001b[0moutputs\u001b[0m \u001b[0;32mis\u001b[0m \u001b[0;32mNone\u001b[0m\u001b[0;34m:\u001b[0m\u001b[0;34m\u001b[0m\u001b[0;34m\u001b[0m\u001b[0m\n",
            "\u001b[0;32m/usr/local/lib/python3.7/dist-packages/keras/engine/base_layer.py\u001b[0m in \u001b[0;36m_keras_tensor_symbolic_call\u001b[0;34m(self, inputs, input_masks, args, kwargs)\u001b[0m\n\u001b[1;32m    814\u001b[0m       \u001b[0;32mreturn\u001b[0m \u001b[0mtf\u001b[0m\u001b[0;34m.\u001b[0m\u001b[0mnest\u001b[0m\u001b[0;34m.\u001b[0m\u001b[0mmap_structure\u001b[0m\u001b[0;34m(\u001b[0m\u001b[0mkeras_tensor\u001b[0m\u001b[0;34m.\u001b[0m\u001b[0mKerasTensor\u001b[0m\u001b[0;34m,\u001b[0m \u001b[0moutput_signature\u001b[0m\u001b[0;34m)\u001b[0m\u001b[0;34m\u001b[0m\u001b[0;34m\u001b[0m\u001b[0m\n\u001b[1;32m    815\u001b[0m     \u001b[0;32melse\u001b[0m\u001b[0;34m:\u001b[0m\u001b[0;34m\u001b[0m\u001b[0;34m\u001b[0m\u001b[0m\n\u001b[0;32m--> 816\u001b[0;31m       \u001b[0;32mreturn\u001b[0m \u001b[0mself\u001b[0m\u001b[0;34m.\u001b[0m\u001b[0m_infer_output_signature\u001b[0m\u001b[0;34m(\u001b[0m\u001b[0minputs\u001b[0m\u001b[0;34m,\u001b[0m \u001b[0margs\u001b[0m\u001b[0;34m,\u001b[0m \u001b[0mkwargs\u001b[0m\u001b[0;34m,\u001b[0m \u001b[0minput_masks\u001b[0m\u001b[0;34m)\u001b[0m\u001b[0;34m\u001b[0m\u001b[0;34m\u001b[0m\u001b[0m\n\u001b[0m\u001b[1;32m    817\u001b[0m \u001b[0;34m\u001b[0m\u001b[0m\n\u001b[1;32m    818\u001b[0m   \u001b[0;32mdef\u001b[0m \u001b[0m_infer_output_signature\u001b[0m\u001b[0;34m(\u001b[0m\u001b[0mself\u001b[0m\u001b[0;34m,\u001b[0m \u001b[0minputs\u001b[0m\u001b[0;34m,\u001b[0m \u001b[0margs\u001b[0m\u001b[0;34m,\u001b[0m \u001b[0mkwargs\u001b[0m\u001b[0;34m,\u001b[0m \u001b[0minput_masks\u001b[0m\u001b[0;34m)\u001b[0m\u001b[0;34m:\u001b[0m\u001b[0;34m\u001b[0m\u001b[0;34m\u001b[0m\u001b[0m\n",
            "\u001b[0;32m/usr/local/lib/python3.7/dist-packages/keras/engine/base_layer.py\u001b[0m in \u001b[0;36m_infer_output_signature\u001b[0;34m(self, inputs, args, kwargs, input_masks)\u001b[0m\n\u001b[1;32m    854\u001b[0m           \u001b[0mself\u001b[0m\u001b[0;34m.\u001b[0m\u001b[0m_maybe_build\u001b[0m\u001b[0;34m(\u001b[0m\u001b[0minputs\u001b[0m\u001b[0;34m)\u001b[0m\u001b[0;34m\u001b[0m\u001b[0;34m\u001b[0m\u001b[0m\n\u001b[1;32m    855\u001b[0m           \u001b[0minputs\u001b[0m \u001b[0;34m=\u001b[0m \u001b[0mself\u001b[0m\u001b[0;34m.\u001b[0m\u001b[0m_maybe_cast_inputs\u001b[0m\u001b[0;34m(\u001b[0m\u001b[0minputs\u001b[0m\u001b[0;34m)\u001b[0m\u001b[0;34m\u001b[0m\u001b[0;34m\u001b[0m\u001b[0m\n\u001b[0;32m--> 856\u001b[0;31m           \u001b[0moutputs\u001b[0m \u001b[0;34m=\u001b[0m \u001b[0mcall_fn\u001b[0m\u001b[0;34m(\u001b[0m\u001b[0minputs\u001b[0m\u001b[0;34m,\u001b[0m \u001b[0;34m*\u001b[0m\u001b[0margs\u001b[0m\u001b[0;34m,\u001b[0m \u001b[0;34m**\u001b[0m\u001b[0mkwargs\u001b[0m\u001b[0;34m)\u001b[0m\u001b[0;34m\u001b[0m\u001b[0;34m\u001b[0m\u001b[0m\n\u001b[0m\u001b[1;32m    857\u001b[0m \u001b[0;34m\u001b[0m\u001b[0m\n\u001b[1;32m    858\u001b[0m         \u001b[0mself\u001b[0m\u001b[0;34m.\u001b[0m\u001b[0m_handle_activity_regularization\u001b[0m\u001b[0;34m(\u001b[0m\u001b[0minputs\u001b[0m\u001b[0;34m,\u001b[0m \u001b[0moutputs\u001b[0m\u001b[0;34m)\u001b[0m\u001b[0;34m\u001b[0m\u001b[0;34m\u001b[0m\u001b[0m\n",
            "\u001b[0;32m/usr/local/lib/python3.7/dist-packages/keras/layers/core.py\u001b[0m in \u001b[0;36m_call_wrapper\u001b[0;34m(*args, **kwargs)\u001b[0m\n\u001b[1;32m   1341\u001b[0m     \u001b[0;31m# Decorate the function to produce this layer's call method\u001b[0m\u001b[0;34m\u001b[0m\u001b[0;34m\u001b[0m\u001b[0;34m\u001b[0m\u001b[0m\n\u001b[1;32m   1342\u001b[0m     \u001b[0;32mdef\u001b[0m \u001b[0m_call_wrapper\u001b[0m\u001b[0;34m(\u001b[0m\u001b[0;34m*\u001b[0m\u001b[0margs\u001b[0m\u001b[0;34m,\u001b[0m \u001b[0;34m**\u001b[0m\u001b[0mkwargs\u001b[0m\u001b[0;34m)\u001b[0m\u001b[0;34m:\u001b[0m\u001b[0;34m\u001b[0m\u001b[0;34m\u001b[0m\u001b[0m\n\u001b[0;32m-> 1343\u001b[0;31m       \u001b[0;32mreturn\u001b[0m \u001b[0mself\u001b[0m\u001b[0;34m.\u001b[0m\u001b[0m_call_wrapper\u001b[0m\u001b[0;34m(\u001b[0m\u001b[0;34m*\u001b[0m\u001b[0margs\u001b[0m\u001b[0;34m,\u001b[0m \u001b[0;34m**\u001b[0m\u001b[0mkwargs\u001b[0m\u001b[0;34m)\u001b[0m\u001b[0;34m\u001b[0m\u001b[0;34m\u001b[0m\u001b[0m\n\u001b[0m\u001b[1;32m   1344\u001b[0m     \u001b[0mself\u001b[0m\u001b[0;34m.\u001b[0m\u001b[0mcall\u001b[0m \u001b[0;34m=\u001b[0m \u001b[0mtf\u001b[0m\u001b[0;34m.\u001b[0m\u001b[0m__internal__\u001b[0m\u001b[0;34m.\u001b[0m\u001b[0mdecorator\u001b[0m\u001b[0;34m.\u001b[0m\u001b[0mmake_decorator\u001b[0m\u001b[0;34m(\u001b[0m\u001b[0mfunction\u001b[0m\u001b[0;34m,\u001b[0m \u001b[0m_call_wrapper\u001b[0m\u001b[0;34m)\u001b[0m\u001b[0;34m\u001b[0m\u001b[0;34m\u001b[0m\u001b[0m\n\u001b[1;32m   1345\u001b[0m \u001b[0;34m\u001b[0m\u001b[0m\n",
            "\u001b[0;32m/usr/local/lib/python3.7/dist-packages/keras/layers/core.py\u001b[0m in \u001b[0;36m_call_wrapper\u001b[0;34m(self, *args, **kwargs)\u001b[0m\n\u001b[1;32m   1373\u001b[0m       \u001b[0;31m# multiple ops w/ the same name when the layer is reused)\u001b[0m\u001b[0;34m\u001b[0m\u001b[0;34m\u001b[0m\u001b[0;34m\u001b[0m\u001b[0m\n\u001b[1;32m   1374\u001b[0m       \u001b[0mkwargs\u001b[0m\u001b[0;34m.\u001b[0m\u001b[0mpop\u001b[0m\u001b[0;34m(\u001b[0m\u001b[0;34m'name'\u001b[0m\u001b[0;34m,\u001b[0m \u001b[0;32mNone\u001b[0m\u001b[0;34m)\u001b[0m\u001b[0;34m\u001b[0m\u001b[0;34m\u001b[0m\u001b[0m\n\u001b[0;32m-> 1375\u001b[0;31m       \u001b[0mresult\u001b[0m \u001b[0;34m=\u001b[0m \u001b[0mself\u001b[0m\u001b[0;34m.\u001b[0m\u001b[0mfunction\u001b[0m\u001b[0;34m(\u001b[0m\u001b[0;34m*\u001b[0m\u001b[0margs\u001b[0m\u001b[0;34m,\u001b[0m \u001b[0;34m**\u001b[0m\u001b[0mkwargs\u001b[0m\u001b[0;34m)\u001b[0m\u001b[0;34m\u001b[0m\u001b[0;34m\u001b[0m\u001b[0m\n\u001b[0m\u001b[1;32m   1376\u001b[0m     \u001b[0mself\u001b[0m\u001b[0;34m.\u001b[0m\u001b[0m_check_variables\u001b[0m\u001b[0;34m(\u001b[0m\u001b[0mcreated_variables\u001b[0m\u001b[0;34m,\u001b[0m \u001b[0mtape\u001b[0m\u001b[0;34m.\u001b[0m\u001b[0mwatched_variables\u001b[0m\u001b[0;34m(\u001b[0m\u001b[0;34m)\u001b[0m\u001b[0;34m)\u001b[0m\u001b[0;34m\u001b[0m\u001b[0;34m\u001b[0m\u001b[0m\n\u001b[1;32m   1377\u001b[0m     \u001b[0;32mreturn\u001b[0m \u001b[0mresult\u001b[0m\u001b[0;34m\u001b[0m\u001b[0;34m\u001b[0m\u001b[0m\n",
            "\u001b[0;32m/usr/local/lib/python3.7/dist-packages/tensorflow/python/util/dispatch.py\u001b[0m in \u001b[0;36mwrapper\u001b[0;34m(*args, **kwargs)\u001b[0m\n\u001b[1;32m    204\u001b[0m     \u001b[0;34m\"\"\"Call target, and fall back on dispatchers if there is a TypeError.\"\"\"\u001b[0m\u001b[0;34m\u001b[0m\u001b[0;34m\u001b[0m\u001b[0m\n\u001b[1;32m    205\u001b[0m     \u001b[0;32mtry\u001b[0m\u001b[0;34m:\u001b[0m\u001b[0;34m\u001b[0m\u001b[0;34m\u001b[0m\u001b[0m\n\u001b[0;32m--> 206\u001b[0;31m       \u001b[0;32mreturn\u001b[0m \u001b[0mtarget\u001b[0m\u001b[0;34m(\u001b[0m\u001b[0;34m*\u001b[0m\u001b[0margs\u001b[0m\u001b[0;34m,\u001b[0m \u001b[0;34m**\u001b[0m\u001b[0mkwargs\u001b[0m\u001b[0;34m)\u001b[0m\u001b[0;34m\u001b[0m\u001b[0;34m\u001b[0m\u001b[0m\n\u001b[0m\u001b[1;32m    207\u001b[0m     \u001b[0;32mexcept\u001b[0m \u001b[0;34m(\u001b[0m\u001b[0mTypeError\u001b[0m\u001b[0;34m,\u001b[0m \u001b[0mValueError\u001b[0m\u001b[0;34m)\u001b[0m\u001b[0;34m:\u001b[0m\u001b[0;34m\u001b[0m\u001b[0;34m\u001b[0m\u001b[0m\n\u001b[1;32m    208\u001b[0m       \u001b[0;31m# Note: convert_to_eager_tensor currently raises a ValueError, not a\u001b[0m\u001b[0;34m\u001b[0m\u001b[0;34m\u001b[0m\u001b[0;34m\u001b[0m\u001b[0m\n",
            "\u001b[0;32m/usr/local/lib/python3.7/dist-packages/tensorflow/python/ops/math_ops.py\u001b[0m in \u001b[0;36m_add_dispatch\u001b[0;34m(x, y, name)\u001b[0m\n\u001b[1;32m   1563\u001b[0m     \u001b[0;32mreturn\u001b[0m \u001b[0mgen_math_ops\u001b[0m\u001b[0;34m.\u001b[0m\u001b[0madd\u001b[0m\u001b[0;34m(\u001b[0m\u001b[0mx\u001b[0m\u001b[0;34m,\u001b[0m \u001b[0my\u001b[0m\u001b[0;34m,\u001b[0m \u001b[0mname\u001b[0m\u001b[0;34m=\u001b[0m\u001b[0mname\u001b[0m\u001b[0;34m)\u001b[0m\u001b[0;34m\u001b[0m\u001b[0;34m\u001b[0m\u001b[0m\n\u001b[1;32m   1564\u001b[0m   \u001b[0;32melse\u001b[0m\u001b[0;34m:\u001b[0m\u001b[0;34m\u001b[0m\u001b[0;34m\u001b[0m\u001b[0m\n\u001b[0;32m-> 1565\u001b[0;31m     \u001b[0;32mreturn\u001b[0m \u001b[0mgen_math_ops\u001b[0m\u001b[0;34m.\u001b[0m\u001b[0madd_v2\u001b[0m\u001b[0;34m(\u001b[0m\u001b[0mx\u001b[0m\u001b[0;34m,\u001b[0m \u001b[0my\u001b[0m\u001b[0;34m,\u001b[0m \u001b[0mname\u001b[0m\u001b[0;34m=\u001b[0m\u001b[0mname\u001b[0m\u001b[0;34m)\u001b[0m\u001b[0;34m\u001b[0m\u001b[0;34m\u001b[0m\u001b[0m\n\u001b[0m\u001b[1;32m   1566\u001b[0m \u001b[0;34m\u001b[0m\u001b[0m\n\u001b[1;32m   1567\u001b[0m \u001b[0;34m\u001b[0m\u001b[0m\n",
            "\u001b[0;32m/usr/local/lib/python3.7/dist-packages/tensorflow/python/ops/gen_math_ops.py\u001b[0m in \u001b[0;36madd_v2\u001b[0;34m(x, y, name)\u001b[0m\n\u001b[1;32m    531\u001b[0m   \u001b[0;31m# Add nodes to the TensorFlow graph.\u001b[0m\u001b[0;34m\u001b[0m\u001b[0;34m\u001b[0m\u001b[0;34m\u001b[0m\u001b[0m\n\u001b[1;32m    532\u001b[0m   _, _, _op, _outputs = _op_def_library._apply_op_helper(\n\u001b[0;32m--> 533\u001b[0;31m         \"AddV2\", x=x, y=y, name=name)\n\u001b[0m\u001b[1;32m    534\u001b[0m   \u001b[0m_result\u001b[0m \u001b[0;34m=\u001b[0m \u001b[0m_outputs\u001b[0m\u001b[0;34m[\u001b[0m\u001b[0;34m:\u001b[0m\u001b[0;34m]\u001b[0m\u001b[0;34m\u001b[0m\u001b[0;34m\u001b[0m\u001b[0m\n\u001b[1;32m    535\u001b[0m   \u001b[0;32mif\u001b[0m \u001b[0m_execute\u001b[0m\u001b[0;34m.\u001b[0m\u001b[0mmust_record_gradient\u001b[0m\u001b[0;34m(\u001b[0m\u001b[0;34m)\u001b[0m\u001b[0;34m:\u001b[0m\u001b[0;34m\u001b[0m\u001b[0;34m\u001b[0m\u001b[0m\n",
            "\u001b[0;32m/usr/local/lib/python3.7/dist-packages/tensorflow/python/framework/op_def_library.py\u001b[0m in \u001b[0;36m_apply_op_helper\u001b[0;34m(op_type_name, name, **keywords)\u001b[0m\n\u001b[1;32m    748\u001b[0m       op = g._create_op_internal(op_type_name, inputs, dtypes=None,\n\u001b[1;32m    749\u001b[0m                                  \u001b[0mname\u001b[0m\u001b[0;34m=\u001b[0m\u001b[0mscope\u001b[0m\u001b[0;34m,\u001b[0m \u001b[0minput_types\u001b[0m\u001b[0;34m=\u001b[0m\u001b[0minput_types\u001b[0m\u001b[0;34m,\u001b[0m\u001b[0;34m\u001b[0m\u001b[0;34m\u001b[0m\u001b[0m\n\u001b[0;32m--> 750\u001b[0;31m                                  attrs=attr_protos, op_def=op_def)\n\u001b[0m\u001b[1;32m    751\u001b[0m \u001b[0;34m\u001b[0m\u001b[0m\n\u001b[1;32m    752\u001b[0m     \u001b[0;31m# `outputs` is returned as a separate return value so that the output\u001b[0m\u001b[0;34m\u001b[0m\u001b[0;34m\u001b[0m\u001b[0;34m\u001b[0m\u001b[0m\n",
            "\u001b[0;32m/usr/local/lib/python3.7/dist-packages/tensorflow/python/framework/func_graph.py\u001b[0m in \u001b[0;36m_create_op_internal\u001b[0;34m(self, op_type, inputs, dtypes, input_types, name, attrs, op_def, compute_device)\u001b[0m\n\u001b[1;32m    599\u001b[0m     return super(FuncGraph, self)._create_op_internal(  # pylint: disable=protected-access\n\u001b[1;32m    600\u001b[0m         \u001b[0mop_type\u001b[0m\u001b[0;34m,\u001b[0m \u001b[0mcaptured_inputs\u001b[0m\u001b[0;34m,\u001b[0m \u001b[0mdtypes\u001b[0m\u001b[0;34m,\u001b[0m \u001b[0minput_types\u001b[0m\u001b[0;34m,\u001b[0m \u001b[0mname\u001b[0m\u001b[0;34m,\u001b[0m \u001b[0mattrs\u001b[0m\u001b[0;34m,\u001b[0m \u001b[0mop_def\u001b[0m\u001b[0;34m,\u001b[0m\u001b[0;34m\u001b[0m\u001b[0;34m\u001b[0m\u001b[0m\n\u001b[0;32m--> 601\u001b[0;31m         compute_device)\n\u001b[0m\u001b[1;32m    602\u001b[0m \u001b[0;34m\u001b[0m\u001b[0m\n\u001b[1;32m    603\u001b[0m   \u001b[0;32mdef\u001b[0m \u001b[0mcapture\u001b[0m\u001b[0;34m(\u001b[0m\u001b[0mself\u001b[0m\u001b[0;34m,\u001b[0m \u001b[0mtensor\u001b[0m\u001b[0;34m,\u001b[0m \u001b[0mname\u001b[0m\u001b[0;34m=\u001b[0m\u001b[0;32mNone\u001b[0m\u001b[0;34m,\u001b[0m \u001b[0mshape\u001b[0m\u001b[0;34m=\u001b[0m\u001b[0;32mNone\u001b[0m\u001b[0;34m)\u001b[0m\u001b[0;34m:\u001b[0m\u001b[0;34m\u001b[0m\u001b[0;34m\u001b[0m\u001b[0m\n",
            "\u001b[0;32m/usr/local/lib/python3.7/dist-packages/tensorflow/python/framework/ops.py\u001b[0m in \u001b[0;36m_create_op_internal\u001b[0;34m(self, op_type, inputs, dtypes, input_types, name, attrs, op_def, compute_device)\u001b[0m\n\u001b[1;32m   3563\u001b[0m           \u001b[0minput_types\u001b[0m\u001b[0;34m=\u001b[0m\u001b[0minput_types\u001b[0m\u001b[0;34m,\u001b[0m\u001b[0;34m\u001b[0m\u001b[0;34m\u001b[0m\u001b[0m\n\u001b[1;32m   3564\u001b[0m           \u001b[0moriginal_op\u001b[0m\u001b[0;34m=\u001b[0m\u001b[0mself\u001b[0m\u001b[0;34m.\u001b[0m\u001b[0m_default_original_op\u001b[0m\u001b[0;34m,\u001b[0m\u001b[0;34m\u001b[0m\u001b[0;34m\u001b[0m\u001b[0m\n\u001b[0;32m-> 3565\u001b[0;31m           op_def=op_def)\n\u001b[0m\u001b[1;32m   3566\u001b[0m       \u001b[0mself\u001b[0m\u001b[0;34m.\u001b[0m\u001b[0m_create_op_helper\u001b[0m\u001b[0;34m(\u001b[0m\u001b[0mret\u001b[0m\u001b[0;34m,\u001b[0m \u001b[0mcompute_device\u001b[0m\u001b[0;34m=\u001b[0m\u001b[0mcompute_device\u001b[0m\u001b[0;34m)\u001b[0m\u001b[0;34m\u001b[0m\u001b[0;34m\u001b[0m\u001b[0m\n\u001b[1;32m   3567\u001b[0m     \u001b[0;32mreturn\u001b[0m \u001b[0mret\u001b[0m\u001b[0;34m\u001b[0m\u001b[0;34m\u001b[0m\u001b[0m\n",
            "\u001b[0;32m/usr/local/lib/python3.7/dist-packages/tensorflow/python/framework/ops.py\u001b[0m in \u001b[0;36m__init__\u001b[0;34m(self, node_def, g, inputs, output_types, control_inputs, input_types, original_op, op_def)\u001b[0m\n\u001b[1;32m   2040\u001b[0m         \u001b[0mop_def\u001b[0m \u001b[0;34m=\u001b[0m \u001b[0mself\u001b[0m\u001b[0;34m.\u001b[0m\u001b[0m_graph\u001b[0m\u001b[0;34m.\u001b[0m\u001b[0m_get_op_def\u001b[0m\u001b[0;34m(\u001b[0m\u001b[0mnode_def\u001b[0m\u001b[0;34m.\u001b[0m\u001b[0mop\u001b[0m\u001b[0;34m)\u001b[0m\u001b[0;34m\u001b[0m\u001b[0;34m\u001b[0m\u001b[0m\n\u001b[1;32m   2041\u001b[0m       self._c_op = _create_c_op(self._graph, node_def, inputs,\n\u001b[0;32m-> 2042\u001b[0;31m                                 control_input_ops, op_def)\n\u001b[0m\u001b[1;32m   2043\u001b[0m       \u001b[0mname\u001b[0m \u001b[0;34m=\u001b[0m \u001b[0mcompat\u001b[0m\u001b[0;34m.\u001b[0m\u001b[0mas_str\u001b[0m\u001b[0;34m(\u001b[0m\u001b[0mnode_def\u001b[0m\u001b[0;34m.\u001b[0m\u001b[0mname\u001b[0m\u001b[0;34m)\u001b[0m\u001b[0;34m\u001b[0m\u001b[0;34m\u001b[0m\u001b[0m\n\u001b[1;32m   2044\u001b[0m \u001b[0;34m\u001b[0m\u001b[0m\n",
            "\u001b[0;32m/usr/local/lib/python3.7/dist-packages/tensorflow/python/framework/ops.py\u001b[0m in \u001b[0;36m_create_c_op\u001b[0;34m(graph, node_def, inputs, control_inputs, op_def)\u001b[0m\n\u001b[1;32m   1881\u001b[0m   \u001b[0;32mexcept\u001b[0m \u001b[0merrors\u001b[0m\u001b[0;34m.\u001b[0m\u001b[0mInvalidArgumentError\u001b[0m \u001b[0;32mas\u001b[0m \u001b[0me\u001b[0m\u001b[0;34m:\u001b[0m\u001b[0;34m\u001b[0m\u001b[0;34m\u001b[0m\u001b[0m\n\u001b[1;32m   1882\u001b[0m     \u001b[0;31m# Convert to ValueError for backwards compatibility.\u001b[0m\u001b[0;34m\u001b[0m\u001b[0;34m\u001b[0m\u001b[0;34m\u001b[0m\u001b[0m\n\u001b[0;32m-> 1883\u001b[0;31m     \u001b[0;32mraise\u001b[0m \u001b[0mValueError\u001b[0m\u001b[0;34m(\u001b[0m\u001b[0mstr\u001b[0m\u001b[0;34m(\u001b[0m\u001b[0me\u001b[0m\u001b[0;34m)\u001b[0m\u001b[0;34m)\u001b[0m\u001b[0;34m\u001b[0m\u001b[0;34m\u001b[0m\u001b[0m\n\u001b[0m\u001b[1;32m   1884\u001b[0m \u001b[0;34m\u001b[0m\u001b[0m\n\u001b[1;32m   1885\u001b[0m   \u001b[0;32mreturn\u001b[0m \u001b[0mc_op\u001b[0m\u001b[0;34m\u001b[0m\u001b[0;34m\u001b[0m\u001b[0m\n",
            "\u001b[0;31mValueError\u001b[0m: Dimensions must be equal, but are 6 and 8 for '{{node tf.__operators__.add/AddV2}} = AddV2[T=DT_FLOAT](Placeholder, Placeholder_1)' with input shapes: [64,6,16,53], [64,8,18,53]."
          ]
        }
      ]
    },
    {
      "cell_type": "code",
      "metadata": {
        "id": "d2ec0c32"
      },
      "source": [
        "model.summary()"
      ],
      "id": "d2ec0c32",
      "execution_count": null,
      "outputs": []
    },
    {
      "cell_type": "markdown",
      "metadata": {
        "id": "fd6317c3"
      },
      "source": [
        "### train"
      ],
      "id": "fd6317c3"
    },
    {
      "cell_type": "code",
      "metadata": {
        "id": "7a6a628c"
      },
      "source": [
        "print(\"Starting training at\", datetime.datetime.now())\n",
        "t0 = time.time()\n",
        "callbacks = [ModelCheckpoint(Model_File, monitor='val_acc', save_best_only=True)]\n",
        "history = model.fit([f1,f2,f3,f4,f5,f6,f7,f8,f9,f10,f11,f12,f13,f14,f15,f16,f17,f18,f19,f20,f21,f22,f23,f24,f25,f26,f27,f28,f29,f30,f31,f32,f33,f34,f35,f36,f37,f38,f39],\n",
        "                    label_train,\n",
        "                    epochs=num_epoch,\n",
        "                    validation_split=VALIDATION_SPLIT,\n",
        "                    verbose=2,\n",
        "                    batch_size=BATCH_SIZE,\n",
        "                    callbacks=callbacks)\n",
        "t1 = time.time()\n",
        "print(\"Training ended at\", datetime.datetime.now())\n",
        "print(\"Minutes elapsed: %f\" % ((t1 - t0) / 60.))"
      ],
      "id": "7a6a628c",
      "execution_count": null,
      "outputs": []
    },
    {
      "cell_type": "code",
      "metadata": {
        "id": "0e2f4818"
      },
      "source": [
        "acc = pd.DataFrame({'epoch': [ i + 1 for i in history.epoch ],\n",
        "                    'training': history.history['acc'],\n",
        "                    'validation': history.history['val_acc']})\n",
        "print(acc)"
      ],
      "id": "0e2f4818",
      "execution_count": null,
      "outputs": []
    },
    {
      "cell_type": "code",
      "metadata": {
        "id": "0b6d6de7"
      },
      "source": [
        "max_val_acc, idx = max((val, idx) for (idx, val) in enumerate(history.history['val_acc']))\n",
        "print('Maximum accuracy at epoch', '{:d}'.format(idx+1), '=', '{:.4f}'.format(max_val_acc))"
      ],
      "id": "0b6d6de7",
      "execution_count": null,
      "outputs": []
    },
    {
      "cell_type": "markdown",
      "metadata": {
        "id": "4cf5c68a"
      },
      "source": [
        "### test performance"
      ],
      "id": "4cf5c68a"
    },
    {
      "cell_type": "code",
      "metadata": {
        "id": "85950cf3"
      },
      "source": [
        "model.load_weights(Model_File)\n",
        "loss, accuracy = model.evaluate([ft1,ft2,ft3,ft4,ft5,ft6,ft7,ft8,ft9,ft10,ft11,ft12,ft13,ft14,ft15,ft16,ft17,ft18,ft19,ft20,ft21,ft22,ft23,ft24,ft25,ft26,ft27,ft28,ft29,ft30,ft31,ft32,ft33,ft34,ft35,ft36,ft37,ft38,ft39], label_test, verbose=0)\n",
        "print('loss = {0:.4f}, accuracy = {1:.4f}'.format(loss, accuracy))"
      ],
      "id": "85950cf3",
      "execution_count": null,
      "outputs": []
    },
    {
      "cell_type": "code",
      "metadata": {
        "id": "2e1cf1fc"
      },
      "source": [
        ""
      ],
      "id": "2e1cf1fc",
      "execution_count": null,
      "outputs": []
    }
  ]
}