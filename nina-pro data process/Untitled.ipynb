{
 "cells": [
  {
   "cell_type": "code",
   "execution_count": 1,
   "id": "d81f7660-5c80-4e22-aeaa-f9614d002f3d",
   "metadata": {},
   "outputs": [],
   "source": [
    "import os\n",
    "import scipy.io as sio\n",
    "import numpy as np\n",
    "import matplotlib\n",
    "import matplotlib.pyplot as plt\n"
   ]
  },
  {
   "cell_type": "code",
   "execution_count": 2,
   "id": "da90ed32-e599-4719-8076-fa285d470827",
   "metadata": {},
   "outputs": [],
   "source": [
    "BASE_PATH='C:/Users/11488/Desktop/my semg/nina-pro data process'\n",
    "OUT_PATH='C:/Users/11488/Desktop/my semg/nina-pro data process/my dataset'\n",
    "NUM_GESTURE_G1=12+1\n",
    "NUM_GESTURE_G2=17+1\n",
    "NUM_GESTURE_G3=23+1\n",
    "TOT_NUM_GESTURE=NUM_GESTURE_G1+NUM_GESTURE_G2+NUM_GESTURE_G3-2\n",
    "SUBJECT=list(range(1,28))"
   ]
  },
  {
   "cell_type": "code",
   "execution_count": 8,
   "id": "5de4efd1-43b9-44a2-b2c2-9f66153d7d09",
   "metadata": {},
   "outputs": [],
   "source": [
    "path_1=os.path.join(BASE_PATH,\n",
    "                        'raw data',\n",
    "                        'nina-db1',\n",
    "                        'group1',\n",
    "                        'S'+str(1)+'.mat')\n",
    "    #print(path_1)\n",
    "my_mat=sio.loadmat(path_1)\n",
    "my_emg1=my_mat['emg']"
   ]
  },
  {
   "cell_type": "code",
   "execution_count": 9,
   "id": "f72996e7-0834-444c-a750-9fe968b8778c",
   "metadata": {},
   "outputs": [],
   "source": [
    "path_2=os.path.join(BASE_PATH,\n",
    "                        'raw data',\n",
    "                        'nina-db1',\n",
    "                        'group1',\n",
    "                        'S'+str(2)+'.mat')\n",
    "    #print(path_1)\n",
    "my_mat=sio.loadmat(path_2)\n",
    "my_emg2=my_mat['emg']"
   ]
  },
  {
   "cell_type": "code",
   "execution_count": 24,
   "id": "a5ee3138-e728-4b15-8965-75c102234604",
   "metadata": {},
   "outputs": [
    {
     "data": {
      "text/plain": [
       "array([0.0024, 0.0024, 0.0024, 0.0024, 0.0024, 0.0024, 0.0024, 0.0391,\n",
       "       0.0024, 0.0024])"
      ]
     },
     "execution_count": 24,
     "metadata": {},
     "output_type": "execute_result"
    }
   ],
   "source": [
    "my_emg1[101013]"
   ]
  },
  {
   "cell_type": "code",
   "execution_count": 27,
   "id": "9c3d9c08-79cc-4a27-9229-86b5cbf588ad",
   "metadata": {},
   "outputs": [
    {
     "data": {
      "text/plain": [
       "array([0.0269, 0.1001, 0.0024, 0.0024, 0.0024, 0.0024, 0.0024, 0.0024,\n",
       "       0.0024, 0.0024])"
      ]
     },
     "execution_count": 27,
     "metadata": {},
     "output_type": "execute_result"
    }
   ],
   "source": [
    "my_emg2[0]"
   ]
  },
  {
   "cell_type": "code",
   "execution_count": 13,
   "id": "58dea171-8742-41ad-af51-34181948ee13",
   "metadata": {},
   "outputs": [],
   "source": [
    "final=np.vstack((my_emg1,my_emg2))"
   ]
  },
  {
   "cell_type": "code",
   "execution_count": 26,
   "id": "88eeee6e-d744-43e4-9965-91dbdf5b1b38",
   "metadata": {},
   "outputs": [
    {
     "data": {
      "text/plain": [
       "array([0.0269, 0.1001, 0.0024, 0.0024, 0.0024, 0.0024, 0.0024, 0.0024,\n",
       "       0.0024, 0.0024])"
      ]
     },
     "execution_count": 26,
     "metadata": {},
     "output_type": "execute_result"
    }
   ],
   "source": [
    "final[101014]"
   ]
  },
  {
   "cell_type": "code",
   "execution_count": 19,
   "id": "eafe8c07-65da-4cc9-8062-38870116df34",
   "metadata": {},
   "outputs": [
    {
     "data": {
      "text/plain": [
       "201700"
      ]
     },
     "execution_count": 19,
     "metadata": {},
     "output_type": "execute_result"
    }
   ],
   "source": [
    "101014+100686"
   ]
  },
  {
   "cell_type": "code",
   "execution_count": null,
   "id": "2b8547ad-6f52-4f3d-8150-0fc688f728d4",
   "metadata": {},
   "outputs": [],
   "source": []
  }
 ],
 "metadata": {
  "kernelspec": {
   "display_name": "Python 3",
   "language": "python",
   "name": "python3"
  },
  "language_info": {
   "codemirror_mode": {
    "name": "ipython",
    "version": 3
   },
   "file_extension": ".py",
   "mimetype": "text/x-python",
   "name": "python",
   "nbconvert_exporter": "python",
   "pygments_lexer": "ipython3",
   "version": "3.8.8"
  }
 },
 "nbformat": 4,
 "nbformat_minor": 5
}
