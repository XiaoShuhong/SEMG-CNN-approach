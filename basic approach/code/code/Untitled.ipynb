{
 "cells": [
  {
   "cell_type": "code",
   "execution_count": 4,
   "id": "b23b897d-fe05-45ea-86c2-9ec4536ad8a7",
   "metadata": {},
   "outputs": [],
   "source": [
    "import csv\n",
    "import matplotlib\n",
    "import matplotlib.pyplot as plt\n",
    "# %matplotlib inline\n",
    "import re\n",
    "\n",
    "import numpy as np\n",
    "from scipy import signal\n",
    "from time import time\n",
    "\n",
    "from sklearn.model_selection import train_test_split\n",
    "from sklearn.metrics import accuracy_score, confusion_matrix, ConfusionMatrixDisplay\n",
    "import xgboost as xgb\n",
    "import pandas as pd\n"
   ]
  },
  {
   "cell_type": "code",
   "execution_count": 14,
   "id": "44d70041-f0d5-4f16-8d20-5de69dc023dc",
   "metadata": {},
   "outputs": [],
   "source": [
    "def df_from_csv(path):\n",
    "    df = pd.read_csv(path, nrows=1) # read just first line for columns\n",
    "    columns = df.columns.tolist() # get the columns\n",
    "    cols_to_use = columns[:len(columns)] # if we want to drop some channels, just modify this\n",
    "    df = pd.read_csv(path, usecols=cols_to_use)\n",
    "    data_np = np.array(df) \n",
    "    return data_np\n"
   ]
  },
  {
   "cell_type": "code",
   "execution_count": 15,
   "id": "c28a064e-6a3d-4c48-9013-f55ddb03a34c",
   "metadata": {},
   "outputs": [],
   "source": [
    "path='C:/Users/11488/Desktop/my semg/basic approach/data-32/data-32/fist/fist1.csv'"
   ]
  },
  {
   "cell_type": "code",
   "execution_count": 16,
   "id": "7970179f-b16d-42e6-a63b-f99d0b7c9973",
   "metadata": {},
   "outputs": [
    {
     "data": {
      "text/plain": [
       "(19331, 32)"
      ]
     },
     "execution_count": 16,
     "metadata": {},
     "output_type": "execute_result"
    }
   ],
   "source": [
    "data=df_from_csv(path)\n",
    "data.shape"
   ]
  },
  {
   "cell_type": "code",
   "execution_count": null,
   "id": "5e26f367-5487-4369-b868-6954375b56be",
   "metadata": {},
   "outputs": [],
   "source": [
    "\n"
   ]
  },
  {
   "cell_type": "code",
   "execution_count": null,
   "id": "c425ff07-92a5-4c6a-925b-35ac92cee48f",
   "metadata": {},
   "outputs": [],
   "source": []
  },
  {
   "cell_type": "code",
   "execution_count": null,
   "id": "d3eb5e35-8de0-4b3f-af2a-15e886f81dce",
   "metadata": {},
   "outputs": [],
   "source": []
  }
 ],
 "metadata": {
  "kernelspec": {
   "display_name": "Python 3",
   "language": "python",
   "name": "python3"
  },
  "language_info": {
   "codemirror_mode": {
    "name": "ipython",
    "version": 3
   },
   "file_extension": ".py",
   "mimetype": "text/x-python",
   "name": "python",
   "nbconvert_exporter": "python",
   "pygments_lexer": "ipython3",
   "version": "3.8.8"
  }
 },
 "nbformat": 4,
 "nbformat_minor": 5
}
