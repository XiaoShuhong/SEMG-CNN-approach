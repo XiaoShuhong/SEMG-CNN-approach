{
 "cells": [
  {
   "cell_type": "code",
   "execution_count": 15,
   "id": "ae3dde18",
   "metadata": {},
   "outputs": [],
   "source": [
    "import os\n",
    "import scipy.io as sio\n",
    "import numpy as np\n",
    "from itertools import product\n",
    "from collections import namedtuple\n",
    "from joblib import Parallel, delayed\n",
    "# import emg_features"
   ]
  },
  {
   "cell_type": "code",
   "execution_count": 22,
   "id": "d8bcace1",
   "metadata": {},
   "outputs": [],
   "source": [
    "subjects = list(range(0,27))  #27 person\n",
    "#subjects=[0] # for test only person 0\n",
    "gestures = list(range(1,53))  #52 different gestures\n",
    "#gestures=[1] #for test only gesture 1\n",
    "trials = list(range(10))      #10 channel"
   ]
  },
  {
   "cell_type": "code",
   "execution_count": 17,
   "id": "3d5d6b25",
   "metadata": {},
   "outputs": [],
   "source": [
    "source_path='C:/Users/11488/Desktop/my semg/data/db-1'"
   ]
  },
  {
   "cell_type": "code",
   "execution_count": null,
   "id": "483aacc5-31c1-4754-898b-8c2cd28d9f0c",
   "metadata": {},
   "outputs": [],
   "source": []
  },
  {
   "cell_type": "markdown",
   "id": "0c949220",
   "metadata": {},
   "source": [
    "### Parameter"
   ]
  },
  {
   "cell_type": "code",
   "execution_count": 18,
   "id": "97ad0bb5",
   "metadata": {},
   "outputs": [],
   "source": [
    "filtering_type = 'lowpass'\n",
    "framerate = 100\n",
    "\n",
    "window_length_ms = 200\n",
    "window_stride_ms = 10\n",
    "\n",
    "window = int(window_length_ms*framerate/1000)   #20\n",
    "stride = int(window_stride_ms*framerate/1000)   #1\n"
   ]
  },
  {
   "cell_type": "code",
   "execution_count": 19,
   "id": "c5f5fd92",
   "metadata": {},
   "outputs": [],
   "source": [
    "output_path = ('C:/Users/11488/Desktop/my semg/wwt/ninapro-feature/ninapro-db1-var-raw-prepro-%s-win-%d-stride-%d' % (filtering_type, window, stride))"
   ]
  },
  {
   "cell_type": "code",
   "execution_count": 20,
   "id": "e4c07c57",
   "metadata": {},
   "outputs": [],
   "source": [
    "Combo = namedtuple('Combo', ['subject', 'gesture', 'trial']) #define a class Comb with attribute \"subject\" \"gesture\" \"trial\""
   ]
  },
  {
   "cell_type": "code",
   "execution_count": 21,
   "id": "79da1071",
   "metadata": {},
   "outputs": [],
   "source": [
    "feature_list = ['ssc', 'var']  #slop sign change, variance"
   ]
  },
  {
   "cell_type": "code",
   "execution_count": 140,
   "id": "8d2bddbf-6dc0-4252-a7d7-c9ae726d003e",
   "metadata": {},
   "outputs": [],
   "source": [
    "# tr=sio.loadmat('C:/Users/11488/Desktop/my semg/data/db-1/s1/S1_A1_E1.mat')\n",
    "# tr.keys()\n",
    "# fl=0\n",
    "# s_symbol=[]\n",
    "# e_symbol=[]\n",
    "# tr['stimulus']\n",
    "# for i in range(len(tr['stimulus'])):\n",
    "#     if fl==1 and tr['stimulus'][i][0]==0:\n",
    "#         e_symbol.append(i)\n",
    "#         fl=0\n",
    "        \n",
    "#     if fl==0 and tr['stimulus'][i][0]!=0:\n",
    "#         s_symbol.append(i)\n",
    "#         fl=1\n",
    "    \n",
    "    \n",
    "# print(s_symbol)    \n",
    "# print(e_symbol)    \n",
    "# for i in range(len(s_symbol)):\n",
    "#     print(s_symbol[i]-e_symbol[i])"
   ]
  },
  {
   "cell_type": "markdown",
   "id": "c3133281",
   "metadata": {},
   "source": [
    "### Pre-Process Nina-database 1"
   ]
  },
  {
   "cell_type": "code",
   "execution_count": 99,
   "id": "6a5f03b2-bcf5-44e1-9165-f59629312985",
   "metadata": {},
   "outputs": [],
   "source": [
    "for s in range(1,len(subjects)+1):\n",
    "    s_path=os.path.join(source_path,'s'+str(s))\n",
    "#     print('process data for subjects '+str(s)+':')\n",
    "    for d in range(1,4):\n",
    "        open_mat=os.path.join(s_path,'S'+str(s)+'_A1_E'+str(d))\n",
    "#         print('open mat: '+ open_mat)\n",
    "        my_mat = sio.loadmat(open_mat)\n",
    "        for g in range(1,len(gestures)):\n",
    "            out_dir=os.path.join(s_path,\n",
    "                          str(s).rjust(3,'0'),\n",
    "                          str(g).rjust(3,'0'))\n",
    "            if os.path.isdir(out_dir) is False:\n",
    "                os.makedirs(out_dir)\n",
    "            for t in range(len(trials)):\n",
    "                path=os.path.join(out_dir,\n",
    "                      str(s).rjust(3,'0')+'_'+str(g).rjust(3,'0')+'_'+str(t).rjust(3,'0')+'.mat')\n",
    "                ch=dict()\n",
    "                da=[]\n",
    "                if d==1:\n",
    "                    if g>=13:\n",
    "                        pass\n",
    "                    else:\n",
    "                        for j in range( my_mat['stimulus'].shape[0]):\n",
    "                            if my_mat['stimulus'][j]==[g]:\n",
    "                                da.append(my_mat['emg'][i][t])\n",
    "                        ch['data']=da\n",
    "                        sio.savemat(path, ch)  \n",
    "                        \n",
    "                elif d==2:\n",
    "                    if g<13 or g>=30:\n",
    "                        pass\n",
    "                    else:\n",
    "                        for j in range( my_mat['stimulus'].shape[0]):\n",
    "                            if my_mat['stimulus'][j]==[g-12]:\n",
    "                                da.append(my_mat['emg'][i][t])\n",
    "                        ch['data']=da\n",
    "                        sio.savemat(path, ch) \n",
    "                elif d==3:\n",
    "                    if g<30:\n",
    "                        pass\n",
    "                    else:\n",
    "                        for j in range( my_mat['stimulus'].shape[0]):\n",
    "                            if my_mat['stimulus'][j]==[g-29]:\n",
    "                                da.append(my_mat['emg'][i][t])\n",
    "                        ch['data']=da\n",
    "                        sio.savemat(path, ch) \n",
    "                        \n",
    "                    "
   ]
  },
  {
   "cell_type": "code",
   "execution_count": 103,
   "id": "ddc97512-5ad1-4f05-a04a-cbe26b4c2ca1",
   "metadata": {},
   "outputs": [],
   "source": [
    "#process for gesture 0 rest\n",
    "g=0\n",
    "for s in range(1,len(subjects)+1):\n",
    "    s_path=os.path.join(source_path,'s'+str(s))\n",
    "#     print('process data for subjects '+str(s)+':')\n",
    "    for d in range(1,4):\n",
    "        open_mat=os.path.join(s_path,'S'+str(s)+'_A1_E'+str(d))\n",
    "#         print('open mat: '+ open_mat)\n",
    "        my_mat = sio.loadmat(open_mat)\n",
    "        out_dir=os.path.join(s_path,\n",
    "                     str(s).rjust(3,'0'),\n",
    "                     str(g).rjust(3,'0'))\n",
    "        if os.path.isdir(out_dir) is False:\n",
    "            os.makedirs(out_dir)\n",
    "        for t in range(len(trials)):\n",
    "            path=os.path.join(out_dir,\n",
    "                    str(s).rjust(3,'0')+'_'+str(g).rjust(3,'0')+'_'+str(t).rjust(3,'0')+'.mat')\n",
    "            ch=dict()\n",
    "            da=[]\n",
    "            for j in range( my_mat['stimulus'].shape[0]):\n",
    "                if my_mat['stimulus'][j]==[g]:\n",
    "                      da.append(my_mat['emg'][i][t])\n",
    "            ch['data']=da\n",
    "            sio.savemat(path, ch)  \n",
    "                "
   ]
  },
  {
   "cell_type": "markdown",
   "id": "c6c409f8",
   "metadata": {},
   "source": [
    "### Loand and Check"
   ]
  },
  {
   "cell_type": "code",
   "execution_count": 116,
   "id": "092ea3e2",
   "metadata": {},
   "outputs": [],
   "source": [
    "combos = get_combos(product(subjects, gestures, trials))        \n",
    "combos = list(combos)\n",
    "source_path='C:/Users/11488/Desktop/my semg/data/db-1/s1'\n",
    "# print(combos)\n",
    "# data_set=[[]for i in range(len(trials))]\n",
    "for combo in combos:\n",
    "    in_path = os.path.join(\n",
    "                    source_path,\n",
    "                    's'+'{c.subject}',\n",
    "                    '{c.subject:03d}',\n",
    "                    '{c.gesture:03d}',\n",
    "                    '{c.subject:03d}_{c.gesture:03d}_{c.trial:03d}.mat').format(c=combo)\n",
    "    \n",
    "    #print(in_path)\n",
    "#     tr=sio.loadmat(in_path)\n",
    "#     data_set[combo.trial]=tr['data']\n",
    "#     print('tr'+str(combo.trial)+'shape:',tr['data'].shape )"
   ]
  },
  {
   "cell_type": "code",
   "execution_count": 314,
   "id": "1aa14733",
   "metadata": {},
   "outputs": [
    {
     "data": {
      "text/plain": [
       "[array([[0.0146, 0.0171, 0.0342, ..., 0.0024, 0.0049, 0.0024]]),\n",
       " array([[0.0024, 0.0024, 0.0024, ..., 0.0024, 0.0024, 0.0024]]),\n",
       " array([[0.0049, 0.0024, 0.0024, ..., 0.0024, 0.0024, 0.0024]]),\n",
       " array([[0.0024, 0.0024, 0.0024, ..., 0.0024, 0.0024, 0.0024]]),\n",
       " array([[0.0024, 0.0024, 0.0024, ..., 0.0024, 0.0024, 0.0024]]),\n",
       " array([[0.0024, 0.0024, 0.0024, ..., 0.0024, 0.0024, 0.0024]]),\n",
       " array([[0.0024, 0.0024, 0.0024, ..., 0.0073, 0.0049, 0.0024]]),\n",
       " array([[0.0171, 0.022 , 0.0269, ..., 0.1196, 0.1172, 0.1123]]),\n",
       " array([[0.0024, 0.0024, 0.0024, ..., 0.0024, 0.0024, 0.0024]]),\n",
       " array([[0.0024, 0.0024, 0.0024, ..., 0.0488, 0.0488, 0.0464]])]"
      ]
     },
     "execution_count": 314,
     "metadata": {},
     "output_type": "execute_result"
    }
   ],
   "source": [
    "data_set"
   ]
  },
  {
   "cell_type": "markdown",
   "id": "62fec78c",
   "metadata": {},
   "source": [
    "### Define Function"
   ]
  },
  {
   "cell_type": "code",
   "execution_count": 105,
   "id": "864cfba4",
   "metadata": {},
   "outputs": [],
   "source": [
    "def get_combos(*args):\n",
    "    for arg in args:\n",
    "        if isinstance(arg, tuple):\n",
    "            arg = [arg]\n",
    "        for a in arg:\n",
    "            yield Combo(*a)\n",
    "           "
   ]
  },
  {
   "cell_type": "code",
   "execution_count": 106,
   "id": "7a9e9c25",
   "metadata": {},
   "outputs": [],
   "source": [
    "def butter_lowpass_filter(data, cut, fs, order, zero_phase=False):\n",
    "    from scipy.signal import butter, lfilter, filtfilt\n",
    "\n",
    "    nyq = 0.5 * fs\n",
    "    cut = cut / nyq\n",
    "\n",
    "    b, a = butter(order, cut, btype='low')\n",
    "    y = (filtfilt if zero_phase else lfilter)(b, a, data)\n",
    "    return y"
   ]
  },
  {
   "cell_type": "code",
   "execution_count": 107,
   "id": "cfd910a9",
   "metadata": {},
   "outputs": [],
   "source": [
    "def get_segments(data, window, stride):\n",
    "    return windowed_view(\n",
    "        data.flat,\n",
    "        window * data.shape[1],\n",
    "        (window-stride)* data.shape[1]\n",
    "    )\n",
    "\n",
    "def windowed_view(arr, window, overlap):\n",
    "    from numpy.lib.stride_tricks import as_strided\n",
    "    arr = np.asarray(arr)\n",
    "    window_step = window - overlap\n",
    "    new_shape = arr.shape[:-1] + ((arr.shape[-1] - overlap) // window_step,\n",
    "                                  window)\n",
    "    new_strides = (arr.strides[:-1] + (window_step * arr.strides[-1],) +\n",
    "                   arr.strides[-1:])\n",
    "    return as_strided(arr, shape=new_shape, strides=new_strides)"
   ]
  },
  {
   "cell_type": "code",
   "execution_count": 108,
   "id": "1ada828e",
   "metadata": {},
   "outputs": [],
   "source": [
    "# for i in combos:\n",
    "#     in_path = os.path.join(\n",
    "#                     input_path, 'data',\n",
    "#                     '{c.subject:03d}',\n",
    "#                     '{c.gesture:03d}',\n",
    "#                     '{c.subject:03d}_{c.gesture:03d}_{c.trial:03d}.mat').format(c=i)\n",
    "#     out_dir = os.path.join(\n",
    "#                     output_path,\n",
    "#                     '{c.subject:03d}',\n",
    "#                     '{c.gesture:03d}').format(c=i)  \n",
    "#     print(out_dir)"
   ]
  },
  {
   "cell_type": "code",
   "execution_count": 109,
   "id": "4af9a853",
   "metadata": {},
   "outputs": [
    {
     "ename": "NameError",
     "evalue": "name 'combos' is not defined",
     "output_type": "error",
     "traceback": [
      "\u001b[1;31m---------------------------------------------------------------------------\u001b[0m",
      "\u001b[1;31mNameError\u001b[0m                                 Traceback (most recent call last)",
      "\u001b[1;32m<ipython-input-109-e5e8faf1b0b3>\u001b[0m in \u001b[0;36m<module>\u001b[1;34m\u001b[0m\n\u001b[1;32m----> 1\u001b[1;33m \u001b[0mcombo\u001b[0m\u001b[1;33m=\u001b[0m\u001b[0mcombos\u001b[0m\u001b[1;33m[\u001b[0m\u001b[1;36m0\u001b[0m\u001b[1;33m]\u001b[0m\u001b[1;33m\u001b[0m\u001b[1;33m\u001b[0m\u001b[0m\n\u001b[0m\u001b[0;32m      2\u001b[0m in_path = os.path.join(\n\u001b[0;32m      3\u001b[0m                 \u001b[0msource_path\u001b[0m\u001b[1;33m,\u001b[0m\u001b[1;33m\u001b[0m\u001b[1;33m\u001b[0m\u001b[0m\n\u001b[0;32m      4\u001b[0m                 \u001b[1;34m'{c.subject:03d}'\u001b[0m\u001b[1;33m,\u001b[0m\u001b[1;33m\u001b[0m\u001b[1;33m\u001b[0m\u001b[0m\n\u001b[0;32m      5\u001b[0m                 \u001b[1;34m'{c.gesture:03d}'\u001b[0m\u001b[1;33m,\u001b[0m\u001b[1;33m\u001b[0m\u001b[1;33m\u001b[0m\u001b[0m\n",
      "\u001b[1;31mNameError\u001b[0m: name 'combos' is not defined"
     ]
    }
   ],
   "source": [
    "combo=combos[0]\n",
    "in_path = os.path.join(\n",
    "                source_path,\n",
    "                '{c.subject:03d}',\n",
    "                '{c.gesture:03d}',\n",
    "                '{c.subject:03d}_{c.gesture:03d}_{c.trial:03d}.mat').format(c=combo)\n",
    "out_dir = os.path.join(\n",
    "                    output_path,\n",
    "                    '{c.subject:03d}',\n",
    "                    '{c.gesture:03d}').format(c=combo)  \n",
    "                \n",
    "if os.path.isdir(out_dir) is False:\n",
    "    os.makedirs(out_dir)               \n",
    "data = sio.loadmat(in_path)['data'].astype(np.float32)\n",
    "print (\"Subject %d Gesture %d Trial %d data loaded!\" % (combo.subject, combo.gesture, combo.trial))\n",
    "\n",
    "if filtering_type == 'lowpass':            \n",
    "#             data = np.transpose([lowpass(ch, 1, framerate, 1, zero_phase=True) for ch in data.T])\n",
    "    data = np.transpose([butter_lowpass_filter(ch, 1, framerate, 1, zero_phase=True) for ch in data])   \n",
    "    print (\"Subject %d Gesture %d Trial %d bandpass filtering finished!\" % (combo.subject, combo.gesture, combo.trial))\n",
    "else:\n",
    "    pass\n",
    "chnum = data.shape[1] \n",
    "\n",
    "data = get_segments(data, window, stride)\n",
    "data = data.reshape(-1, window, chnum)\n"
   ]
  },
  {
   "cell_type": "code",
   "execution_count": 253,
   "id": "c0e3b30d",
   "metadata": {},
   "outputs": [
    {
     "data": {
      "text/plain": [
       "'C:/Users/11488/Desktop/my semg/data\\\\data\\\\000\\\\001\\\\000_001_000.mat'"
      ]
     },
     "execution_count": 253,
     "metadata": {},
     "output_type": "execute_result"
    }
   ],
   "source": [
    "in_path"
   ]
  },
  {
   "cell_type": "code",
   "execution_count": null,
   "id": "79b6003a",
   "metadata": {},
   "outputs": [],
   "source": [
    "def emg_feature_extraction_parallel_2(input_path, output_path, combo, feature_list):\n",
    "    in_path = os.path.join(\n",
    "                input_path, 'data',\n",
    "                '{c.subject:03d}',\n",
    "                '{c.gesture:03d}',\n",
    "                '{c.subject:03d}_{c.gesture:03d}_{c.trial:03d}.mat').format(c=combo)\n",
    "                \n",
    "    out_dir = os.path.join(\n",
    "                    output_path,\n",
    "                    '{c.subject:03d}',\n",
    "                    '{c.gesture:03d}').format(c=combo)  \n",
    "                \n",
    "    if os.path.isdir(out_dir) is False:\n",
    "             os.makedirs(out_dir)                 \n",
    "     \n",
    "                \n",
    "    data = sio.loadmat(in_path)['data'].astype(np.float32)\n",
    "        \n",
    "    print (\"Subject %d Gesture %d Trial %d data loaded!\" % (combo.subject, combo.gesture, combo.trial))\n",
    "      \n",
    "        \n",
    "      \n",
    "    if filtering_type is 'lowpass':            \n",
    "#             data = np.transpose([lowpass(ch, 1, framerate, 1, zero_phase=True) for ch in data.T])\n",
    "        data = np.transpose([butter_lowpass_filter(ch, 1, framerate, 1, zero_phase=True) for ch in data.T])   \n",
    "        print (\"Subject %d Gesture %d Trial %d bandpass filtering finished!\" % (combo.subject, combo.gesture, combo.trial))\n",
    "    else:\n",
    "        pass\n",
    "           \n",
    "#      data = downsample(data, step=20)        \n",
    "        \n",
    "    chnum = data.shape[1]    \n",
    "    data = get_segments(data, window, stride)\n",
    "      data = data.reshape(-1, window, chnum)\n",
    "      \n",
    "      for feature_name in feature_list:\n",
    "          feature = [np.transpose(extract_emg_feature(seg.T, feature_name)) for seg in data]\n",
    "          feature = np.array(feature)\n",
    "          out_path = os.path.join(\n",
    "                                  out_dir,\n",
    "                                  '{0.subject:03d}_{0.gesture:03d}_{0.trial:03d}_{1}.mat').format(combo, feature_name)  \n",
    "          sio.savemat(out_path, {'data': feature, 'label': combo.gesture, 'subject': combo.subject, 'trial':combo.trial})                        \n",
    "          print (\"Subject %d Gesture %d Trial %d %s saved!\" % (combo.subject, combo.gesture, combo.trial, feature_name))\n"
   ]
  },
  {
   "cell_type": "code",
   "execution_count": null,
   "id": "01f5da91",
   "metadata": {},
   "outputs": [],
   "source": []
  },
  {
   "cell_type": "code",
   "execution_count": null,
   "id": "721e9b39",
   "metadata": {},
   "outputs": [],
   "source": []
  },
  {
   "cell_type": "code",
   "execution_count": null,
   "id": "949a1539",
   "metadata": {},
   "outputs": [],
   "source": []
  },
  {
   "cell_type": "code",
   "execution_count": null,
   "id": "7eeae3fb",
   "metadata": {},
   "outputs": [],
   "source": []
  },
  {
   "cell_type": "code",
   "execution_count": null,
   "id": "4f6e8853",
   "metadata": {},
   "outputs": [],
   "source": []
  },
  {
   "cell_type": "code",
   "execution_count": 244,
   "id": "acf6d210",
   "metadata": {},
   "outputs": [
    {
     "name": "stdout",
     "output_type": "stream",
     "text": [
      "NinaPro feature map generation, use window = 20 frames, stride = 1 frames\n"
     ]
    }
   ],
   "source": [
    "print (\"NinaPro feature map generation, use window = %d frames, stride = %d frames\" % (window, stride)) \n",
    "\n",
    "combos = get_combos(product(subjects, gestures, trials))\n",
    "           \n",
    "combos = list(combos)\n",
    "\n",
    "# combos"
   ]
  },
  {
   "cell_type": "code",
   "execution_count": null,
   "id": "05b57c37",
   "metadata": {},
   "outputs": [],
   "source": [
    "Parallel(n_jobs=8)(delayed(emg_feature_extraction_parallel_2)(input_path, output_path, combo, feature_list) for combo in combos) "
   ]
  },
  {
   "cell_type": "code",
   "execution_count": null,
   "id": "7b63d7a0-eab3-46f6-b74d-38f1b9a91727",
   "metadata": {},
   "outputs": [],
   "source": []
  },
  {
   "cell_type": "code",
   "execution_count": null,
   "id": "6d0956f3-1f50-41c3-928c-dd0497d107c5",
   "metadata": {},
   "outputs": [],
   "source": []
  },
  {
   "cell_type": "code",
   "execution_count": 11,
   "id": "a07f565d-068c-4ed8-a007-0339d27308bc",
   "metadata": {},
   "outputs": [],
   "source": [
    "def windowed_view(arr, window, overlap):\n",
    "    from numpy.lib.stride_tricks import as_strided\n",
    "    arr = np.asarray(arr)\n",
    "    window_step = window - overlap\n",
    "    new_shape = arr.shape[:-1] + ((arr.shape[-1] - overlap) // window_step,\n",
    "                                  window)\n",
    "    print(arr.shape[:-1])\n",
    "    print(((arr.shape[-1] - overlap) // window_step,\n",
    "                                  window))\n",
    "    print(new_shape)\n",
    "    new_strides = (arr.strides[:-1] + (window_step * arr.strides[-1],) +\n",
    "                   arr.strides[-1:])\n",
    "    return as_strided(arr, shape=new_shape, strides=new_strides)"
   ]
  },
  {
   "cell_type": "code",
   "execution_count": 23,
   "id": "bc38cc6e-5476-40ba-a68a-682476601186",
   "metadata": {},
   "outputs": [
    {
     "name": "stdout",
     "output_type": "stream",
     "text": [
      "(1,)\n",
      "(181, 1000)\n",
      "(1, 181, 1000)\n"
     ]
    },
    {
     "ename": "ValueError",
     "evalue": "cannot reshape array of size 181000 into shape (20,500)",
     "output_type": "error",
     "traceback": [
      "\u001b[1;31m---------------------------------------------------------------------------\u001b[0m",
      "\u001b[1;31mValueError\u001b[0m                                Traceback (most recent call last)",
      "\u001b[1;32m<ipython-input-23-175a5baa9944>\u001b[0m in \u001b[0;36m<module>\u001b[1;34m\u001b[0m\n\u001b[0;32m      1\u001b[0m \u001b[0marr\u001b[0m\u001b[1;33m=\u001b[0m\u001b[0mnp\u001b[0m\u001b[1;33m.\u001b[0m\u001b[0mzeros\u001b[0m\u001b[1;33m(\u001b[0m\u001b[1;33m(\u001b[0m\u001b[1;36m1\u001b[0m\u001b[1;33m,\u001b[0m\u001b[1;36m10000\u001b[0m\u001b[1;33m)\u001b[0m\u001b[1;33m)\u001b[0m\u001b[1;33m\u001b[0m\u001b[1;33m\u001b[0m\u001b[0m\n\u001b[0;32m      2\u001b[0m \u001b[0mx\u001b[0m\u001b[1;33m=\u001b[0m\u001b[0mwindowed_view\u001b[0m\u001b[1;33m(\u001b[0m\u001b[0marr\u001b[0m\u001b[1;33m,\u001b[0m\u001b[1;36m1000\u001b[0m\u001b[1;33m,\u001b[0m\u001b[1;36m950\u001b[0m\u001b[1;33m)\u001b[0m\u001b[1;33m\u001b[0m\u001b[1;33m\u001b[0m\u001b[0m\n\u001b[1;32m----> 3\u001b[1;33m \u001b[0mx\u001b[0m\u001b[1;33m.\u001b[0m\u001b[0mreshape\u001b[0m\u001b[1;33m(\u001b[0m\u001b[1;33m-\u001b[0m\u001b[1;36m1\u001b[0m\u001b[1;33m,\u001b[0m \u001b[1;36m20\u001b[0m\u001b[1;33m,\u001b[0m \u001b[1;36m500\u001b[0m\u001b[1;33m)\u001b[0m\u001b[1;33m\u001b[0m\u001b[1;33m\u001b[0m\u001b[0m\n\u001b[0m",
      "\u001b[1;31mValueError\u001b[0m: cannot reshape array of size 181000 into shape (20,500)"
     ]
    }
   ],
   "source": [
    "arr=np.zeros((1,10000))\n",
    "x=windowed_view(arr,1000,950)\n",
    "x.reshape(-1, 20, 500)"
   ]
  },
  {
   "cell_type": "code",
   "execution_count": null,
   "id": "da3b1fb6-096d-419d-8aa6-db1276275234",
   "metadata": {},
   "outputs": [],
   "source": []
  }
 ],
 "metadata": {
  "kernelspec": {
   "display_name": "Python 3",
   "language": "python",
   "name": "python3"
  },
  "language_info": {
   "codemirror_mode": {
    "name": "ipython",
    "version": 3
   },
   "file_extension": ".py",
   "mimetype": "text/x-python",
   "name": "python",
   "nbconvert_exporter": "python",
   "pygments_lexer": "ipython3",
   "version": "3.8.8"
  }
 },
 "nbformat": 4,
 "nbformat_minor": 5
}
