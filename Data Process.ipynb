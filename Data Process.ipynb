{
 "cells": [
  {
   "cell_type": "code",
   "execution_count": 360,
   "id": "ae3dde18",
   "metadata": {},
   "outputs": [
    {
     "ename": "ModuleNotFoundError",
     "evalue": "No module named 'nitime'",
     "output_type": "error",
     "traceback": [
      "\u001b[1;31m---------------------------------------------------------------------------\u001b[0m",
      "\u001b[1;31mModuleNotFoundError\u001b[0m                       Traceback (most recent call last)",
      "\u001b[1;32m<ipython-input-360-cdb757c95d84>\u001b[0m in \u001b[0;36m<module>\u001b[1;34m\u001b[0m\n\u001b[0;32m      5\u001b[0m \u001b[1;32mfrom\u001b[0m \u001b[0mcollections\u001b[0m \u001b[1;32mimport\u001b[0m \u001b[0mnamedtuple\u001b[0m\u001b[1;33m\u001b[0m\u001b[1;33m\u001b[0m\u001b[0m\n\u001b[0;32m      6\u001b[0m \u001b[1;32mfrom\u001b[0m \u001b[0mjoblib\u001b[0m \u001b[1;32mimport\u001b[0m \u001b[0mParallel\u001b[0m\u001b[1;33m,\u001b[0m \u001b[0mdelayed\u001b[0m\u001b[1;33m\u001b[0m\u001b[1;33m\u001b[0m\u001b[0m\n\u001b[1;32m----> 7\u001b[1;33m \u001b[1;32mimport\u001b[0m \u001b[0memg_features\u001b[0m\u001b[1;33m\u001b[0m\u001b[1;33m\u001b[0m\u001b[0m\n\u001b[0m",
      "\u001b[1;32m~\\Desktop\\my semg\\emg_features.py\u001b[0m in \u001b[0;36m<module>\u001b[1;34m\u001b[0m\n\u001b[0;32m      3\u001b[0m \u001b[1;32mimport\u001b[0m \u001b[0mpywt\u001b[0m\u001b[1;33m\u001b[0m\u001b[1;33m\u001b[0m\u001b[0m\n\u001b[0;32m      4\u001b[0m \u001b[1;32mimport\u001b[0m \u001b[0moperator\u001b[0m\u001b[1;33m\u001b[0m\u001b[1;33m\u001b[0m\u001b[0m\n\u001b[1;32m----> 5\u001b[1;33m \u001b[1;32mfrom\u001b[0m \u001b[0mnitime\u001b[0m \u001b[1;32mimport\u001b[0m \u001b[0malgorithms\u001b[0m \u001b[1;32mas\u001b[0m \u001b[0malg\u001b[0m\u001b[1;33m\u001b[0m\u001b[1;33m\u001b[0m\u001b[0m\n\u001b[0m\u001b[0;32m      6\u001b[0m \u001b[1;32mfrom\u001b[0m \u001b[0mscipy\u001b[0m \u001b[1;32mimport\u001b[0m \u001b[0mstats\u001b[0m\u001b[1;33m\u001b[0m\u001b[1;33m\u001b[0m\u001b[0m\n\u001b[0;32m      7\u001b[0m \u001b[1;32mfrom\u001b[0m \u001b[0mnumpy\u001b[0m \u001b[1;32mimport\u001b[0m \u001b[0mlinalg\u001b[0m \u001b[1;32mas\u001b[0m \u001b[0mLA\u001b[0m\u001b[1;33m\u001b[0m\u001b[1;33m\u001b[0m\u001b[0m\n",
      "\u001b[1;31mModuleNotFoundError\u001b[0m: No module named 'nitime'"
     ]
    }
   ],
   "source": [
    "import os\n",
    "import scipy.io as sio\n",
    "import numpy as np\n",
    "from itertools import product\n",
    "from collections import namedtuple\n",
    "from joblib import Parallel, delayed\n",
    "import emg_features"
   ]
  },
  {
   "cell_type": "code",
   "execution_count": 301,
   "id": "d8bcace1",
   "metadata": {},
   "outputs": [],
   "source": [
    "# subjects = list(range(0,27))  #27 person\n",
    "subjects=[0] # for test only person 0\n",
    "# gestures = list(range(1,53))  #52 different gestures\n",
    "gestures=[1] #for test only gesture 1\n",
    "trials = list(range(10))      #10 channel"
   ]
  },
  {
   "cell_type": "code",
   "execution_count": 302,
   "id": "3d5d6b25",
   "metadata": {},
   "outputs": [],
   "source": [
    "source_path='C:/Users/11488/Desktop/my semg/data/db-1/s1'"
   ]
  },
  {
   "cell_type": "markdown",
   "id": "0c949220",
   "metadata": {},
   "source": [
    "### Parameter"
   ]
  },
  {
   "cell_type": "code",
   "execution_count": 348,
   "id": "97ad0bb5",
   "metadata": {},
   "outputs": [],
   "source": [
    "filtering_type = 'lowpass'\n",
    "framerate = 100\n",
    "\n",
    "window_length_ms = 200\n",
    "window_stride_ms = 10\n",
    "\n",
    "window = int(window_length_ms*framerate/1000)   #20\n",
    "stride = int(window_stride_ms*framerate/1000)   #1\n"
   ]
  },
  {
   "cell_type": "code",
   "execution_count": 304,
   "id": "c5f5fd92",
   "metadata": {},
   "outputs": [],
   "source": [
    "output_path = ('C:/Users/11488/Desktop/my semg/wwt/ninapro-feature/ninapro-db1-var-raw-prepro-%s-win-%d-stride-%d' % (filtering_type, window, stride))"
   ]
  },
  {
   "cell_type": "code",
   "execution_count": 305,
   "id": "e4c07c57",
   "metadata": {},
   "outputs": [],
   "source": [
    "Combo = namedtuple('Combo', ['subject', 'gesture', 'trial']) #define a class Comb with attribute \"subject\" \"gesture\" \"trial\""
   ]
  },
  {
   "cell_type": "code",
   "execution_count": 306,
   "id": "79da1071",
   "metadata": {},
   "outputs": [],
   "source": [
    "feature_list = ['ssc', 'var']  #slop sign change, variance"
   ]
  },
  {
   "cell_type": "markdown",
   "id": "c3133281",
   "metadata": {},
   "source": [
    "### Process My Data"
   ]
  },
  {
   "cell_type": "code",
   "execution_count": 307,
   "id": "4d911be7",
   "metadata": {},
   "outputs": [
    {
     "name": "stdout",
     "output_type": "stream",
     "text": [
      "load S1_A1_E1.mat\n",
      "load S1_A1_E2.mat\n",
      "load S1_A1_E3.mat\n"
     ]
    }
   ],
   "source": [
    "#load my data\n",
    "print('load S1_A1_E1.mat')\n",
    "data1 = sio.loadmat('C:/Users/11488/Desktop/my semg/data/db-1/s1/S1_A1_E1.mat')\n",
    "# print(data1.keys())\n",
    "# print(data1['emg'].shape)\n",
    "# print(data1['stimulus'].shape)\n",
    "# print(data1['stimulus'])\n",
    "# data1['emg']\n",
    "print('load S1_A1_E2.mat')\n",
    "data2 = sio.loadmat('C:/Users/11488/Desktop/my semg/data/db-1/s1/S1_A1_E2.mat')\n",
    "\n",
    "print('load S1_A1_E3.mat')\n",
    "data3 = sio.loadmat('C:/Users/11488/Desktop/my semg/data/db-1/s1/S1_A1_E3.mat')"
   ]
  },
  {
   "cell_type": "code",
   "execution_count": 308,
   "id": "6f2fb7ba",
   "metadata": {},
   "outputs": [],
   "source": [
    "combos = get_combos(product(subjects, gestures, trials))        \n",
    "combos = list(combos)\n",
    "# print(combos)\n",
    "for combo in combos:\n",
    "#     print(combo.subject)\n",
    "    out_dir=os.path.join(source_path,\n",
    "                      '{c.subject:03d}',\n",
    "                      '{c.gesture:03d}').format(c=combo)\n",
    "    if os.path.isdir(out_dir) is False:\n",
    "             os.makedirs(out_dir)\n",
    "    path=os.path.join(out_dir,\n",
    "                      '{c.subject:03d}_{c.gesture:03d}_{c.trial:03d}.mat').format(c=combo)\n",
    "    ch=dict()\n",
    "    d=[]\n",
    "    for i in range( data1['stimulus'].shape[0]):\n",
    "        if data1['stimulus'][i]==[1]:\n",
    "            d.append(data1['emg'][i][combo.trial])\n",
    "    for i in range( data2['stimulus'].shape[0]):\n",
    "        if data2['stimulus'][i]==[1]:\n",
    "            d.append(data2['emg'][i][combo.trial])\n",
    "    for i in range( data3['stimulus'].shape[0]):\n",
    "        if data3['stimulus'][i]==[1]:\n",
    "            d.append(data3['emg'][i][combo.trial])\n",
    "    ch['data']=d\n",
    "    sio.savemat(path, ch)   \n",
    "            \n",
    "        \n",
    "    "
   ]
  },
  {
   "cell_type": "code",
   "execution_count": 309,
   "id": "f39113bc",
   "metadata": {},
   "outputs": [],
   "source": [
    "# path"
   ]
  },
  {
   "cell_type": "code",
   "execution_count": 310,
   "id": "3d33fee4",
   "metadata": {},
   "outputs": [],
   "source": [
    "# sio.savemat('C:/Users/11488/Desktop/my semg/data/db-1/s1/000_001_000.mat', dict())  "
   ]
  },
  {
   "cell_type": "markdown",
   "id": "c6c409f8",
   "metadata": {},
   "source": [
    "### Loand and Check"
   ]
  },
  {
   "cell_type": "code",
   "execution_count": 311,
   "id": "092ea3e2",
   "metadata": {},
   "outputs": [
    {
     "name": "stdout",
     "output_type": "stream",
     "text": [
      "tr0shape: (1, 15476)\n",
      "tr1shape: (1, 15476)\n",
      "tr2shape: (1, 15476)\n",
      "tr3shape: (1, 15476)\n",
      "tr4shape: (1, 15476)\n",
      "tr5shape: (1, 15476)\n",
      "tr6shape: (1, 15476)\n",
      "tr7shape: (1, 15476)\n",
      "tr8shape: (1, 15476)\n",
      "tr9shape: (1, 15476)\n"
     ]
    }
   ],
   "source": [
    "combos = get_combos(product(subjects, gestures, trials))        \n",
    "combos = list(combos)\n",
    "# source_path='C:/Users/11488/Desktop/my semg/data/db-1/s1'\n",
    "# print(combos)\n",
    "data_set=[[]for i in range(len(trials))]\n",
    "for combo in combos:\n",
    "    in_path = os.path.join(\n",
    "                    source_path,\n",
    "                    '{c.subject:03d}',\n",
    "                    '{c.gesture:03d}',\n",
    "                    '{c.subject:03d}_{c.gesture:03d}_{c.trial:03d}.mat').format(c=combo)\n",
    "#     print(in_path)\n",
    "    tr=sio.loadmat(in_path)\n",
    "    data_set[combo.trial]=tr['data']\n",
    "    print('tr'+str(combo.trial)+'shape:',tr['data'].shape )"
   ]
  },
  {
   "cell_type": "code",
   "execution_count": 314,
   "id": "1aa14733",
   "metadata": {},
   "outputs": [
    {
     "data": {
      "text/plain": [
       "[array([[0.0146, 0.0171, 0.0342, ..., 0.0024, 0.0049, 0.0024]]),\n",
       " array([[0.0024, 0.0024, 0.0024, ..., 0.0024, 0.0024, 0.0024]]),\n",
       " array([[0.0049, 0.0024, 0.0024, ..., 0.0024, 0.0024, 0.0024]]),\n",
       " array([[0.0024, 0.0024, 0.0024, ..., 0.0024, 0.0024, 0.0024]]),\n",
       " array([[0.0024, 0.0024, 0.0024, ..., 0.0024, 0.0024, 0.0024]]),\n",
       " array([[0.0024, 0.0024, 0.0024, ..., 0.0024, 0.0024, 0.0024]]),\n",
       " array([[0.0024, 0.0024, 0.0024, ..., 0.0073, 0.0049, 0.0024]]),\n",
       " array([[0.0171, 0.022 , 0.0269, ..., 0.1196, 0.1172, 0.1123]]),\n",
       " array([[0.0024, 0.0024, 0.0024, ..., 0.0024, 0.0024, 0.0024]]),\n",
       " array([[0.0024, 0.0024, 0.0024, ..., 0.0488, 0.0488, 0.0464]])]"
      ]
     },
     "execution_count": 314,
     "metadata": {},
     "output_type": "execute_result"
    }
   ],
   "source": [
    "data_set"
   ]
  },
  {
   "cell_type": "markdown",
   "id": "62fec78c",
   "metadata": {},
   "source": [
    "### Define Function"
   ]
  },
  {
   "cell_type": "code",
   "execution_count": 315,
   "id": "864cfba4",
   "metadata": {},
   "outputs": [],
   "source": [
    "def get_combos(*args):\n",
    "    for arg in args:\n",
    "        if isinstance(arg, tuple):\n",
    "            arg = [arg]\n",
    "        for a in arg:\n",
    "            yield Combo(*a)\n",
    "           "
   ]
  },
  {
   "cell_type": "code",
   "execution_count": 316,
   "id": "7a9e9c25",
   "metadata": {},
   "outputs": [],
   "source": [
    "def butter_lowpass_filter(data, cut, fs, order, zero_phase=False):\n",
    "    from scipy.signal import butter, lfilter, filtfilt\n",
    "\n",
    "    nyq = 0.5 * fs\n",
    "    cut = cut / nyq\n",
    "\n",
    "    b, a = butter(order, cut, btype='low')\n",
    "    y = (filtfilt if zero_phase else lfilter)(b, a, data)\n",
    "    return y"
   ]
  },
  {
   "cell_type": "code",
   "execution_count": 317,
   "id": "cfd910a9",
   "metadata": {},
   "outputs": [],
   "source": [
    "def get_segments(data, window, stride):\n",
    "    return windowed_view(\n",
    "        data.flat,\n",
    "        window * data.shape[1],\n",
    "        (window-stride)* data.shape[1]\n",
    "    )\n",
    "\n",
    "def windowed_view(arr, window, overlap):\n",
    "    from numpy.lib.stride_tricks import as_strided\n",
    "    arr = np.asarray(arr)\n",
    "    window_step = window - overlap\n",
    "    new_shape = arr.shape[:-1] + ((arr.shape[-1] - overlap) // window_step,\n",
    "                                  window)\n",
    "    new_strides = (arr.strides[:-1] + (window_step * arr.strides[-1],) +\n",
    "                   arr.strides[-1:])\n",
    "    return as_strided(arr, shape=new_shape, strides=new_strides)"
   ]
  },
  {
   "cell_type": "code",
   "execution_count": 274,
   "id": "1ada828e",
   "metadata": {},
   "outputs": [],
   "source": [
    "# for i in combos:\n",
    "#     in_path = os.path.join(\n",
    "#                     input_path, 'data',\n",
    "#                     '{c.subject:03d}',\n",
    "#                     '{c.gesture:03d}',\n",
    "#                     '{c.subject:03d}_{c.gesture:03d}_{c.trial:03d}.mat').format(c=i)\n",
    "#     out_dir = os.path.join(\n",
    "#                     output_path,\n",
    "#                     '{c.subject:03d}',\n",
    "#                     '{c.gesture:03d}').format(c=i)  \n",
    "#     print(out_dir)"
   ]
  },
  {
   "cell_type": "code",
   "execution_count": 358,
   "id": "4af9a853",
   "metadata": {},
   "outputs": [
    {
     "name": "stdout",
     "output_type": "stream",
     "text": [
      "Subject 0 Gesture 1 Trial 0 data loaded!\n",
      "Subject 0 Gesture 1 Trial 0 bandpass filtering finished!\n"
     ]
    },
    {
     "data": {
      "text/plain": [
       "(15457, 20, 1)"
      ]
     },
     "execution_count": 358,
     "metadata": {},
     "output_type": "execute_result"
    }
   ],
   "source": [
    "combo=combos[0]\n",
    "in_path = os.path.join(\n",
    "                source_path,\n",
    "                '{c.subject:03d}',\n",
    "                '{c.gesture:03d}',\n",
    "                '{c.subject:03d}_{c.gesture:03d}_{c.trial:03d}.mat').format(c=combo)\n",
    "out_dir = os.path.join(\n",
    "                    output_path,\n",
    "                    '{c.subject:03d}',\n",
    "                    '{c.gesture:03d}').format(c=combo)  \n",
    "                \n",
    "if os.path.isdir(out_dir) is False:\n",
    "    os.makedirs(out_dir)               \n",
    "data = sio.loadmat(in_path)['data'].astype(np.float32)\n",
    "print (\"Subject %d Gesture %d Trial %d data loaded!\" % (combo.subject, combo.gesture, combo.trial))\n",
    "\n",
    "if filtering_type == 'lowpass':            \n",
    "#             data = np.transpose([lowpass(ch, 1, framerate, 1, zero_phase=True) for ch in data.T])\n",
    "    data = np.transpose([butter_lowpass_filter(ch, 1, framerate, 1, zero_phase=True) for ch in data])   \n",
    "    print (\"Subject %d Gesture %d Trial %d bandpass filtering finished!\" % (combo.subject, combo.gesture, combo.trial))\n",
    "else:\n",
    "    pass\n",
    "chnum = data.shape[1] \n",
    "\n",
    "data = get_segments(data, window, stride)\n",
    "data = data.reshape(-1, window, chnum)\n"
   ]
  },
  {
   "cell_type": "code",
   "execution_count": 253,
   "id": "c0e3b30d",
   "metadata": {},
   "outputs": [
    {
     "data": {
      "text/plain": [
       "'C:/Users/11488/Desktop/my semg/data\\\\data\\\\000\\\\001\\\\000_001_000.mat'"
      ]
     },
     "execution_count": 253,
     "metadata": {},
     "output_type": "execute_result"
    }
   ],
   "source": [
    "in_path"
   ]
  },
  {
   "cell_type": "code",
   "execution_count": null,
   "id": "79b6003a",
   "metadata": {},
   "outputs": [],
   "source": [
    "def emg_feature_extraction_parallel_2(input_path, output_path, combo, feature_list):\n",
    "    in_path = os.path.join(\n",
    "                input_path, 'data',\n",
    "                '{c.subject:03d}',\n",
    "                '{c.gesture:03d}',\n",
    "                '{c.subject:03d}_{c.gesture:03d}_{c.trial:03d}.mat').format(c=combo)\n",
    "                \n",
    "    out_dir = os.path.join(\n",
    "                    output_path,\n",
    "                    '{c.subject:03d}',\n",
    "                    '{c.gesture:03d}').format(c=combo)  \n",
    "                \n",
    "    if os.path.isdir(out_dir) is False:\n",
    "             os.makedirs(out_dir)                 \n",
    "     \n",
    "                \n",
    "    data = sio.loadmat(in_path)['data'].astype(np.float32)\n",
    "        \n",
    "    print (\"Subject %d Gesture %d Trial %d data loaded!\" % (combo.subject, combo.gesture, combo.trial))\n",
    "      \n",
    "        \n",
    "      \n",
    "    if filtering_type is 'lowpass':            \n",
    "#             data = np.transpose([lowpass(ch, 1, framerate, 1, zero_phase=True) for ch in data.T])\n",
    "        data = np.transpose([butter_lowpass_filter(ch, 1, framerate, 1, zero_phase=True) for ch in data.T])   \n",
    "        print (\"Subject %d Gesture %d Trial %d bandpass filtering finished!\" % (combo.subject, combo.gesture, combo.trial))\n",
    "    else:\n",
    "        pass\n",
    "           \n",
    "#      data = downsample(data, step=20)        \n",
    "        \n",
    "    chnum = data.shape[1]    \n",
    "    data = get_segments(data, window, stride)\n",
    "      data = data.reshape(-1, window, chnum)\n",
    "      \n",
    "      for feature_name in feature_list:\n",
    "          feature = [np.transpose(extract_emg_feature(seg.T, feature_name)) for seg in data]\n",
    "          feature = np.array(feature)\n",
    "          out_path = os.path.join(\n",
    "                                  out_dir,\n",
    "                                  '{0.subject:03d}_{0.gesture:03d}_{0.trial:03d}_{1}.mat').format(combo, feature_name)  \n",
    "          sio.savemat(out_path, {'data': feature, 'label': combo.gesture, 'subject': combo.subject, 'trial':combo.trial})                        \n",
    "          print (\"Subject %d Gesture %d Trial %d %s saved!\" % (combo.subject, combo.gesture, combo.trial, feature_name))\n"
   ]
  },
  {
   "cell_type": "code",
   "execution_count": null,
   "id": "01f5da91",
   "metadata": {},
   "outputs": [],
   "source": []
  },
  {
   "cell_type": "code",
   "execution_count": null,
   "id": "721e9b39",
   "metadata": {},
   "outputs": [],
   "source": []
  },
  {
   "cell_type": "code",
   "execution_count": null,
   "id": "949a1539",
   "metadata": {},
   "outputs": [],
   "source": []
  },
  {
   "cell_type": "code",
   "execution_count": null,
   "id": "7eeae3fb",
   "metadata": {},
   "outputs": [],
   "source": []
  },
  {
   "cell_type": "code",
   "execution_count": null,
   "id": "4f6e8853",
   "metadata": {},
   "outputs": [],
   "source": []
  },
  {
   "cell_type": "code",
   "execution_count": 244,
   "id": "acf6d210",
   "metadata": {},
   "outputs": [
    {
     "name": "stdout",
     "output_type": "stream",
     "text": [
      "NinaPro feature map generation, use window = 20 frames, stride = 1 frames\n"
     ]
    }
   ],
   "source": [
    "print (\"NinaPro feature map generation, use window = %d frames, stride = %d frames\" % (window, stride)) \n",
    "\n",
    "combos = get_combos(product(subjects, gestures, trials))\n",
    "           \n",
    "combos = list(combos)\n",
    "\n",
    "# combos"
   ]
  },
  {
   "cell_type": "code",
   "execution_count": null,
   "id": "05b57c37",
   "metadata": {},
   "outputs": [],
   "source": [
    "Parallel(n_jobs=8)(delayed(emg_feature_extraction_parallel_2)(input_path, output_path, combo, feature_list) for combo in combos) "
   ]
  }
 ],
 "metadata": {
  "kernelspec": {
   "display_name": "Python 3",
   "language": "python",
   "name": "python3"
  },
  "language_info": {
   "codemirror_mode": {
    "name": "ipython",
    "version": 3
   },
   "file_extension": ".py",
   "mimetype": "text/x-python",
   "name": "python",
   "nbconvert_exporter": "python",
   "pygments_lexer": "ipython3",
   "version": "3.8.8"
  }
 },
 "nbformat": 4,
 "nbformat_minor": 5
}
