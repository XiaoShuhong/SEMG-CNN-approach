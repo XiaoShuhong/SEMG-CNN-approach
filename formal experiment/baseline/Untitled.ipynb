{
 "cells": [
  {
   "cell_type": "code",
   "execution_count": 1,
   "id": "54a244d6-42db-4d07-9501-8178b9928ccb",
   "metadata": {},
   "outputs": [],
   "source": [
    "import os\n",
    "import scipy.io as sio\n",
    "import numpy as np\n",
    "import matplotlib\n",
    "import matplotlib.pyplot as plt\n",
    "import pandas as pd \n",
    "import numpy as np"
   ]
  },
  {
   "cell_type": "code",
   "execution_count": 115,
   "id": "dcf5663f-da79-4529-a534-faf5689ba321",
   "metadata": {},
   "outputs": [],
   "source": [
    "Out_Path='C:/Users/11488/Desktop/my semg/formal experiment/raw_signal/s1/g52.mat'"
   ]
  },
  {
   "cell_type": "code",
   "execution_count": 116,
   "id": "a5042303-1409-440d-9318-793fbc98438f",
   "metadata": {},
   "outputs": [],
   "source": [
    " my_mat=sio.loadmat(Out_Path)"
   ]
  },
  {
   "cell_type": "code",
   "execution_count": 117,
   "id": "32ed0ed9-b3f1-452e-9eb3-84b3e28df08c",
   "metadata": {},
   "outputs": [
    {
     "data": {
      "text/plain": [
       "{'__header__': b'MATLAB 5.0 MAT-file Platform: nt, Created on: Mon Jun 21 21:43:55 2021',\n",
       " '__version__': '1.0',\n",
       " '__globals__': [],\n",
       " 'gesture': array([[52]]),\n",
       " 'tr0': array([[0.0732, 0.0806, 0.0903, ..., 0.0586, 0.061 , 0.0708],\n",
       "        [0.0171, 0.0391, 0.0854, ..., 0.0024, 0.0024, 0.0024],\n",
       "        [0.0024, 0.0024, 0.0024, ..., 0.0024, 0.0024, 0.0024],\n",
       "        ...,\n",
       "        [0.3784, 0.3687, 0.3516, ..., 0.3735, 0.3564, 0.3613],\n",
       "        [0.2344, 0.2271, 0.2148, ..., 0.1221, 0.1196, 0.1196],\n",
       "        [0.0269, 0.0293, 0.0293, ..., 0.1172, 0.1392, 0.1489]]),\n",
       " 'tr1': array([[0.0024, 0.0024, 0.0024, ..., 0.2466, 0.2539, 0.2393],\n",
       "        [0.0024, 0.0024, 0.0024, ..., 0.0024, 0.0024, 0.0024],\n",
       "        [0.0049, 0.0024, 0.0024, ..., 0.0024, 0.0024, 0.0024],\n",
       "        ...,\n",
       "        [0.0757, 0.0684, 0.061 , ..., 0.3882, 0.3906, 0.3906],\n",
       "        [0.1099, 0.105 , 0.105 , ..., 0.2197, 0.271 , 0.3125],\n",
       "        [0.0195, 0.0439, 0.0659, ..., 0.498 , 0.4541, 0.4126]]),\n",
       " 'tr2': array([[0.0073, 0.022 , 0.0488, ..., 0.0854, 0.1074, 0.1196],\n",
       "        [0.0024, 0.0024, 0.0073, ..., 0.0024, 0.0024, 0.0024],\n",
       "        [0.0098, 0.0366, 0.0781, ..., 0.0024, 0.0024, 0.0024],\n",
       "        ...,\n",
       "        [0.127 , 0.1636, 0.2661, ..., 0.21  , 0.2026, 0.2173],\n",
       "        [0.1172, 0.1196, 0.1343, ..., 0.1221, 0.1221, 0.1196],\n",
       "        [0.0024, 0.0049, 0.0146, ..., 0.52  , 0.5371, 0.5518]]),\n",
       " 'tr3': array([[0.0684, 0.0806, 0.0952, ..., 0.6592, 0.6152, 0.5566],\n",
       "        [0.5225, 0.4907, 0.4688, ..., 0.0024, 0.0024, 0.0024],\n",
       "        [0.0732, 0.0684, 0.0586, ..., 0.0024, 0.0024, 0.0024],\n",
       "        ...,\n",
       "        [0.5298, 0.5225, 0.5054, ..., 0.4468, 0.4419, 0.4126],\n",
       "        [0.1465, 0.1489, 0.1465, ..., 0.1929, 0.1904, 0.188 ],\n",
       "        [0.2441, 0.2612, 0.2612, ..., 0.1904, 0.1636, 0.1416]]),\n",
       " 'tr4': array([[0.0024, 0.0024, 0.0049, ..., 0.1831, 0.2173, 0.2295],\n",
       "        [0.0024, 0.0024, 0.0024, ..., 0.0024, 0.0024, 0.0024],\n",
       "        [0.0024, 0.0073, 0.0049, ..., 0.0024, 0.0024, 0.0024],\n",
       "        ...,\n",
       "        [0.0977, 0.1025, 0.1196, ..., 0.2026, 0.2075, 0.1978],\n",
       "        [0.1025, 0.0977, 0.1025, ..., 0.1733, 0.1807, 0.1733],\n",
       "        [0.0024, 0.0024, 0.0024, ..., 0.0073, 0.0049, 0.0024]]),\n",
       " 'tr5': array([[0.6323, 0.6177, 0.6177, ..., 0.0757, 0.0732, 0.0757],\n",
       "        [0.5566, 0.5225, 0.4785, ..., 0.0024, 0.0024, 0.0024],\n",
       "        [0.1904, 0.2075, 0.2197, ..., 0.0024, 0.0073, 0.0122],\n",
       "        ...,\n",
       "        [1.543 , 1.5967, 1.5625, ..., 0.0659, 0.061 , 0.0586],\n",
       "        [0.1587, 0.1563, 0.1563, ..., 0.1538, 0.1538, 0.1538],\n",
       "        [0.0049, 0.0024, 0.0024, ..., 0.1416, 0.1416, 0.1709]]),\n",
       " 'tr6': array([[0.0024, 0.0024, 0.0024, ..., 0.3271, 0.2954, 0.2563],\n",
       "        [0.0024, 0.0024, 0.0024, ..., 0.0024, 0.0024, 0.0024],\n",
       "        [0.0024, 0.0024, 0.0024, ..., 0.0024, 0.0024, 0.0024],\n",
       "        ...,\n",
       "        [0.0024, 0.0024, 0.0049, ..., 0.249 , 0.2905, 0.2905],\n",
       "        [0.0903, 0.0854, 0.0903, ..., 0.2954, 0.2637, 0.2344],\n",
       "        [0.0024, 0.0024, 0.0024, ..., 0.0098, 0.0049, 0.0024]]),\n",
       " 'tr7': array([[0.0024, 0.0024, 0.0024, ..., 0.3247, 0.293 , 0.2612],\n",
       "        [0.022 , 0.0293, 0.0269, ..., 0.0024, 0.0024, 0.0024],\n",
       "        [0.0024, 0.0024, 0.0049, ..., 0.0024, 0.0024, 0.0024],\n",
       "        ...,\n",
       "        [0.0415, 0.0366, 0.0317, ..., 0.3076, 0.3003, 0.271 ],\n",
       "        [0.1196, 0.1172, 0.1123, ..., 0.3638, 0.3516, 0.3271],\n",
       "        [0.0024, 0.0024, 0.0024, ..., 0.1758, 0.144 , 0.1147]]),\n",
       " 'tr8': array([[0.022 , 0.0244, 0.0244, ..., 0.5054, 0.4565, 0.4077],\n",
       "        [0.0024, 0.0024, 0.0024, ..., 0.0366, 0.0269, 0.0122],\n",
       "        [0.0024, 0.0024, 0.0024, ..., 0.0024, 0.0024, 0.0024],\n",
       "        ...,\n",
       "        [0.3369, 0.354 , 0.3491, ..., 0.4492, 0.4175, 0.3833],\n",
       "        [0.1245, 0.1221, 0.1196, ..., 0.1538, 0.1489, 0.1392],\n",
       "        [0.0024, 0.0024, 0.0024, ..., 0.0024, 0.0024, 0.0024]]),\n",
       " 'tr9': array([[0.0024, 0.0024, 0.0024, ..., 0.1514, 0.1904, 0.1929],\n",
       "        [0.0024, 0.0024, 0.0024, ..., 0.0024, 0.0024, 0.0024],\n",
       "        [0.0024, 0.0024, 0.0024, ..., 0.0024, 0.0024, 0.0024],\n",
       "        ...,\n",
       "        [0.0537, 0.0464, 0.0464, ..., 0.1416, 0.1489, 0.1489],\n",
       "        [0.105 , 0.0977, 0.0952, ..., 0.2881, 0.2612, 0.2393],\n",
       "        [0.0024, 0.0024, 0.0024, ..., 0.0488, 0.0415, 0.0415]])}"
      ]
     },
     "execution_count": 117,
     "metadata": {},
     "output_type": "execute_result"
    }
   ],
   "source": [
    "my_mat"
   ]
  },
  {
   "cell_type": "code",
   "execution_count": 98,
   "id": "436ca56d-a5f7-4aa3-995f-aca13188c653",
   "metadata": {},
   "outputs": [
    {
     "data": {
      "text/plain": [
       "array([[0.1709, 0.1831, 0.2173, ..., 0.1123, 0.1123, 0.1074],\n",
       "       [0.0024, 0.0024, 0.0073, ..., 0.144 , 0.166 , 0.1733],\n",
       "       [0.0269, 0.0562, 0.1025, ..., 0.0024, 0.0024, 0.0024],\n",
       "       ...,\n",
       "       [0.0146, 0.0195, 0.0342, ..., 0.0537, 0.0562, 0.0757],\n",
       "       [0.0513, 0.1099, 0.1758, ..., 0.0024, 0.0024, 0.0024],\n",
       "       [0.0049, 0.0122, 0.022 , ..., 0.0464, 0.061 , 0.0952]])"
      ]
     },
     "execution_count": 98,
     "metadata": {},
     "output_type": "execute_result"
    }
   ],
   "source": [
    "my_mat['tr0']"
   ]
  },
  {
   "cell_type": "code",
   "execution_count": null,
   "id": "94bb01a8-52bd-4052-a68c-5c56f77b0ed7",
   "metadata": {},
   "outputs": [],
   "source": []
  },
  {
   "cell_type": "code",
   "execution_count": 93,
   "id": "94418fc8-49a0-4524-bd73-1d62441e7b5c",
   "metadata": {},
   "outputs": [],
   "source": [
    "a=my_mat['tr7']\n"
   ]
  },
  {
   "cell_type": "code",
   "execution_count": 94,
   "id": "f103a891-3068-44cb-bd08-1e51c8c9b460",
   "metadata": {},
   "outputs": [],
   "source": [
    "def Window_Sliding(signal,window_num=20,window_size=30):\n",
    "    step=(len(signal)-window_size)//(window_num-1)\n",
    "    res=[]\n",
    "    for i in range(window_num):\n",
    "        start=i*step\n",
    "        end=start+window_size\n",
    "        res.append(signal[start:end])\n",
    "    return res\n",
    "        "
   ]
  },
  {
   "cell_type": "code",
   "execution_count": 95,
   "id": "e39834ca-e998-4c2b-b8e1-5baf9018ada0",
   "metadata": {},
   "outputs": [],
   "source": [
    "def Form_mat(signal):\n",
    "    res=np.zeros((10,20))\n",
    "    for i in range(10):\n",
    "        win=Window_Sliding(signal[i])\n",
    "        for j in range(20):\n",
    "            this_slice=win[j]\n",
    "            s=0\n",
    "            for e in this_slice:\n",
    "                s+=e**2\n",
    "            s=np.sqrt(s/len(this_slice))\n",
    "            res[i][j]=s\n",
    "    return res\n",
    "        "
   ]
  },
  {
   "cell_type": "code",
   "execution_count": 96,
   "id": "708cec7f-b9c1-4719-851e-a860d5e4e676",
   "metadata": {},
   "outputs": [],
   "source": [
    "from PIL import Image\n",
    "def Draw_grayimg(signal):\n",
    "    signal=signal/signal.max()\n",
    "    signal*=255\n",
    "    im = Image.fromarray(signal)\n",
    "    im = im.convert('L') \n",
    "    im.save('outfile.png')\n",
    "    "
   ]
  },
  {
   "cell_type": "code",
   "execution_count": 97,
   "id": "032501f6-71ab-4a6f-adee-7f52e9429e0b",
   "metadata": {},
   "outputs": [],
   "source": [
    "data=Form_mat(a)"
   ]
  },
  {
   "cell_type": "code",
   "execution_count": 85,
   "id": "4b0a951c-b81d-4c61-bb0a-f4945153e701",
   "metadata": {},
   "outputs": [],
   "source": [
    "data=data/data.max()"
   ]
  },
  {
   "cell_type": "code",
   "execution_count": 86,
   "id": "9ff1507e-cd81-4c30-85a4-578791b28be6",
   "metadata": {},
   "outputs": [],
   "source": [
    "data*=255"
   ]
  },
  {
   "cell_type": "code",
   "execution_count": 87,
   "id": "046868a1-7e29-4fd4-ac02-66f1c35c5a2b",
   "metadata": {},
   "outputs": [],
   "source": [
    "from PIL import Image"
   ]
  },
  {
   "cell_type": "code",
   "execution_count": 89,
   "id": "8bb3c96e-50ab-4b20-be18-f8e9bc56d1cf",
   "metadata": {},
   "outputs": [],
   "source": [
    "im = Image.fromarray(data)\n",
    "im = im.convert('RGB')  # 这样才能转为灰度图，如果是彩色图则改L为‘RGB’\n",
    "im.save('outfile.png')"
   ]
  },
  {
   "cell_type": "code",
   "execution_count": null,
   "id": "06090d57-44ef-421e-a7e9-2ab99191043e",
   "metadata": {},
   "outputs": [],
   "source": []
  }
 ],
 "metadata": {
  "kernelspec": {
   "display_name": "Python 3",
   "language": "python",
   "name": "python3"
  },
  "language_info": {
   "codemirror_mode": {
    "name": "ipython",
    "version": 3
   },
   "file_extension": ".py",
   "mimetype": "text/x-python",
   "name": "python",
   "nbconvert_exporter": "python",
   "pygments_lexer": "ipython3",
   "version": "3.8.8"
  }
 },
 "nbformat": 4,
 "nbformat_minor": 5
}
