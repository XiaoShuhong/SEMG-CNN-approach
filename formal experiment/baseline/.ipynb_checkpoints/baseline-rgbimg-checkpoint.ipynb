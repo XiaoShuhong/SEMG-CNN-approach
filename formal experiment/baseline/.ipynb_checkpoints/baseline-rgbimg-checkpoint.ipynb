{
 "cells": [
  {
   "cell_type": "code",
   "execution_count": 15,
   "id": "a6461060-e33a-4c4a-8085-df364020473f",
   "metadata": {},
   "outputs": [],
   "source": [
    "import os\n",
    "import scipy.io as sio\n",
    "import numpy as np\n",
    "import matplotlib\n",
    "import matplotlib.pyplot as plt\n",
    "import pandas as pd \n",
    "import numpy as np"
   ]
  },
  {
   "cell_type": "code",
   "execution_count": 16,
   "id": "ecf2a133-7304-41b4-9edb-66ec47cd4933",
   "metadata": {},
   "outputs": [],
   "source": [
    "def Window_Sliding(signal,window_num=20,window_size=30):\n",
    "    step=(len(signal)-window_size)//(window_num-1)\n",
    "    res=[]\n",
    "    for i in range(window_num):\n",
    "        start=i*step\n",
    "        end=start+window_size\n",
    "        res.append(signal[start:end])\n",
    "    return res\n",
    "        "
   ]
  },
  {
   "cell_type": "code",
   "execution_count": 17,
   "id": "becc3eb3-3ba9-4d6c-8ed3-f89e07fae1ca",
   "metadata": {},
   "outputs": [],
   "source": [
    "def Form_mat(signal):\n",
    "    res=np.zeros((10,20))\n",
    "    for i in range(10):\n",
    "        win=Window_Sliding(signal[i])\n",
    "        for j in range(20):\n",
    "            this_slice=win[j]\n",
    "            s=0\n",
    "            for e in this_slice:\n",
    "                s+=e**2\n",
    "            s=np.sqrt(s/len(this_slice))\n",
    "            res[i][j]=s\n",
    "    return res"
   ]
  },
  {
   "cell_type": "code",
   "execution_count": 18,
   "id": "17ce5a91-0a09-4c50-853e-ac351a7dac6d",
   "metadata": {},
   "outputs": [],
   "source": [
    "from PIL import Image\n",
    "def Draw_grayimg(signal,path):\n",
    "    signal=signal/signal.max()\n",
    "    signal*=255\n",
    "    im = Image.fromarray(signal)\n",
    "    im = im.convert('RGB') \n",
    "    im.save(path)"
   ]
  },
  {
   "cell_type": "code",
   "execution_count": 19,
   "id": "ba6f4f72-f55f-4850-acad-53d25f824c89",
   "metadata": {},
   "outputs": [],
   "source": [
    "image_path='C:/Users/11488/Desktop/my semg/formal experiment/raw_image'\n",
    "File_Path='C:/Users/11488/Desktop/my semg/formal experiment/db-1'\n",
    "Out_Path='C:/Users/11488/Desktop/my semg/formal experiment/raw_signal'"
   ]
  },
  {
   "cell_type": "code",
   "execution_count": 20,
   "id": "4a743189-161d-4186-beb7-78b5e74fc71c",
   "metadata": {},
   "outputs": [],
   "source": [
    "for s in range(1,28):\n",
    "    for label in ['train','test'] :\n",
    "        image_f=os.path.join(image_path,\n",
    "                  's'+str(s),\n",
    "                  label\n",
    "                    )\n",
    "        if os.path.isdir(image_f) is False:\n",
    "            os.makedirs(image_f)"
   ]
  },
  {
   "cell_type": "code",
   "execution_count": 23,
   "id": "aa43e7ee-6d95-45e8-9041-fd1f4ba086b1",
   "metadata": {},
   "outputs": [
    {
     "ename": "KeyError",
     "evalue": "'tr1'",
     "output_type": "error",
     "traceback": [
      "\u001b[1;31m---------------------------------------------------------------------------\u001b[0m",
      "\u001b[1;31mKeyError\u001b[0m                                  Traceback (most recent call last)",
      "\u001b[1;32m<ipython-input-23-6d97d5ec1e7f>\u001b[0m in \u001b[0;36m<module>\u001b[1;34m\u001b[0m\n\u001b[0;32m      7\u001b[0m                     )\n\u001b[0;32m      8\u001b[0m             \u001b[0mmy_mat\u001b[0m\u001b[1;33m=\u001b[0m\u001b[0msio\u001b[0m\u001b[1;33m.\u001b[0m\u001b[0mloadmat\u001b[0m\u001b[1;33m(\u001b[0m\u001b[0mmat_path\u001b[0m\u001b[1;33m)\u001b[0m\u001b[1;33m\u001b[0m\u001b[1;33m\u001b[0m\u001b[0m\n\u001b[1;32m----> 9\u001b[1;33m             \u001b[0mtarget_t\u001b[0m\u001b[1;33m=\u001b[0m\u001b[0mmy_mat\u001b[0m\u001b[1;33m[\u001b[0m\u001b[0mt\u001b[0m\u001b[1;33m]\u001b[0m\u001b[1;33m\u001b[0m\u001b[1;33m\u001b[0m\u001b[0m\n\u001b[0m\u001b[0;32m     10\u001b[0m             \u001b[0mres\u001b[0m\u001b[1;33m=\u001b[0m\u001b[0mForm_mat\u001b[0m\u001b[1;33m(\u001b[0m\u001b[0mtarget_t\u001b[0m\u001b[1;33m)\u001b[0m\u001b[1;33m\u001b[0m\u001b[1;33m\u001b[0m\u001b[0m\n\u001b[0;32m     11\u001b[0m             img_add=os.path.join(image_path,\n",
      "\u001b[1;31mKeyError\u001b[0m: 'tr1'"
     ]
    }
   ],
   "source": [
    "for t in ['tr1','tr4','tr9']:\n",
    "    for s in range(1,13):\n",
    "        for g in range(1,53):\n",
    "            mat_path=os.path.join(Out_Path,\n",
    "                  's'+str(s),\n",
    "                  'g'+str(g)+'.mat'\n",
    "                    )\n",
    "            my_mat=sio.loadmat(mat_path)\n",
    "            target_t=my_mat[t]\n",
    "            res=Form_mat(target_t)\n",
    "            img_add=os.path.join(image_path,\n",
    "                    's'+str(s),\n",
    "                  'test',\n",
    "                    's'+str(s)+'g'+str(g)+t+'.png'\n",
    "                    )\n",
    "            Draw_grayimg(res,img_add)\n",
    "            "
   ]
  },
  {
   "cell_type": "code",
   "execution_count": null,
   "id": "91d25c63-3845-465b-a4e0-1f5566c2044e",
   "metadata": {},
   "outputs": [],
   "source": []
  },
  {
   "cell_type": "code",
   "execution_count": null,
   "id": "9cd60361-1e07-4e1f-b279-aae97bc123a1",
   "metadata": {},
   "outputs": [],
   "source": []
  }
 ],
 "metadata": {
  "kernelspec": {
   "display_name": "Python 3",
   "language": "python",
   "name": "python3"
  },
  "language_info": {
   "codemirror_mode": {
    "name": "ipython",
    "version": 3
   },
   "file_extension": ".py",
   "mimetype": "text/x-python",
   "name": "python",
   "nbconvert_exporter": "python",
   "pygments_lexer": "ipython3",
   "version": "3.8.8"
  }
 },
 "nbformat": 4,
 "nbformat_minor": 5
}
