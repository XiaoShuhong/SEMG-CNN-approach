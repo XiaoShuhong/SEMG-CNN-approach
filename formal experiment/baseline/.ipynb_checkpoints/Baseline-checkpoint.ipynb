{
 "cells": [
  {
   "cell_type": "markdown",
   "id": "56440b20-5363-4f8a-a5b8-18af6350ed4b",
   "metadata": {},
   "source": [
    "## Baseline"
   ]
  },
  {
   "cell_type": "code",
   "execution_count": 1,
   "id": "63cae1fd-d977-48b5-b0f9-53b8454dfff5",
   "metadata": {},
   "outputs": [],
   "source": [
    "import os\n",
    "import scipy.io as sio\n",
    "import numpy as np\n",
    "import matplotlib\n",
    "import matplotlib.pyplot as plt\n",
    "import pandas as pd \n",
    "import numpy as np"
   ]
  },
  {
   "cell_type": "code",
   "execution_count": 2,
   "id": "06bac0c8-e9c5-4678-8fb3-950c23715eb9",
   "metadata": {},
   "outputs": [],
   "source": [
    "File_Path='C:/Users/11488/Desktop/my semg/formal experiment/db-1'\n",
    "Out_Path='C:/Users/11488/Desktop/my semg/formal experiment/raw_signal'"
   ]
  },
  {
   "cell_type": "code",
   "execution_count": 3,
   "id": "b5eaa680-6799-49bd-8083-ecf76c9355a9",
   "metadata": {},
   "outputs": [],
   "source": [
    "\n",
    "for s in range(1,28):\n",
    "    p=os.path.join(Out_Path,\n",
    "                  's'+str(s))\n",
    "    if os.path.isdir(p) is False:\n",
    "        os.makedirs(p)\n",
    "    for g in range(1,53):\n",
    "        data={}\n",
    "        data['gesture']=g\n",
    "        file=os.path.join(p,\n",
    "                  'g'+str(g)+'.mat'\n",
    "                    )\n",
    "        \n",
    "        sio.savemat(file, data) \n",
    "        "
   ]
  },
  {
   "cell_type": "code",
   "execution_count": 10,
   "id": "16bd174f-dcbd-4a45-ae53-0704005d90e1",
   "metadata": {},
   "outputs": [],
   "source": [
    "for s in range(1,28):\n",
    "    path=os.path.join(File_Path,\n",
    "                  's'+str(s),\n",
    "                  'S'+str(s)+'_A1_E1.mat'\n",
    "                    )\n",
    "    my_mat=sio.loadmat(path)\n",
    "    my_emg=my_mat['emg']\n",
    "    my_label=np.array([j for [j] in my_mat['restimulus'].astype(np.int32)])\n",
    "    channel_split=Split_Channel(my_emg)\n",
    "    for g in range(13):\n",
    "        if g==0:\n",
    "            pass\n",
    "        \n",
    "        else:\n",
    "                \n",
    "            f=os.path.join(Out_Path,\n",
    "                  's'+str(s),\n",
    "                  'g'+str(g)+'.mat'\n",
    "                    )\n",
    "            mat=sio.loadmat(f)\n",
    "            for tr in range(10):\n",
    "                res=[]\n",
    "                for ch in range(channel_split.shape[0]):\n",
    "                    gesture_split,onset_split=Split_Gesture(channel_split[ch,:],my_label,13)\n",
    "                    head,tail=Calculate_index(tr,onset_split,g)\n",
    "                    sig=gesture_split[g][head:tail]\n",
    "                    res.append(sig)\n",
    "                key='tr'+str(tr)\n",
    "                mat[key]=res\n",
    "            sio.savemat(f, mat)  \n",
    "                \n",
    "                \n",
    "                    \n",
    "\n",
    "        \n",
    "    \n",
    "    \n",
    "    \n",
    "    "
   ]
  },
  {
   "cell_type": "code",
   "execution_count": 11,
   "id": "5d5aae43-283b-4ff7-9d5b-550578b194b4",
   "metadata": {},
   "outputs": [],
   "source": [
    "for s in range(1,28):\n",
    "    path=os.path.join(File_Path,\n",
    "                  's'+str(s),\n",
    "                  'S'+str(s)+'_A1_E2.mat'\n",
    "                    )\n",
    "    my_mat=sio.loadmat(path)\n",
    "    my_emg=my_mat['emg']\n",
    "    my_label=np.array([j for [j] in my_mat['restimulus'].astype(np.int32)])\n",
    "    channel_split=Split_Channel(my_emg)\n",
    "    for g in range(18):\n",
    "        if g==0:\n",
    "            pass\n",
    "        \n",
    "        else:\n",
    "                \n",
    "            f=os.path.join(Out_Path,\n",
    "                  's'+str(s),\n",
    "                  'g'+str(g+12)+'.mat'\n",
    "                    )\n",
    "            mat=sio.loadmat(f)\n",
    "            for tr in range(10):\n",
    "                res=[]\n",
    "                for ch in range(channel_split.shape[0]):\n",
    "                    gesture_split,onset_split=Split_Gesture(channel_split[ch,:],my_label,18)\n",
    "                    head,tail=Calculate_index(tr,onset_split,g)\n",
    "                    sig=gesture_split[g][head:tail]\n",
    "                    res.append(sig)\n",
    "                key='tr'+str(tr)\n",
    "                mat[key]=res\n",
    "            sio.savemat(f, mat)  \n",
    "               "
   ]
  },
  {
   "cell_type": "code",
   "execution_count": 12,
   "id": "629f2a7f-5f22-4235-827d-2c8cfb75f613",
   "metadata": {},
   "outputs": [],
   "source": [
    "for s in range(1,28):\n",
    "    path=os.path.join(File_Path,\n",
    "                  's'+str(s),\n",
    "                  'S'+str(s)+'_A1_E3.mat'\n",
    "                    )\n",
    "    my_mat=sio.loadmat(path)\n",
    "    my_emg=my_mat['emg']\n",
    "    my_label=np.array([j for [j] in my_mat['restimulus'].astype(np.int32)])\n",
    "    channel_split=Split_Channel(my_emg)\n",
    "    for g in range(24):\n",
    "        if g==0:\n",
    "            pass\n",
    "        \n",
    "        else:\n",
    "                \n",
    "            f=os.path.join(Out_Path,\n",
    "                  's'+str(s),\n",
    "                  'g'+str(g+29)+'.mat'\n",
    "                    )\n",
    "            mat=sio.loadmat(f)\n",
    "            for tr in range(10):\n",
    "                res=[]\n",
    "                for ch in range(channel_split.shape[0]):\n",
    "                    gesture_split,onset_split=Split_Gesture(channel_split[ch,:],my_label,24)\n",
    "                    head,tail=Calculate_index(tr,onset_split,g)\n",
    "                    sig=gesture_split[g][head:tail]\n",
    "                    res.append(sig)\n",
    "                key='tr'+str(tr)\n",
    "                mat[key]=res\n",
    "            sio.savemat(f, mat)  \n",
    "               "
   ]
  },
  {
   "cell_type": "code",
   "execution_count": 67,
   "id": "1ad17627-9f95-46f4-8af4-3c31f45b7dee",
   "metadata": {},
   "outputs": [
    {
     "data": {
      "text/plain": [
       "3674"
      ]
     },
     "execution_count": 67,
     "metadata": {},
     "output_type": "execute_result"
    }
   ],
   "source": []
  },
  {
   "cell_type": "code",
   "execution_count": 54,
   "id": "5c372c9a-7af6-4445-9673-5cc8150fb102",
   "metadata": {},
   "outputs": [
    {
     "data": {
      "text/plain": [
       "[[],\n",
       " [498.0, 365.0, 314.0, 273.0, 306.0, 371.0, 333.0, 519.0, 384.0, 311.0],\n",
       " [241.0, 367.0, 510.0, 388.0, 296.0, 337.0, 332.0, 598.0, 505.0, 488.0],\n",
       " [450.0, 590.0, 505.0, 501.0, 447.0, 590.0, 591.0, 589.0, 347.0, 508.0],\n",
       " [271.0, 594.0, 588.0, 589.0, 570.0, 306.0, 239.0, 405.0, 500.0, 398.0],\n",
       " [514.0, 274.0, 413.0, 308.0, 279.0, 359.0, 373.0, 263.0, 271.0, 350.0],\n",
       " [448.0, 594.0, 555.0, 441.0, 594.0, 426.0, 549.0, 413.0, 424.0, 439.0],\n",
       " [296.0, 310.0, 305.0, 331.0, 323.0, 279.0, 428.0, 367.0, 370.0, 188.0],\n",
       " [595.0, 586.0, 596.0, 595.0, 488.0, 594.0, 600.0, 595.0, 598.0, 595.0],\n",
       " [591.0, 477.0, 591.0, 591.0, 595.0, 591.0, 591.0, 590.0, 329.0, 591.0],\n",
       " [588.0, 592.0, 589.0, 585.0, 419.0, 590.0, 535.0, 595.0, 590.0, 596.0],\n",
       " [308.0, 376.0, 591.0, 274.0, 547.0, 419.0, 545.0, 592.0, 545.0, 545.0],\n",
       " [453.0, 511.0, 394.0, 374.0, 344.0, 439.0, 434.0, 422.0, 530.0, 429.0]]"
      ]
     },
     "execution_count": 54,
     "metadata": {},
     "output_type": "execute_result"
    }
   ],
   "source": []
  },
  {
   "cell_type": "code",
   "execution_count": 44,
   "id": "3930eacb-a4bd-48c2-985e-244f9fbc15aa",
   "metadata": {},
   "outputs": [
    {
     "data": {
      "text/plain": [
       "0"
      ]
     },
     "execution_count": 44,
     "metadata": {},
     "output_type": "execute_result"
    }
   ],
   "source": []
  },
  {
   "cell_type": "code",
   "execution_count": 4,
   "id": "1edb6ff1-0709-42fb-a348-611fe3ca13ee",
   "metadata": {},
   "outputs": [],
   "source": [
    "def Calculate_index(tr,onset_split,g):\n",
    "    onset_split=onset_split[g]\n",
    "    head=sum(onset_split[0:tr])\n",
    "    tail=head+onset_split[tr]\n",
    "    return int(head),int(tail)"
   ]
  },
  {
   "cell_type": "code",
   "execution_count": 5,
   "id": "5f16a840-9473-48f8-aaf2-85813467fe4d",
   "metadata": {},
   "outputs": [],
   "source": [
    "def Split_Channel(signal):\n",
    "    channel_set=[]\n",
    "    for i in range(signal.shape[1]):\n",
    "        channel_set.append(list(signal[:,i]))\n",
    "    return np.array(channel_set)"
   ]
  },
  {
   "cell_type": "code",
   "execution_count": 6,
   "id": "5f064051-7244-4c9c-9efd-71ca9a2ca12f",
   "metadata": {},
   "outputs": [],
   "source": [
    "def Split_Gesture(signal,label,num_gesture):\n",
    "    if signal.shape!=label.shape:\n",
    "        print('wrong signal or label shape')\n",
    "        return \n",
    "    else:\n",
    "        gesture_set=[[] for _ in range(num_gesture)]\n",
    "        onset_set=[[] for _ in range(num_gesture)]\n",
    "        count=np.zeros(num_gesture)\n",
    "        for i in range(signal.shape[0]):\n",
    "            gesture_set[label[i]].append(signal[i])\n",
    "            if i >0:\n",
    "                if (label[i]!=0 and label[i-1]==0) or (label[i]!=0 and label[i-1]!=0):\n",
    "                    count[label[i]]+=1\n",
    "                if label[i]==0 and label[i-1]!=0:\n",
    "                    onset_set[label[i-1]].append(count[label[i-1]])\n",
    "                    count[label[i-1]]=0\n",
    "                \n",
    "                    \n",
    "                    \n",
    "#         gesture_set=[np.array(ges,dtype=object) for ges in gesture_set]\n",
    "#         onset_set=[np.array(ges,dtype=object).astype(np.int32) for ges in onset_set]\n",
    "        \n",
    "#     return np.array(gesture_set,dtype=object),np.array(onset_set,dtype=object)\n",
    "    return gesture_set,onset_set"
   ]
  },
  {
   "cell_type": "code",
   "execution_count": 7,
   "id": "8dafba58-eb72-44dc-aae2-c318a8bab740",
   "metadata": {},
   "outputs": [
    {
     "ename": "NameError",
     "evalue": "name 'gesture_split' is not defined",
     "output_type": "error",
     "traceback": [
      "\u001b[1;31m---------------------------------------------------------------------------\u001b[0m",
      "\u001b[1;31mNameError\u001b[0m                                 Traceback (most recent call last)",
      "\u001b[1;32m<ipython-input-7-d607978ff3f3>\u001b[0m in \u001b[0;36m<module>\u001b[1;34m\u001b[0m\n\u001b[1;32m----> 1\u001b[1;33m \u001b[0mnp\u001b[0m\u001b[1;33m.\u001b[0m\u001b[0marray\u001b[0m\u001b[1;33m(\u001b[0m\u001b[0mgesture_split\u001b[0m\u001b[1;33m)\u001b[0m\u001b[1;33m.\u001b[0m\u001b[0mshape\u001b[0m\u001b[1;33m\u001b[0m\u001b[1;33m\u001b[0m\u001b[0m\n\u001b[0m",
      "\u001b[1;31mNameError\u001b[0m: name 'gesture_split' is not defined"
     ]
    }
   ],
   "source": []
  },
  {
   "cell_type": "code",
   "execution_count": 36,
   "id": "1839ebbe-1a88-4eb0-bf1a-94b07d1323f4",
   "metadata": {},
   "outputs": [
    {
     "data": {
      "text/plain": [
       "[[],\n",
       " [498.0, 365.0, 314.0, 273.0, 306.0, 371.0, 333.0, 519.0, 384.0, 311.0],\n",
       " [241.0, 367.0, 510.0, 388.0, 296.0, 337.0, 332.0, 598.0, 505.0, 488.0],\n",
       " [450.0, 590.0, 505.0, 501.0, 447.0, 590.0, 591.0, 589.0, 347.0, 508.0],\n",
       " [271.0, 594.0, 588.0, 589.0, 570.0, 306.0, 239.0, 405.0, 500.0, 398.0],\n",
       " [514.0, 274.0, 413.0, 308.0, 279.0, 359.0, 373.0, 263.0, 271.0, 350.0],\n",
       " [448.0, 594.0, 555.0, 441.0, 594.0, 426.0, 549.0, 413.0, 424.0, 439.0],\n",
       " [296.0, 310.0, 305.0, 331.0, 323.0, 279.0, 428.0, 367.0, 370.0, 188.0],\n",
       " [595.0, 586.0, 596.0, 595.0, 488.0, 594.0, 600.0, 595.0, 598.0, 595.0],\n",
       " [591.0, 477.0, 591.0, 591.0, 595.0, 591.0, 591.0, 590.0, 329.0, 591.0],\n",
       " [588.0, 592.0, 589.0, 585.0, 419.0, 590.0, 535.0, 595.0, 590.0, 596.0],\n",
       " [308.0, 376.0, 591.0, 274.0, 547.0, 419.0, 545.0, 592.0, 545.0, 545.0],\n",
       " [453.0, 511.0, 394.0, 374.0, 344.0, 439.0, 434.0, 422.0, 530.0, 429.0]]"
      ]
     },
     "execution_count": 36,
     "metadata": {},
     "output_type": "execute_result"
    }
   ],
   "source": []
  },
  {
   "cell_type": "code",
   "execution_count": 26,
   "id": "0c67941a-7cee-4f69-a687-ea3fd7fec5c7",
   "metadata": {},
   "outputs": [
    {
     "data": {
      "text/plain": [
       "array([[0.0024, 0.0049, 0.0024, ..., 0.0684, 0.0781, 0.083 ],\n",
       "       [0.0049, 0.0024, 0.0049, ..., 0.0049, 0.0024, 0.0024],\n",
       "       [0.0049, 0.0024, 0.0024, ..., 0.0049, 0.0049, 0.0024],\n",
       "       ...,\n",
       "       [0.0024, 0.0049, 0.0024, ..., 0.1416, 0.1538, 0.1611],\n",
       "       [0.0024, 0.0024, 0.0049, ..., 0.0024, 0.0049, 0.0049],\n",
       "       [0.0708, 0.0635, 0.0586, ..., 0.0024, 0.0024, 0.0049]])"
      ]
     },
     "execution_count": 26,
     "metadata": {},
     "output_type": "execute_result"
    }
   ],
   "source": []
  },
  {
   "cell_type": "code",
   "execution_count": 19,
   "id": "cf892e56-2e2f-42c9-9cfe-556da6c1035f",
   "metadata": {},
   "outputs": [
    {
     "data": {
      "text/plain": [
       "(100948, 10)"
      ]
     },
     "execution_count": 19,
     "metadata": {},
     "output_type": "execute_result"
    }
   ],
   "source": []
  },
  {
   "cell_type": "code",
   "execution_count": 27,
   "id": "58f5fe59-c3fa-4b3e-88c0-7f9b9705fa7a",
   "metadata": {},
   "outputs": [
    {
     "data": {
      "text/plain": [
       "array([0, 0, 0, ..., 0, 0, 0])"
      ]
     },
     "execution_count": 27,
     "metadata": {},
     "output_type": "execute_result"
    }
   ],
   "source": []
  },
  {
   "cell_type": "code",
   "execution_count": 14,
   "id": "f2be6924-674e-46d5-a7fa-17e9c0b837e1",
   "metadata": {},
   "outputs": [],
   "source": []
  },
  {
   "cell_type": "code",
   "execution_count": 15,
   "id": "d05fa295-d04a-4c9c-9575-8834a4b8a918",
   "metadata": {},
   "outputs": [],
   "source": []
  },
  {
   "cell_type": "code",
   "execution_count": 16,
   "id": "02888bcd-c2e2-470f-9aa4-af127d68e132",
   "metadata": {},
   "outputs": [
    {
     "data": {
      "text/plain": [
       "{'__header__': b'MATLAB 5.0 MAT-file, Platform: MACI64, Created on: Mon Jul 28 11:54:15 2014',\n",
       " '__version__': '1.0',\n",
       " '__globals__': [],\n",
       " 'emg': array([[0.0684, 0.0024, 0.0024, ..., 0.0488, 0.0024, 0.0342],\n",
       "        [0.0586, 0.0024, 0.0024, ..., 0.0415, 0.0024, 0.0293],\n",
       "        [0.0562, 0.0024, 0.0024, ..., 0.0391, 0.0024, 0.0244],\n",
       "        ...,\n",
       "        [0.0024, 0.0024, 0.0024, ..., 0.0342, 0.0024, 0.0073],\n",
       "        [0.0024, 0.0024, 0.0024, ..., 0.0366, 0.0024, 0.0073],\n",
       "        [0.0024, 0.0024, 0.0024, ..., 0.0391, 0.0024, 0.0024]]),\n",
       " 'stimulus': array([[0],\n",
       "        [0],\n",
       "        [0],\n",
       "        ...,\n",
       "        [0],\n",
       "        [0],\n",
       "        [0]], dtype=uint8),\n",
       " 'glove': array([[146., 121., 113., ..., 131., 135., 115.],\n",
       "        [146., 121., 113., ..., 131., 135., 115.],\n",
       "        [146., 121., 113., ..., 131., 135., 115.],\n",
       "        ...,\n",
       "        [161., 128., 122., ..., 155., 131., 116.],\n",
       "        [161., 128., 122., ..., 155., 131., 116.],\n",
       "        [161., 128., 122., ..., 155., 131., 116.]]),\n",
       " 'subject': array([[1]], dtype=uint8),\n",
       " 'exercise': array([[1]], dtype=uint8),\n",
       " 'repetition': array([[0],\n",
       "        [0],\n",
       "        [0],\n",
       "        ...,\n",
       "        [0],\n",
       "        [0],\n",
       "        [0]], dtype=uint8),\n",
       " 'restimulus': array([[0],\n",
       "        [0],\n",
       "        [0],\n",
       "        ...,\n",
       "        [0],\n",
       "        [0],\n",
       "        [0]], dtype=uint8),\n",
       " 'rerepetition': array([[0],\n",
       "        [0],\n",
       "        [0],\n",
       "        ...,\n",
       "        [0],\n",
       "        [0],\n",
       "        [0]], dtype=uint8)}"
      ]
     },
     "execution_count": 16,
     "metadata": {},
     "output_type": "execute_result"
    }
   ],
   "source": []
  },
  {
   "cell_type": "code",
   "execution_count": null,
   "id": "e399087d",
   "metadata": {},
   "outputs": [],
   "source": [
    "###"
   ]
  },
  {
   "cell_type": "code",
   "execution_count": null,
   "id": "a50d1265-4aa0-4bd8-b739-0f9bdfc51634",
   "metadata": {},
   "outputs": [],
   "source": [
    "# def Window_Sliding(signal,window_num=20,window_size=30):\n",
    "#     step=(len(signal)-window_size)//(window_num-1)\n",
    "#     res=[]\n",
    "#     for i in range(window_num):\n",
    "#         start=i*step\n",
    "#         end=start+window_size\n",
    "#         res.append(signal[start:end])\n",
    "#     return res\n",
    "        "
   ]
  },
  {
   "cell_type": "code",
   "execution_count": null,
   "id": "6fef7581-2e67-47c6-aac7-77a533e77d22",
   "metadata": {},
   "outputs": [],
   "source": [
    "# def Form_mat(signal):\n",
    "#     res=np.zeros((10,20))\n",
    "#     for i in range(10):\n",
    "#         win=Window_Sliding(signal[i])\n",
    "#         for j in range(20):\n",
    "#             this_slice=win[j]\n",
    "#             s=0\n",
    "#             for e in this_slice:\n",
    "#                 s+=e**2\n",
    "#             s=np.sqrt(s/len(this_slice))\n",
    "#             res[i][j]=s\n",
    "#     return res\n",
    "        "
   ]
  },
  {
   "cell_type": "code",
   "execution_count": null,
   "id": "c6c28283-6b15-4df1-8ee3-d4d26a363492",
   "metadata": {},
   "outputs": [],
   "source": [
    "# from PIL import Image\n",
    "# def Draw_grayimg(signal,path):\n",
    "#     signal=signal/signal.max()\n",
    "#     signal*=255\n",
    "#     im = Image.fromarray(signal)\n",
    "#     im = im.convert('RGB') \n",
    "#     im.save(path)"
   ]
  },
  {
   "cell_type": "code",
   "execution_count": null,
   "id": "6c7731be-44b9-4143-8499-039e8af1ad96",
   "metadata": {},
   "outputs": [],
   "source": [
    "# image_path='C:/Users/11488/Desktop/my semg/formal experiment/raw_image'"
   ]
  },
  {
   "cell_type": "code",
   "execution_count": null,
   "id": "77133634-b366-48a3-83c2-f1c90e829be8",
   "metadata": {},
   "outputs": [],
   "source": [
    "# for s in range(1,28):\n",
    "#     for label in ['train','test'] :\n",
    "#         image_f=os.path.join(image_path,\n",
    "#                   's'+str(s),\n",
    "#                   label\n",
    "#                     )\n",
    "# if os.path.isdir(image_f) is False:\n",
    "#         os.makedirs(image_f)"
   ]
  },
  {
   "cell_type": "code",
   "execution_count": null,
   "id": "8eb37ca9-8fa1-4f54-89cf-57150e67c63a",
   "metadata": {},
   "outputs": [],
   "source": [
    "# for t in ['tr1','tr4','tr9']:\n",
    "#     for s in range(1,28):\n",
    "#         for g in range(1,53):\n",
    "#             mat_path=os.path.join(Out_Path,\n",
    "#                   's'+str(s),\n",
    "#                   'g'+str(g)+'.mat'\n",
    "#                     )\n",
    "#             my_mat=sio.loadmat(mat_path)\n",
    "#             target_t=my_mat[t]\n",
    "#             res=Form_mat(target_t)\n",
    "#             img_add=os.path.join(image_path,\n",
    "#                   'test',\n",
    "#                     's'+str(s)+'g'+str(g)+t+'.png'\n",
    "#                     )\n",
    "#             Draw_grayimg(res,img_add)\n",
    "            \n",
    "            "
   ]
  },
  {
   "cell_type": "code",
   "execution_count": null,
   "id": "04fb2a2d-c544-44a5-9ca8-e7678051b16e",
   "metadata": {},
   "outputs": [],
   "source": [
    "# for t in ['tr0','tr2','tr3','tr5','tr6','tr7','tr8']:\n",
    "#     for s in range(1,28):\n",
    "#         for g in range(1,53):\n",
    "#             mat_path=os.path.join(Out_Path,\n",
    "#                   's'+str(s),\n",
    "#                   'g'+str(g)+'.mat'\n",
    "#                     )\n",
    "#             my_mat=sio.loadmat(mat_path)\n",
    "#             target_t=my_mat[t]\n",
    "#             res=Form_mat(target_t)\n",
    "#             img_add=os.path.join(image_path,\n",
    "#                   'train',\n",
    "#                     's'+str(s)+'g'+str(g)+t+'.png'\n",
    "#                     )\n",
    "#             Draw_grayimg(res,img_add)\n",
    "            \n",
    "            "
   ]
  }
 ],
 "metadata": {
  "kernelspec": {
   "display_name": "Python 3",
   "language": "python",
   "name": "python3"
  },
  "language_info": {
   "codemirror_mode": {
    "name": "ipython",
    "version": 3
   },
   "file_extension": ".py",
   "mimetype": "text/x-python",
   "name": "python",
   "nbconvert_exporter": "python",
   "pygments_lexer": "ipython3",
   "version": "3.8.8"
  }
 },
 "nbformat": 4,
 "nbformat_minor": 5
}
