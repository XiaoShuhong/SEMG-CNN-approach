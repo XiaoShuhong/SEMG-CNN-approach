{
  "nbformat": 4,
  "nbformat_minor": 0,
  "metadata": {
    "colab": {
      "name": "Baseline_Model.ipynb",
      "provenance": [],
      "collapsed_sections": []
    },
    "kernelspec": {
      "name": "python3",
      "display_name": "Python 3"
    },
    "language_info": {
      "name": "python"
    },
    "accelerator": "GPU"
  },
  "cells": [
    {
      "cell_type": "markdown",
      "metadata": {
        "id": "b0Ax94mp9mwJ"
      },
      "source": [
        "Load Library"
      ]
    },
    {
      "cell_type": "code",
      "metadata": {
        "id": "IqygBpWl9p6y"
      },
      "source": [
        "from keras.applications.xception import Xception\n",
        "from keras.preprocessing import image\n",
        "import numpy as np\n",
        "from keras.layers import Dense, Dropout\n",
        "from keras.models import Model\n",
        "import os\n",
        "from keras.preprocessing import image\n",
        "from keras.utils.np_utils import to_categorical\n",
        "from keras.metrics import categorical_accuracy\n",
        "from keras.callbacks import Callback, ModelCheckpoint,LearningRateScheduler,EarlyStopping,ReduceLROnPlateau\n",
        "from keras.optimizers import SGD,Adam\n"
      ],
      "execution_count": 1,
      "outputs": []
    },
    {
      "cell_type": "markdown",
      "metadata": {
        "id": "scj1uj2L91li"
      },
      "source": [
        "Load Driver"
      ]
    },
    {
      "cell_type": "code",
      "metadata": {
        "colab": {
          "base_uri": "https://localhost:8080/"
        },
        "id": "S5-Kl3rp90kA",
        "outputId": "b477adf0-ce31-49f3-9f10-d5d0eb502bbf"
      },
      "source": [
        "from google.colab import drive\n",
        "drive.mount('/content/drive')"
      ],
      "execution_count": 2,
      "outputs": [
        {
          "output_type": "stream",
          "text": [
            "Mounted at /content/drive\n"
          ],
          "name": "stdout"
        }
      ]
    },
    {
      "cell_type": "markdown",
      "metadata": {
        "id": "Ik8TOUYB9uEc"
      },
      "source": [
        "Load data set"
      ]
    },
    {
      "cell_type": "code",
      "metadata": {
        "id": "1JxDelAl9s0x"
      },
      "source": [
        "##load data set for subject s\n",
        "def Load_data(s):\n",
        "  if s<0 or s>27:\n",
        "    print('subject not exist')\n",
        "    return\n",
        "  else:\n",
        "    path='/content/drive/MyDrive/srtp-xsh/RGBimg/raw_image/s'+str(s)\n",
        "    s_weight='/content/drive/MyDrive/srtp-xsh/RGBimg/raw_image/s1/s'+str(s)+'.h5'\n",
        "    train=path+'/'+os.listdir(path)[0]\n",
        "    test=path+'/'+os.listdir(path)[1]\n",
        "    X_train=[]\n",
        "    Y_train=[]\n",
        "    for x in os.listdir(train):\n",
        "\n",
        "      f=train+'/'+x\n",
        "      img=image.load_img(f)\n",
        "      img=image.img_to_array(img)\n",
        "      img=image.smart_resize(img, (100,200), interpolation='bilinear')\n",
        "      label=x[3]\n",
        "      X_train.append(img)\n",
        "      Y_train.append(label)\n",
        "    X_test=[]\n",
        "    Y_test=[]\n",
        "    for x in os.listdir(test):\n",
        "      f=test+'/'+x\n",
        "      img=image.load_img(f)\n",
        "      img=image.img_to_array(img)\n",
        "      img=image.smart_resize(img, (100,200), interpolation='bilinear')\n",
        "      label=x[3]\n",
        "      X_test.append(img)\n",
        "      Y_test.append(label)\n",
        "    X_train=np.asarray(X_train,np.float32)\n",
        "    X_test=np.asarray(X_test,np.float32)\n",
        "    Y_train=np.asarray(Y_train,np.float32)\n",
        "    Y_test=np.asarray(Y_test,np.float32)\n",
        "\n",
        "    num_example=X_train.shape[0]\n",
        "    arr=np.arange(num_example)\n",
        "    np.random.shuffle(arr)\n",
        "    X_train=X_train[arr]\n",
        "    Y_train=Y_train[arr]\n",
        "    Y_train = to_categorical(Y_train,num_classes=52)\n",
        "    Y_test = to_categorical(Y_test,num_classes=52)\n",
        "    print('successfully load data for subject',str(s))\n",
        "    print('shape of training data:',X_train.shape)\n",
        "    print('shape of training label:',Y_train.shape)\n",
        "    print('shape of test data:',X_test.shape)\n",
        "    print('shape of test label:',Y_test.shape)\n",
        "    return X_train,Y_train,X_test,Y_test,s_weight,path\n"
      ],
      "execution_count": 3,
      "outputs": []
    },
    {
      "cell_type": "code",
      "metadata": {
        "colab": {
          "base_uri": "https://localhost:8080/"
        },
        "id": "bfDOVpS9G6MI",
        "outputId": "fbd8fb58-3fdf-4b00-eb8f-3841b5effcf9"
      },
      "source": [
        "X_train,Y_train,X_test,Y_test,s_weight,path=Load_data(2)"
      ],
      "execution_count": 4,
      "outputs": [
        {
          "output_type": "stream",
          "text": [
            "successfully load data for subject 2\n",
            "shape of training data: (364, 100, 200, 3)\n",
            "shape of training label: (364, 52)\n",
            "shape of test data: (156, 100, 200, 3)\n",
            "shape of test label: (156, 52)\n"
          ],
          "name": "stdout"
        }
      ]
    },
    {
      "cell_type": "markdown",
      "metadata": {
        "id": "Ku_4apmGJcNC"
      },
      "source": [
        "Load model "
      ]
    },
    {
      "cell_type": "code",
      "metadata": {
        "id": "6toVt2o8JYIu"
      },
      "source": [
        "\n",
        "base_model=Xception(include_top=False, weights='imagenet', input_tensor=None, input_shape=(100,200,3), pooling='avg')\n",
        "x=base_model.output\n",
        "x = Dense(1024, activation='relu')(x)\n",
        "x = Dense(512, activation='relu')(x)\n",
        "predictions = Dense(52, activation='softmax')(x)\n",
        "\n",
        "model = Model(inputs=base_model.input, outputs=predictions)"
      ],
      "execution_count": 14,
      "outputs": []
    },
    {
      "cell_type": "markdown",
      "metadata": {
        "id": "s5I8W5FQKWuH"
      },
      "source": [
        "overview of performance(skip this part if tuning is required)"
      ]
    },
    {
      "cell_type": "code",
      "metadata": {
        "colab": {
          "base_uri": "https://localhost:8080/"
        },
        "id": "2fR3kW85G8ba",
        "outputId": "351d2871-aaaa-40c2-af1d-8fb7fe160da0"
      },
      "source": [
        "opt=Adam(learning_rate=0.001, beta_1=0.9, beta_2=0.999, epsilon=1e-07, amsgrad=False,name='Adam')\n",
        "learning_rate_reduction = ReduceLROnPlateau(monitor='val_loss', patience=3, verbose=1, factor=0.5, min_lr=0.00001)\n",
        "model.compile(optimizer=opt, loss='categorical_crossentropy',metrics=['categorical_accuracy']) \n",
        "callbacks = [ModelCheckpoint(s_weight, monitor='val_loss', save_best_only=True),learning_rate_reduction]\n",
        "history = model.fit(         X_train,\n",
        "                    Y_train,\n",
        "                    epochs=64,\n",
        "                    validation_split=0.1,\n",
        "                    callbacks=callbacks)\n"
      ],
      "execution_count": 9,
      "outputs": [
        {
          "output_type": "stream",
          "text": [
            "Epoch 1/32\n",
            "11/11 [==============================] - 19s 847ms/step - loss: 3.0240 - categorical_accuracy: 0.2161 - val_loss: 3.7796 - val_categorical_accuracy: 0.1081\n"
          ],
          "name": "stdout"
        },
        {
          "output_type": "stream",
          "text": [
            "/usr/local/lib/python3.7/dist-packages/keras/utils/generic_utils.py:497: CustomMaskWarning: Custom mask layers require a config and must override get_config. When loading, the custom mask layer must be passed to the custom_objects argument.\n",
            "  category=CustomMaskWarning)\n"
          ],
          "name": "stderr"
        },
        {
          "output_type": "stream",
          "text": [
            "Epoch 2/32\n",
            "11/11 [==============================] - 5s 496ms/step - loss: 1.0875 - categorical_accuracy: 0.7299 - val_loss: 5.8359 - val_categorical_accuracy: 0.2973\n",
            "Epoch 3/32\n",
            "11/11 [==============================] - 5s 485ms/step - loss: 0.7612 - categorical_accuracy: 0.7914 - val_loss: 7.9703 - val_categorical_accuracy: 0.3514\n",
            "Epoch 4/32\n",
            "11/11 [==============================] - 5s 488ms/step - loss: 0.3588 - categorical_accuracy: 0.8937 - val_loss: 9.5006 - val_categorical_accuracy: 0.2703\n",
            "\n",
            "Epoch 00004: ReduceLROnPlateau reducing learning rate to 0.0005000000237487257.\n",
            "Epoch 5/32\n",
            "11/11 [==============================] - 5s 485ms/step - loss: 0.6165 - categorical_accuracy: 0.8241 - val_loss: 3.8928 - val_categorical_accuracy: 0.4595\n",
            "Epoch 6/32\n",
            "11/11 [==============================] - 5s 487ms/step - loss: 0.4222 - categorical_accuracy: 0.9002 - val_loss: 3.2426 - val_categorical_accuracy: 0.5676\n",
            "Epoch 7/32\n",
            "11/11 [==============================] - 5s 492ms/step - loss: 0.2294 - categorical_accuracy: 0.9514 - val_loss: 3.0118 - val_categorical_accuracy: 0.5946\n",
            "Epoch 8/32\n",
            "11/11 [==============================] - 5s 495ms/step - loss: 0.2106 - categorical_accuracy: 0.9513 - val_loss: 2.2590 - val_categorical_accuracy: 0.6486\n",
            "Epoch 9/32\n",
            "11/11 [==============================] - 5s 493ms/step - loss: 0.2156 - categorical_accuracy: 0.9239 - val_loss: 1.0670 - val_categorical_accuracy: 0.7838\n",
            "Epoch 10/32\n",
            "11/11 [==============================] - 5s 491ms/step - loss: 0.0964 - categorical_accuracy: 0.9789 - val_loss: 0.9641 - val_categorical_accuracy: 0.8108\n",
            "Epoch 11/32\n",
            "11/11 [==============================] - 5s 492ms/step - loss: 0.0281 - categorical_accuracy: 0.9929 - val_loss: 0.9277 - val_categorical_accuracy: 0.7568\n",
            "Epoch 12/32\n",
            "11/11 [==============================] - 5s 496ms/step - loss: 0.0980 - categorical_accuracy: 0.9720 - val_loss: 0.5666 - val_categorical_accuracy: 0.9189\n",
            "Epoch 13/32\n",
            "11/11 [==============================] - 5s 488ms/step - loss: 0.1731 - categorical_accuracy: 0.9540 - val_loss: 0.7229 - val_categorical_accuracy: 0.8649\n",
            "Epoch 14/32\n",
            "11/11 [==============================] - 5s 495ms/step - loss: 0.0871 - categorical_accuracy: 0.9678 - val_loss: 0.5375 - val_categorical_accuracy: 0.7838\n",
            "Epoch 15/32\n",
            "11/11 [==============================] - 5s 494ms/step - loss: 0.0719 - categorical_accuracy: 0.9821 - val_loss: 0.4278 - val_categorical_accuracy: 0.8919\n",
            "Epoch 16/32\n",
            "11/11 [==============================] - 5s 495ms/step - loss: 0.0828 - categorical_accuracy: 0.9859 - val_loss: 0.3837 - val_categorical_accuracy: 0.8919\n",
            "Epoch 17/32\n",
            "11/11 [==============================] - 5s 490ms/step - loss: 0.0719 - categorical_accuracy: 0.9731 - val_loss: 0.9715 - val_categorical_accuracy: 0.8108\n",
            "Epoch 18/32\n",
            "11/11 [==============================] - 5s 493ms/step - loss: 0.0800 - categorical_accuracy: 0.9837 - val_loss: 0.7524 - val_categorical_accuracy: 0.8378\n",
            "Epoch 19/32\n",
            "11/11 [==============================] - 6s 508ms/step - loss: 0.1134 - categorical_accuracy: 0.9595 - val_loss: 1.1403 - val_categorical_accuracy: 0.8108\n",
            "\n",
            "Epoch 00019: ReduceLROnPlateau reducing learning rate to 0.0002500000118743628.\n",
            "Epoch 20/32\n",
            "11/11 [==============================] - 5s 495ms/step - loss: 0.1882 - categorical_accuracy: 0.9618 - val_loss: 0.8118 - val_categorical_accuracy: 0.7838\n",
            "Epoch 21/32\n",
            "11/11 [==============================] - 5s 494ms/step - loss: 0.1117 - categorical_accuracy: 0.9706 - val_loss: 1.0581 - val_categorical_accuracy: 0.7027\n",
            "Epoch 22/32\n",
            "11/11 [==============================] - 5s 496ms/step - loss: 0.0766 - categorical_accuracy: 0.9834 - val_loss: 1.0690 - val_categorical_accuracy: 0.7297\n",
            "\n",
            "Epoch 00022: ReduceLROnPlateau reducing learning rate to 0.0001250000059371814.\n",
            "Epoch 23/32\n",
            "11/11 [==============================] - 5s 496ms/step - loss: 0.0345 - categorical_accuracy: 0.9919 - val_loss: 0.7625 - val_categorical_accuracy: 0.7297\n",
            "Epoch 24/32\n",
            "11/11 [==============================] - 5s 494ms/step - loss: 0.0247 - categorical_accuracy: 0.9919 - val_loss: 0.7366 - val_categorical_accuracy: 0.7568\n",
            "Epoch 25/32\n",
            "11/11 [==============================] - 5s 487ms/step - loss: 0.0231 - categorical_accuracy: 0.9953 - val_loss: 0.6497 - val_categorical_accuracy: 0.7838\n",
            "\n",
            "Epoch 00025: ReduceLROnPlateau reducing learning rate to 6.25000029685907e-05.\n",
            "Epoch 26/32\n",
            "11/11 [==============================] - 6s 499ms/step - loss: 0.0060 - categorical_accuracy: 1.0000 - val_loss: 0.5891 - val_categorical_accuracy: 0.8108\n",
            "Epoch 27/32\n",
            "11/11 [==============================] - 6s 514ms/step - loss: 0.0411 - categorical_accuracy: 0.9857 - val_loss: 0.5662 - val_categorical_accuracy: 0.7838\n",
            "Epoch 28/32\n",
            "11/11 [==============================] - 5s 491ms/step - loss: 0.0098 - categorical_accuracy: 0.9995 - val_loss: 0.5529 - val_categorical_accuracy: 0.8108\n",
            "\n",
            "Epoch 00028: ReduceLROnPlateau reducing learning rate to 3.125000148429535e-05.\n",
            "Epoch 29/32\n",
            "11/11 [==============================] - 5s 493ms/step - loss: 0.0137 - categorical_accuracy: 0.9968 - val_loss: 0.5335 - val_categorical_accuracy: 0.8378\n",
            "Epoch 30/32\n",
            "11/11 [==============================] - 5s 498ms/step - loss: 0.0033 - categorical_accuracy: 1.0000 - val_loss: 0.5310 - val_categorical_accuracy: 0.8108\n",
            "Epoch 31/32\n",
            "11/11 [==============================] - 5s 494ms/step - loss: 0.0082 - categorical_accuracy: 1.0000 - val_loss: 0.5157 - val_categorical_accuracy: 0.8108\n",
            "\n",
            "Epoch 00031: ReduceLROnPlateau reducing learning rate to 1.5625000742147677e-05.\n",
            "Epoch 32/32\n",
            "11/11 [==============================] - 6s 511ms/step - loss: 0.0066 - categorical_accuracy: 1.0000 - val_loss: 0.4986 - val_categorical_accuracy: 0.8108\n"
          ],
          "name": "stdout"
        }
      ]
    },
    {
      "cell_type": "code",
      "metadata": {
        "colab": {
          "base_uri": "https://localhost:8080/"
        },
        "id": "jfrRzctzMvUT",
        "outputId": "ead8900c-8016-4783-9efb-b1ae3982e9ea"
      },
      "source": [
        "model.load_weights(s_weight)\n",
        "loss, accuracy = model.evaluate(X_test,\n",
        "                  Y_test)\n",
        "print('loss = {0:.4f}, accuracy = {1:.4f}'.format(loss, accuracy))"
      ],
      "execution_count": 10,
      "outputs": [
        {
          "output_type": "stream",
          "text": [
            "5/5 [==============================] - 1s 144ms/step - loss: 0.6228 - categorical_accuracy: 0.8846\n",
            "loss = 0.6228, accuracy = 0.8846\n"
          ],
          "name": "stdout"
        }
      ]
    },
    {
      "cell_type": "markdown",
      "metadata": {
        "id": "IQ1QzVt9S3Z8"
      },
      "source": [
        "Fine-tuning"
      ]
    },
    {
      "cell_type": "code",
      "metadata": {
        "id": "ndWupXdzT7C9"
      },
      "source": [
        "## if do tuning, plese skip the overview of performance part"
      ],
      "execution_count": null,
      "outputs": []
    },
    {
      "cell_type": "code",
      "metadata": {
        "id": "sSWlHK8uTZva"
      },
      "source": [
        "## plot and save model structure \n",
        "from tensorflow.keras.utils import plot_model\n",
        "plot_model(model, to_file='/content/drive/MyDrive/srtp-xsh/RGBimg/raw_image/model.png',show_shapes=True)"
      ],
      "execution_count": null,
      "outputs": []
    },
    {
      "cell_type": "code",
      "metadata": {
        "id": "OyO58RdVURiR"
      },
      "source": [
        "model.summary()"
      ],
      "execution_count": null,
      "outputs": []
    },
    {
      "cell_type": "code",
      "metadata": {
        "colab": {
          "base_uri": "https://localhost:8080/"
        },
        "id": "yYeMxsdWQuqx",
        "outputId": "43ed5345-9540-4c37-9cc0-c1a3024918d9"
      },
      "source": [
        "## first try tuning last several layer\n",
        "tuning1_weight='/content/drive/MyDrive/srtp-xsh/RGBimg/raw_image/tuning1_weight.h5'\n",
        "for layer in base_model.layers:\n",
        "    layer.trainable = False\n",
        "opt=Adam(learning_rate=0.001, beta_1=0.9, beta_2=0.999, epsilon=1e-07, amsgrad=False,name='Adam')\n",
        "learning_rate_reduction = ReduceLROnPlateau(monitor='val_loss', patience=3, verbose=1, factor=0.5, min_lr=0.00001)\n",
        "model.compile(optimizer=opt, loss='categorical_crossentropy',metrics=['categorical_accuracy']) \n",
        "callbacks = [ModelCheckpoint(tuning1_weight, monitor='val_loss', save_best_only=True),learning_rate_reduction]\n",
        "history = model.fit(         X_train,\n",
        "                    Y_train,\n",
        "                    epochs=32,\n",
        "                    validation_split=0.1,\n",
        "                    callbacks=callbacks)"
      ],
      "execution_count": 15,
      "outputs": [
        {
          "output_type": "stream",
          "text": [
            "Epoch 1/32\n",
            "11/11 [==============================] - 14s 559ms/step - loss: 15.5775 - categorical_accuracy: 0.2274 - val_loss: 12.2149 - val_categorical_accuracy: 0.1892\n"
          ],
          "name": "stdout"
        },
        {
          "output_type": "stream",
          "text": [
            "/usr/local/lib/python3.7/dist-packages/keras/utils/generic_utils.py:497: CustomMaskWarning: Custom mask layers require a config and must override get_config. When loading, the custom mask layer must be passed to the custom_objects argument.\n",
            "  category=CustomMaskWarning)\n"
          ],
          "name": "stderr"
        },
        {
          "output_type": "stream",
          "text": [
            "Epoch 2/32\n",
            "11/11 [==============================] - 2s 143ms/step - loss: 6.1493 - categorical_accuracy: 0.3489 - val_loss: 3.8950 - val_categorical_accuracy: 0.3514\n",
            "Epoch 3/32\n",
            "11/11 [==============================] - 2s 139ms/step - loss: 1.8884 - categorical_accuracy: 0.5333 - val_loss: 1.7729 - val_categorical_accuracy: 0.5405\n",
            "Epoch 4/32\n",
            "11/11 [==============================] - 1s 137ms/step - loss: 1.1560 - categorical_accuracy: 0.6908 - val_loss: 1.7196 - val_categorical_accuracy: 0.5676\n",
            "Epoch 5/32\n",
            "11/11 [==============================] - 1s 137ms/step - loss: 0.7922 - categorical_accuracy: 0.7289 - val_loss: 0.9450 - val_categorical_accuracy: 0.7027\n",
            "Epoch 6/32\n",
            "11/11 [==============================] - 1s 135ms/step - loss: 0.6522 - categorical_accuracy: 0.7737 - val_loss: 0.6688 - val_categorical_accuracy: 0.7838\n",
            "Epoch 7/32\n",
            "11/11 [==============================] - 1s 137ms/step - loss: 0.4319 - categorical_accuracy: 0.8527 - val_loss: 0.6747 - val_categorical_accuracy: 0.7568\n",
            "Epoch 8/32\n",
            "11/11 [==============================] - 1s 136ms/step - loss: 0.4930 - categorical_accuracy: 0.8130 - val_loss: 0.5797 - val_categorical_accuracy: 0.7027\n",
            "Epoch 9/32\n",
            "11/11 [==============================] - 1s 136ms/step - loss: 0.2792 - categorical_accuracy: 0.9142 - val_loss: 0.4984 - val_categorical_accuracy: 0.8649\n",
            "Epoch 10/32\n",
            "11/11 [==============================] - 1s 137ms/step - loss: 0.1877 - categorical_accuracy: 0.9543 - val_loss: 1.0017 - val_categorical_accuracy: 0.6216\n",
            "Epoch 11/32\n",
            "11/11 [==============================] - 1s 137ms/step - loss: 0.2435 - categorical_accuracy: 0.9162 - val_loss: 0.9599 - val_categorical_accuracy: 0.5946\n",
            "Epoch 12/32\n",
            "11/11 [==============================] - 1s 136ms/step - loss: 0.3420 - categorical_accuracy: 0.8626 - val_loss: 0.9609 - val_categorical_accuracy: 0.7027\n",
            "\n",
            "Epoch 00012: ReduceLROnPlateau reducing learning rate to 0.0005000000237487257.\n",
            "Epoch 13/32\n",
            "11/11 [==============================] - 1s 137ms/step - loss: 0.2529 - categorical_accuracy: 0.9251 - val_loss: 0.4141 - val_categorical_accuracy: 0.8649\n",
            "Epoch 14/32\n",
            "11/11 [==============================] - 2s 138ms/step - loss: 0.1502 - categorical_accuracy: 0.9607 - val_loss: 0.6712 - val_categorical_accuracy: 0.7297\n",
            "Epoch 15/32\n",
            "11/11 [==============================] - 1s 137ms/step - loss: 0.1139 - categorical_accuracy: 0.9731 - val_loss: 0.3745 - val_categorical_accuracy: 0.8378\n",
            "Epoch 16/32\n",
            "11/11 [==============================] - 1s 136ms/step - loss: 0.0797 - categorical_accuracy: 0.9908 - val_loss: 0.4746 - val_categorical_accuracy: 0.8108\n",
            "Epoch 17/32\n",
            "11/11 [==============================] - 1s 137ms/step - loss: 0.0670 - categorical_accuracy: 0.9972 - val_loss: 0.3623 - val_categorical_accuracy: 0.8378\n",
            "Epoch 18/32\n",
            "11/11 [==============================] - 1s 136ms/step - loss: 0.0493 - categorical_accuracy: 0.9978 - val_loss: 0.4038 - val_categorical_accuracy: 0.8378\n",
            "Epoch 19/32\n",
            "11/11 [==============================] - 1s 137ms/step - loss: 0.0516 - categorical_accuracy: 1.0000 - val_loss: 0.3897 - val_categorical_accuracy: 0.8378\n",
            "Epoch 20/32\n",
            "11/11 [==============================] - 1s 137ms/step - loss: 0.0481 - categorical_accuracy: 1.0000 - val_loss: 0.4182 - val_categorical_accuracy: 0.8108\n",
            "\n",
            "Epoch 00020: ReduceLROnPlateau reducing learning rate to 0.0002500000118743628.\n",
            "Epoch 21/32\n",
            "11/11 [==============================] - 1s 138ms/step - loss: 0.0374 - categorical_accuracy: 1.0000 - val_loss: 0.3603 - val_categorical_accuracy: 0.8649\n",
            "Epoch 22/32\n",
            "11/11 [==============================] - 1s 137ms/step - loss: 0.0369 - categorical_accuracy: 1.0000 - val_loss: 0.3422 - val_categorical_accuracy: 0.8919\n",
            "Epoch 23/32\n",
            "11/11 [==============================] - 1s 137ms/step - loss: 0.0360 - categorical_accuracy: 1.0000 - val_loss: 0.3389 - val_categorical_accuracy: 0.8919\n",
            "Epoch 24/32\n",
            "11/11 [==============================] - 1s 136ms/step - loss: 0.0301 - categorical_accuracy: 1.0000 - val_loss: 0.3199 - val_categorical_accuracy: 0.8919\n",
            "Epoch 25/32\n",
            "11/11 [==============================] - 1s 136ms/step - loss: 0.0326 - categorical_accuracy: 1.0000 - val_loss: 0.3573 - val_categorical_accuracy: 0.8919\n",
            "Epoch 26/32\n",
            "11/11 [==============================] - 1s 137ms/step - loss: 0.0305 - categorical_accuracy: 1.0000 - val_loss: 0.3220 - val_categorical_accuracy: 0.8919\n",
            "Epoch 27/32\n",
            "11/11 [==============================] - 1s 137ms/step - loss: 0.0259 - categorical_accuracy: 1.0000 - val_loss: 0.3249 - val_categorical_accuracy: 0.8919\n",
            "\n",
            "Epoch 00027: ReduceLROnPlateau reducing learning rate to 0.0001250000059371814.\n",
            "Epoch 28/32\n",
            "11/11 [==============================] - 1s 137ms/step - loss: 0.0270 - categorical_accuracy: 1.0000 - val_loss: 0.3163 - val_categorical_accuracy: 0.9189\n",
            "Epoch 29/32\n",
            "11/11 [==============================] - 2s 138ms/step - loss: 0.0281 - categorical_accuracy: 1.0000 - val_loss: 0.3337 - val_categorical_accuracy: 0.9189\n",
            "Epoch 30/32\n",
            "11/11 [==============================] - 2s 153ms/step - loss: 0.0249 - categorical_accuracy: 1.0000 - val_loss: 0.3408 - val_categorical_accuracy: 0.8919\n",
            "Epoch 31/32\n",
            "11/11 [==============================] - 2s 138ms/step - loss: 0.0242 - categorical_accuracy: 1.0000 - val_loss: 0.3359 - val_categorical_accuracy: 0.8919\n",
            "\n",
            "Epoch 00031: ReduceLROnPlateau reducing learning rate to 6.25000029685907e-05.\n",
            "Epoch 32/32\n",
            "11/11 [==============================] - 2s 140ms/step - loss: 0.0236 - categorical_accuracy: 1.0000 - val_loss: 0.3435 - val_categorical_accuracy: 0.8919\n"
          ],
          "name": "stdout"
        }
      ]
    },
    {
      "cell_type": "code",
      "metadata": {
        "colab": {
          "base_uri": "https://localhost:8080/"
        },
        "id": "NFjvYb71TWX_",
        "outputId": "269f1a9a-5923-44df-82cf-ebaba4dc566c"
      },
      "source": [
        "## then tuning the base model\n",
        "for layer in model.layers[0:133]:\n",
        "   layer.trainable = True\n",
        "for layer in model.layers[133:]:\n",
        "   layer.trainable = False\n",
        "model.load_weights(tuning1_weight)\n",
        "opt=Adam(learning_rate=0.001, beta_1=0.9, beta_2=0.999, epsilon=1e-07, amsgrad=False,name='Adam')\n",
        "learning_rate_reduction = ReduceLROnPlateau(monitor='val_loss', patience=3, verbose=1, factor=0.5, min_lr=0.00001)\n",
        "model.compile(optimizer=opt, loss='categorical_crossentropy',metrics=['categorical_accuracy']) \n",
        "callbacks = [ModelCheckpoint(s_weight, monitor='val_loss', save_best_only=True),learning_rate_reduction]\n",
        "history = model.fit(         X_train,\n",
        "                    Y_train,\n",
        "                    epochs=64,\n",
        "                    validation_split=0.1,\n",
        "                    callbacks=callbacks)"
      ],
      "execution_count": 16,
      "outputs": [
        {
          "output_type": "stream",
          "text": [
            "Epoch 1/64\n",
            "11/11 [==============================] - 20s 833ms/step - loss: 0.2905 - categorical_accuracy: 0.9309 - val_loss: 2.0169 - val_categorical_accuracy: 0.7838\n"
          ],
          "name": "stdout"
        },
        {
          "output_type": "stream",
          "text": [
            "/usr/local/lib/python3.7/dist-packages/keras/utils/generic_utils.py:497: CustomMaskWarning: Custom mask layers require a config and must override get_config. When loading, the custom mask layer must be passed to the custom_objects argument.\n",
            "  category=CustomMaskWarning)\n"
          ],
          "name": "stderr"
        },
        {
          "output_type": "stream",
          "text": [
            "Epoch 2/64\n",
            "11/11 [==============================] - 6s 496ms/step - loss: 0.4584 - categorical_accuracy: 0.8831 - val_loss: 1.8565 - val_categorical_accuracy: 0.7568\n",
            "Epoch 3/64\n",
            "11/11 [==============================] - 5s 488ms/step - loss: 0.4408 - categorical_accuracy: 0.8844 - val_loss: 1.9734 - val_categorical_accuracy: 0.5676\n",
            "Epoch 4/64\n",
            "11/11 [==============================] - 5s 488ms/step - loss: 0.2073 - categorical_accuracy: 0.9298 - val_loss: 1.5919 - val_categorical_accuracy: 0.5946\n",
            "Epoch 5/64\n",
            "11/11 [==============================] - 5s 493ms/step - loss: 0.3037 - categorical_accuracy: 0.9080 - val_loss: 3.1862 - val_categorical_accuracy: 0.4324\n",
            "Epoch 6/64\n",
            "11/11 [==============================] - 5s 494ms/step - loss: 0.1438 - categorical_accuracy: 0.9635 - val_loss: 2.2043 - val_categorical_accuracy: 0.5676\n",
            "Epoch 7/64\n",
            "11/11 [==============================] - 5s 492ms/step - loss: 0.2111 - categorical_accuracy: 0.9329 - val_loss: 1.4851 - val_categorical_accuracy: 0.7297\n",
            "Epoch 8/64\n",
            "11/11 [==============================] - 5s 495ms/step - loss: 0.2514 - categorical_accuracy: 0.9284 - val_loss: 1.4595 - val_categorical_accuracy: 0.7838\n",
            "Epoch 9/64\n",
            "11/11 [==============================] - 5s 493ms/step - loss: 0.2014 - categorical_accuracy: 0.9576 - val_loss: 0.8755 - val_categorical_accuracy: 0.7568\n",
            "Epoch 10/64\n",
            "11/11 [==============================] - 5s 493ms/step - loss: 0.1009 - categorical_accuracy: 0.9840 - val_loss: 0.6088 - val_categorical_accuracy: 0.8108\n",
            "Epoch 11/64\n",
            "11/11 [==============================] - 5s 491ms/step - loss: 0.0542 - categorical_accuracy: 0.9835 - val_loss: 0.6114 - val_categorical_accuracy: 0.8378\n",
            "Epoch 12/64\n",
            "11/11 [==============================] - 5s 493ms/step - loss: 0.1871 - categorical_accuracy: 0.9367 - val_loss: 2.4895 - val_categorical_accuracy: 0.6757\n",
            "Epoch 13/64\n",
            "11/11 [==============================] - 5s 490ms/step - loss: 0.1264 - categorical_accuracy: 0.9501 - val_loss: 0.7784 - val_categorical_accuracy: 0.8108\n",
            "\n",
            "Epoch 00013: ReduceLROnPlateau reducing learning rate to 0.0005000000237487257.\n",
            "Epoch 14/64\n",
            "11/11 [==============================] - 5s 490ms/step - loss: 0.1226 - categorical_accuracy: 0.9590 - val_loss: 0.4436 - val_categorical_accuracy: 0.8378\n",
            "Epoch 15/64\n",
            "11/11 [==============================] - 6s 492ms/step - loss: 0.0315 - categorical_accuracy: 0.9972 - val_loss: 0.5556 - val_categorical_accuracy: 0.8108\n",
            "Epoch 16/64\n",
            "11/11 [==============================] - 5s 488ms/step - loss: 0.0325 - categorical_accuracy: 0.9973 - val_loss: 0.4012 - val_categorical_accuracy: 0.8919\n",
            "Epoch 17/64\n",
            "11/11 [==============================] - 5s 495ms/step - loss: 0.0354 - categorical_accuracy: 0.9873 - val_loss: 0.5792 - val_categorical_accuracy: 0.8919\n",
            "Epoch 18/64\n",
            "11/11 [==============================] - 5s 491ms/step - loss: 0.0124 - categorical_accuracy: 0.9987 - val_loss: 1.1015 - val_categorical_accuracy: 0.8378\n",
            "Epoch 19/64\n",
            "11/11 [==============================] - 5s 490ms/step - loss: 0.0548 - categorical_accuracy: 0.9793 - val_loss: 0.3482 - val_categorical_accuracy: 0.8649\n",
            "Epoch 20/64\n",
            "11/11 [==============================] - 5s 494ms/step - loss: 0.0193 - categorical_accuracy: 0.9971 - val_loss: 0.3561 - val_categorical_accuracy: 0.8649\n",
            "Epoch 21/64\n",
            "11/11 [==============================] - 5s 493ms/step - loss: 0.0112 - categorical_accuracy: 1.0000 - val_loss: 0.3799 - val_categorical_accuracy: 0.8378\n",
            "Epoch 22/64\n",
            "11/11 [==============================] - 5s 495ms/step - loss: 0.0236 - categorical_accuracy: 0.9967 - val_loss: 0.2469 - val_categorical_accuracy: 0.9189\n",
            "Epoch 23/64\n",
            "11/11 [==============================] - 6s 494ms/step - loss: 0.0097 - categorical_accuracy: 0.9990 - val_loss: 0.1817 - val_categorical_accuracy: 0.9459\n",
            "Epoch 24/64\n",
            "11/11 [==============================] - 5s 489ms/step - loss: 0.0511 - categorical_accuracy: 0.9862 - val_loss: 0.3472 - val_categorical_accuracy: 0.9189\n",
            "Epoch 25/64\n",
            "11/11 [==============================] - 5s 494ms/step - loss: 0.0553 - categorical_accuracy: 0.9904 - val_loss: 0.2871 - val_categorical_accuracy: 0.9189\n",
            "Epoch 26/64\n",
            "11/11 [==============================] - 5s 497ms/step - loss: 0.0344 - categorical_accuracy: 0.9923 - val_loss: 0.2269 - val_categorical_accuracy: 0.9189\n",
            "\n",
            "Epoch 00026: ReduceLROnPlateau reducing learning rate to 0.0002500000118743628.\n",
            "Epoch 27/64\n",
            "11/11 [==============================] - 5s 496ms/step - loss: 0.0160 - categorical_accuracy: 0.9919 - val_loss: 0.2211 - val_categorical_accuracy: 0.9459\n",
            "Epoch 28/64\n",
            "11/11 [==============================] - 5s 488ms/step - loss: 0.0133 - categorical_accuracy: 0.9982 - val_loss: 0.2106 - val_categorical_accuracy: 0.9459\n",
            "Epoch 29/64\n",
            "11/11 [==============================] - 5s 492ms/step - loss: 0.0072 - categorical_accuracy: 0.9995 - val_loss: 0.2837 - val_categorical_accuracy: 0.9189\n",
            "\n",
            "Epoch 00029: ReduceLROnPlateau reducing learning rate to 0.0001250000059371814.\n",
            "Epoch 30/64\n",
            "11/11 [==============================] - 5s 494ms/step - loss: 0.0061 - categorical_accuracy: 0.9985 - val_loss: 0.5728 - val_categorical_accuracy: 0.8649\n",
            "Epoch 31/64\n",
            "11/11 [==============================] - 5s 493ms/step - loss: 0.0208 - categorical_accuracy: 0.9953 - val_loss: 0.6254 - val_categorical_accuracy: 0.8649\n",
            "Epoch 32/64\n",
            "11/11 [==============================] - 5s 490ms/step - loss: 0.0101 - categorical_accuracy: 1.0000 - val_loss: 0.5224 - val_categorical_accuracy: 0.8649\n",
            "\n",
            "Epoch 00032: ReduceLROnPlateau reducing learning rate to 6.25000029685907e-05.\n",
            "Epoch 33/64\n",
            "11/11 [==============================] - 5s 492ms/step - loss: 0.0155 - categorical_accuracy: 0.9962 - val_loss: 0.4832 - val_categorical_accuracy: 0.8649\n",
            "Epoch 34/64\n",
            "11/11 [==============================] - 5s 494ms/step - loss: 0.0043 - categorical_accuracy: 1.0000 - val_loss: 0.4317 - val_categorical_accuracy: 0.8649\n",
            "Epoch 35/64\n",
            "11/11 [==============================] - 5s 487ms/step - loss: 0.0304 - categorical_accuracy: 0.9837 - val_loss: 0.4151 - val_categorical_accuracy: 0.8919\n",
            "\n",
            "Epoch 00035: ReduceLROnPlateau reducing learning rate to 3.125000148429535e-05.\n",
            "Epoch 36/64\n",
            "11/11 [==============================] - 5s 490ms/step - loss: 0.0085 - categorical_accuracy: 1.0000 - val_loss: 0.3828 - val_categorical_accuracy: 0.8919\n",
            "Epoch 37/64\n",
            "11/11 [==============================] - 5s 496ms/step - loss: 0.0047 - categorical_accuracy: 1.0000 - val_loss: 0.3467 - val_categorical_accuracy: 0.8919\n",
            "Epoch 38/64\n",
            "11/11 [==============================] - 5s 497ms/step - loss: 0.0038 - categorical_accuracy: 0.9995 - val_loss: 0.3265 - val_categorical_accuracy: 0.8919\n",
            "\n",
            "Epoch 00038: ReduceLROnPlateau reducing learning rate to 1.5625000742147677e-05.\n",
            "Epoch 39/64\n",
            "11/11 [==============================] - 5s 490ms/step - loss: 0.0056 - categorical_accuracy: 1.0000 - val_loss: 0.2957 - val_categorical_accuracy: 0.8919\n",
            "Epoch 40/64\n",
            "11/11 [==============================] - 6s 506ms/step - loss: 0.0049 - categorical_accuracy: 0.9995 - val_loss: 0.2728 - val_categorical_accuracy: 0.8919\n",
            "Epoch 41/64\n",
            "11/11 [==============================] - 5s 492ms/step - loss: 0.0016 - categorical_accuracy: 1.0000 - val_loss: 0.2571 - val_categorical_accuracy: 0.8919\n",
            "\n",
            "Epoch 00041: ReduceLROnPlateau reducing learning rate to 1e-05.\n",
            "Epoch 42/64\n",
            "11/11 [==============================] - 6s 509ms/step - loss: 0.0037 - categorical_accuracy: 0.9986 - val_loss: 0.2532 - val_categorical_accuracy: 0.8919\n",
            "Epoch 43/64\n",
            "11/11 [==============================] - 5s 489ms/step - loss: 0.0019 - categorical_accuracy: 1.0000 - val_loss: 0.2488 - val_categorical_accuracy: 0.8919\n",
            "Epoch 44/64\n",
            "11/11 [==============================] - 5s 495ms/step - loss: 0.0051 - categorical_accuracy: 0.9995 - val_loss: 0.2358 - val_categorical_accuracy: 0.8919\n",
            "Epoch 45/64\n",
            "11/11 [==============================] - 6s 509ms/step - loss: 0.0049 - categorical_accuracy: 1.0000 - val_loss: 0.2365 - val_categorical_accuracy: 0.8919\n",
            "Epoch 46/64\n",
            "11/11 [==============================] - 5s 495ms/step - loss: 0.0052 - categorical_accuracy: 1.0000 - val_loss: 0.2312 - val_categorical_accuracy: 0.8919\n",
            "Epoch 47/64\n",
            "11/11 [==============================] - 5s 491ms/step - loss: 0.0041 - categorical_accuracy: 1.0000 - val_loss: 0.2302 - val_categorical_accuracy: 0.8919\n",
            "Epoch 48/64\n",
            "11/11 [==============================] - 6s 512ms/step - loss: 0.0054 - categorical_accuracy: 0.9995 - val_loss: 0.2280 - val_categorical_accuracy: 0.8919\n",
            "Epoch 49/64\n",
            "11/11 [==============================] - 5s 490ms/step - loss: 0.0057 - categorical_accuracy: 0.9995 - val_loss: 0.2146 - val_categorical_accuracy: 0.9189\n",
            "Epoch 50/64\n",
            "11/11 [==============================] - 5s 493ms/step - loss: 0.0047 - categorical_accuracy: 1.0000 - val_loss: 0.2258 - val_categorical_accuracy: 0.8919\n",
            "Epoch 51/64\n",
            "11/11 [==============================] - 5s 492ms/step - loss: 0.0106 - categorical_accuracy: 1.0000 - val_loss: 0.2275 - val_categorical_accuracy: 0.8919\n",
            "Epoch 52/64\n",
            "11/11 [==============================] - 5s 494ms/step - loss: 0.0031 - categorical_accuracy: 0.9995 - val_loss: 0.2269 - val_categorical_accuracy: 0.8919\n",
            "Epoch 53/64\n",
            "11/11 [==============================] - 5s 492ms/step - loss: 0.0053 - categorical_accuracy: 1.0000 - val_loss: 0.2328 - val_categorical_accuracy: 0.8919\n",
            "Epoch 54/64\n",
            "11/11 [==============================] - 5s 489ms/step - loss: 0.0104 - categorical_accuracy: 0.9961 - val_loss: 0.2328 - val_categorical_accuracy: 0.8919\n",
            "Epoch 55/64\n",
            "11/11 [==============================] - 5s 493ms/step - loss: 0.0058 - categorical_accuracy: 0.9995 - val_loss: 0.2351 - val_categorical_accuracy: 0.8919\n",
            "Epoch 56/64\n",
            "11/11 [==============================] - 5s 496ms/step - loss: 0.0042 - categorical_accuracy: 0.9992 - val_loss: 0.2270 - val_categorical_accuracy: 0.8919\n",
            "Epoch 57/64\n",
            "11/11 [==============================] - 5s 492ms/step - loss: 0.0042 - categorical_accuracy: 0.9995 - val_loss: 0.2167 - val_categorical_accuracy: 0.8919\n",
            "Epoch 58/64\n",
            "11/11 [==============================] - 6s 506ms/step - loss: 0.0028 - categorical_accuracy: 1.0000 - val_loss: 0.2064 - val_categorical_accuracy: 0.8919\n",
            "Epoch 59/64\n",
            "11/11 [==============================] - 5s 498ms/step - loss: 0.0046 - categorical_accuracy: 1.0000 - val_loss: 0.2062 - val_categorical_accuracy: 0.8919\n",
            "Epoch 60/64\n",
            "11/11 [==============================] - 6s 510ms/step - loss: 0.0084 - categorical_accuracy: 0.9981 - val_loss: 0.2057 - val_categorical_accuracy: 0.8919\n",
            "Epoch 61/64\n",
            "11/11 [==============================] - 5s 492ms/step - loss: 0.0091 - categorical_accuracy: 1.0000 - val_loss: 0.2033 - val_categorical_accuracy: 0.8919\n",
            "Epoch 62/64\n",
            "11/11 [==============================] - 5s 494ms/step - loss: 0.0058 - categorical_accuracy: 1.0000 - val_loss: 0.1935 - val_categorical_accuracy: 0.9189\n",
            "Epoch 63/64\n",
            "11/11 [==============================] - 5s 488ms/step - loss: 0.0032 - categorical_accuracy: 1.0000 - val_loss: 0.1863 - val_categorical_accuracy: 0.9189\n",
            "Epoch 64/64\n",
            "11/11 [==============================] - 5s 490ms/step - loss: 0.0082 - categorical_accuracy: 1.0000 - val_loss: 0.1818 - val_categorical_accuracy: 0.9189\n"
          ],
          "name": "stdout"
        }
      ]
    },
    {
      "cell_type": "code",
      "metadata": {
        "colab": {
          "base_uri": "https://localhost:8080/"
        },
        "id": "Z-ZAn2OpVID2",
        "outputId": "76013f81-04e2-4069-f286-7a608fe94d15"
      },
      "source": [
        "##see performance on test set\n",
        "model.load_weights(s_weight)\n",
        "loss, accuracy = model.evaluate(X_test,\n",
        "                  Y_test)\n",
        "print('loss = {0:.4f}, accuracy = {1:.4f}'.format(loss, accuracy))"
      ],
      "execution_count": 17,
      "outputs": [
        {
          "output_type": "stream",
          "text": [
            "5/5 [==============================] - 1s 138ms/step - loss: 0.1789 - categorical_accuracy: 0.9679\n",
            "loss = 0.1789, accuracy = 0.9679\n"
          ],
          "name": "stdout"
        }
      ]
    },
    {
      "cell_type": "markdown",
      "metadata": {
        "id": "XkciMjCcXG5n"
      },
      "source": [
        "tuning or fit use generator(use this part, plz skip the above two part)"
      ]
    },
    {
      "cell_type": "code",
      "metadata": {
        "id": "j5BtTvtvW5G4"
      },
      "source": [
        "##generator\n",
        "def minibatches(inputs=None, targets=None, batch_size=None, shuffle=False, aug=None):\n",
        "    while 1:  \n",
        "        assert len(inputs) == len(targets)\n",
        "        if shuffle:\n",
        "            indices = np.arange(len(inputs))\n",
        "            np.random.shuffle(indices)\n",
        "        for start_idx in range( len(inputs) - batch_size ):\n",
        "            if shuffle:\n",
        "                excerpt = indices[start_idx:start_idx + batch_size]\n",
        "                if aug is not None:\n",
        "                  (inputs[excerpt], targets[excerpt]) = next(aug.flow(inputs[excerpt],targets[excerpt], batch_size=batch_size))\n",
        "            else:\n",
        "                excerpt = slice(start_idx, start_idx + batch_size)\n",
        "                if aug is not None:\n",
        "                  (inputs[excerpt], targets[excerpt]) = next(aug.flow(inputs[excerpt],targets[excerpt], batch_size=batch_size))\n",
        "            yield inputs[excerpt], targets[excerpt]\n",
        "      "
      ],
      "execution_count": 18,
      "outputs": []
    },
    {
      "cell_type": "code",
      "metadata": {
        "id": "QQlw9L6gXStY"
      },
      "source": [
        "## construct the training image generator for data augmentation to have larger data set\n",
        "from keras.preprocessing.image import ImageDataGenerator\n",
        "aug = ImageDataGenerator(rotation_range=20, zoom_range=0.15,\n",
        "\twidth_shift_range=0.2, height_shift_range=0.2, shear_range=0.15,\n",
        "\thorizontal_flip=True, fill_mode=\"nearest\")\n"
      ],
      "execution_count": 19,
      "outputs": []
    },
    {
      "cell_type": "code",
      "metadata": {
        "id": "EckvbnNoXuJB"
      },
      "source": [
        "## I skip the detailed tuning layer setting here, you can follow the method I use in last part "
      ],
      "execution_count": 20,
      "outputs": []
    },
    {
      "cell_type": "code",
      "metadata": {
        "id": "cQXyG0ltXcqT"
      },
      "source": [
        "opt=Adam(learning_rate=0.001, beta_1=0.9, beta_2=0.999, epsilon=1e-07, amsgrad=False,name='Adam')\n",
        "learning_rate_reduction = ReduceLROnPlateau(monitor='val_loss', patience=3, verbose=1, factor=0.5, min_lr=0.00001)\n",
        "model.compile(optimizer=opt, loss='categorical_crossentropy',metrics=['categorical_accuracy']) \n",
        "his=model.fit_generator(minibatches(X_train,Y_train,batch_size=6,shuffle=False,aug=None),\n",
        "                            steps_per_epoch=len(X_train)//6,\n",
        "                            callbacks = [ModelCheckpoint(s_weight, monitor='val_loss', save_best_only=True, save_weight_only=True),learning_rate_reduction],\n",
        "                            validation_data=minibatches(X_test,Y_test,batch_size=6,shuffle=True,aug=None),\n",
        "                            validation_steps=len(X_1_test)//6,\n",
        "                            epochs=6)"
      ],
      "execution_count": null,
      "outputs": []
    },
    {
      "cell_type": "code",
      "metadata": {
        "id": "LBwvhuGuY36X"
      },
      "source": [
        "##see performance on test set\n",
        "model.load_weights(s_weight)\n",
        "loss, accuracy = model.evaluate(X_test,\n",
        "                  Y_test)\n",
        "print('loss = {0:.4f}, accuracy = {1:.4f}'.format(loss, accuracy))"
      ],
      "execution_count": null,
      "outputs": []
    }
  ]
}