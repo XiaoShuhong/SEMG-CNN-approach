{
  "nbformat": 4,
  "nbformat_minor": 0,
  "metadata": {
    "colab": {
      "name": "feature_adding.ipynb",
      "provenance": [],
      "collapsed_sections": [],
      "machine_shape": "hm"
    },
    "kernelspec": {
      "name": "python3",
      "display_name": "Python 3"
    },
    "language_info": {
      "name": "python"
    },
    "accelerator": "GPU"
  },
  "cells": [
    {
      "cell_type": "markdown",
      "metadata": {
        "id": "iuESZEQPGg1c"
      },
      "source": [
        "Load Library\n"
      ]
    },
    {
      "cell_type": "code",
      "metadata": {
        "id": "qPfb8D72GY1A"
      },
      "source": [
        "from keras.applications.xception import Xception\n",
        "from keras.preprocessing import image\n",
        "import numpy as np\n",
        "from keras.layers import Dense, Dropout\n",
        "from keras.models import Model\n",
        "import os\n",
        "from keras.layers import Input,Conv2D,BatchNormalization,concatenate,Dense,Dropout,GlobalAveragePooling2D\n",
        "from keras.preprocessing import image\n",
        "from keras.utils.np_utils import to_categorical\n",
        "from keras.metrics import categorical_accuracy\n",
        "from keras.callbacks import Callback, ModelCheckpoint,LearningRateScheduler,EarlyStopping,ReduceLROnPlateau\n",
        "from keras.optimizers import SGD,Adam\n",
        "from keras import regularizers"
      ],
      "execution_count": null,
      "outputs": []
    },
    {
      "cell_type": "code",
      "metadata": {
        "id": "R44dZ9fR46ch",
        "colab": {
          "base_uri": "https://localhost:8080/",
          "height": 35
        },
        "outputId": "d5ce0928-c728-443c-facd-ebc719ac980e"
      },
      "source": [
        "import torch\n",
        "torch.cuda.get_device_name(0)"
      ],
      "execution_count": null,
      "outputs": [
        {
          "output_type": "execute_result",
          "data": {
            "application/vnd.google.colaboratory.intrinsic+json": {
              "type": "string"
            },
            "text/plain": [
              "'Tesla P100-PCIE-16GB'"
            ]
          },
          "metadata": {
            "tags": []
          },
          "execution_count": 8
        }
      ]
    },
    {
      "cell_type": "markdown",
      "metadata": {
        "id": "d2FREx0GGgTg"
      },
      "source": [
        "Load Driver"
      ]
    },
    {
      "cell_type": "code",
      "metadata": {
        "id": "HtjDS4kcOrlH",
        "colab": {
          "base_uri": "https://localhost:8080/"
        },
        "outputId": "9957a9a1-ace3-43a3-a162-c91cfe9af4b8"
      },
      "source": [
        "from google.colab import drive\n",
        "drive.mount('/content/drive')"
      ],
      "execution_count": null,
      "outputs": [
        {
          "output_type": "stream",
          "text": [
            "Drive already mounted at /content/drive; to attempt to forcibly remount, call drive.mount(\"/content/drive\", force_remount=True).\n"
          ],
          "name": "stdout"
        }
      ]
    },
    {
      "cell_type": "markdown",
      "metadata": {
        "id": "1m0jxPEqGlvA"
      },
      "source": [
        "Load data set(for single subject)"
      ]
    },
    {
      "cell_type": "code",
      "metadata": {
        "id": "1l8YnMnBOpql"
      },
      "source": [
        "def Load_data(s,fea):\n",
        "  X_train=[]\n",
        "  Y_train=[]\n",
        "  X_test=[]\n",
        "  Y_test=[]\n",
        "  # s_weight='/content/drive/MyDrive/srtp-xsh/RGBimg_with_feature/'+str(fea)+'_weight.h5'\n",
        "  \n",
        "  path='/content/drive/MyDrive/srtp-xsh/RGBimg_with_feature/s'+str(s)+'/'+str(fea)\n",
        "    \n",
        "  train=path+'/train'\n",
        "  test=path+'/test'\n",
        "  for g in range(1,53):\n",
        "    for t in [0,2,3,5,6,7,8]:\n",
        "      x='s'+str(s)+'g'+str(g)+'tr'+str(t)+'.png'\n",
        "      f=train+'/'+x\n",
        "      img=image.load_img(f)\n",
        "      img=image.img_to_array(img)\n",
        "      img=image.smart_resize(img, (100,200), interpolation='bilinear')\n",
        "        \n",
        "      if x[-9]!='g':\n",
        "\n",
        "        label=x[-9:-7]\n",
        "      else:\n",
        "        label=x[-8:-7]\n",
        "\n",
        "      X_train.append(img)\n",
        "      Y_train.append(label)\n",
        "  for g in range(1,53):\n",
        "    for t in [1,4,9]:\n",
        "      x='s'+str(s)+'g'+str(g)+'tr'+str(t)+'.png'\n",
        "      f=test+'/'+x\n",
        "      img=image.load_img(f)\n",
        "      img=image.img_to_array(img)\n",
        "      img=image.smart_resize(img, (100,200), interpolation='bilinear')\n",
        "      if x[-9]!='g':\n",
        "        label=x[-9:-7]\n",
        "      else:\n",
        "        label=x[-8:-7]\n",
        "\n",
        "      X_test.append(img)\n",
        "      Y_test.append(label)\n",
        "  \n",
        "  X_train=np.asarray(X_train,np.float32)\n",
        "  X_test=np.asarray(X_test,np.float32)\n",
        "  Y_train=np.asarray(Y_train,np.float32)\n",
        "  Y_test=np.asarray(Y_test,np.float32)\n",
        "  print('shape of training data:',X_train.shape)\n",
        "  print('shape of training label:',Y_train.shape)\n",
        "  print('shape of test data:',X_test.shape)\n",
        "  print('shape of test label:',Y_test.shape)\n",
        "  \n",
        "  return X_train,Y_train,X_test,Y_test\n",
        "\n"
      ],
      "execution_count": null,
      "outputs": []
    },
    {
      "cell_type": "code",
      "metadata": {
        "id": "p5v354wKzNu-"
      },
      "source": [
        "def Load_data_all(fea):\n",
        "  X_train=[]\n",
        "  Y_train=[]\n",
        "  X_test=[]\n",
        "  Y_test=[]\n",
        "  for s in range(1,28):\n",
        "    path='/content/drive/MyDrive/srtp-xsh/RGBimg_with_feature/s'+str(s)+'/'+str(fea)\n",
        "    \n",
        "    train=path+'/train'\n",
        "    test=path+'/test'\n",
        "    for g in range(1,53):\n",
        "      for t in [0,2,3,5,6,7,8]:\n",
        "        x='s'+str(s)+'g'+str(g)+'tr'+str(t)+'.png'\n",
        "        f=train+'/'+x\n",
        "        img=image.load_img(f)\n",
        "        img=image.img_to_array(img)\n",
        "        img=image.smart_resize(img, (100,200), interpolation='bilinear')\n",
        "          \n",
        "        if x[-9]!='g':\n",
        "\n",
        "          label=x[-9:-7]\n",
        "        else:\n",
        "          label=x[-8:-7]\n",
        "\n",
        "        X_train.append(img)\n",
        "        Y_train.append(label)\n",
        "    for g in range(1,53):\n",
        "      for t in [1,4,9]:\n",
        "        x='s'+str(s)+'g'+str(g)+'tr'+str(t)+'.png'\n",
        "        f=test+'/'+x\n",
        "        img=image.load_img(f)\n",
        "        img=image.img_to_array(img)\n",
        "        img=image.smart_resize(img, (100,200), interpolation='bilinear')\n",
        "        if x[-9]!='g':\n",
        "          label=x[-9:-7]\n",
        "        else:\n",
        "          label=x[-8:-7]\n",
        "\n",
        "        X_test.append(img)\n",
        "        Y_test.append(label)\n",
        "  X_train=np.asarray(X_train,np.float32)\n",
        "  X_test=np.asarray(X_test,np.float32)\n",
        "  Y_train=np.asarray(Y_train,np.float32)\n",
        "  Y_test=np.asarray(Y_test,np.float32)\n",
        "  print('shape of training data:',X_train.shape)\n",
        "  print('shape of training label:',Y_train.shape)\n",
        "  print('shape of test data:',X_test.shape)\n",
        "  print('shape of test label:',Y_test.shape)\n",
        "  \n",
        "  return X_train,Y_train,X_test,Y_test\n",
        "\n"
      ],
      "execution_count": null,
      "outputs": []
    },
    {
      "cell_type": "code",
      "metadata": {
        "id": "-ka4vZzaqBDB",
        "colab": {
          "base_uri": "https://localhost:8080/"
        },
        "outputId": "292d494d-d465-4c9b-83d4-a7c74cb81feb"
      },
      "source": [
        "X_train_iemg,Y_train_iemg,X_test_iemg,Y_test_iemg=Load_data_all('IEMG')\n"
      ],
      "execution_count": null,
      "outputs": [
        {
          "output_type": "stream",
          "text": [
            "shape of training data: (9828, 100, 200, 3)\n",
            "shape of training label: (9828,)\n",
            "shape of test data: (4212, 100, 200, 3)\n",
            "shape of test label: (4212,)\n"
          ],
          "name": "stdout"
        }
      ]
    },
    {
      "cell_type": "code",
      "metadata": {
        "id": "s0WEmlI6kdjk",
        "colab": {
          "base_uri": "https://localhost:8080/"
        },
        "outputId": "84236d0d-6b6e-471a-9338-61d5211997dc"
      },
      "source": [
        "X_train_mav,Y_train_mav,X_test_mav,Y_test_mav=Load_data_all('MAV')"
      ],
      "execution_count": null,
      "outputs": [
        {
          "output_type": "stream",
          "text": [
            "shape of training data: (9828, 100, 200, 3)\n",
            "shape of training label: (9828,)\n",
            "shape of test data: (4212, 100, 200, 3)\n",
            "shape of test label: (4212,)\n"
          ],
          "name": "stdout"
        }
      ]
    },
    {
      "cell_type": "code",
      "metadata": {
        "id": "oAQJC8VmhIx4",
        "colab": {
          "base_uri": "https://localhost:8080/"
        },
        "outputId": "87e19efa-abd9-40e0-c2ad-fde9be43b33c"
      },
      "source": [
        "X_train_rms,Y_train_rms,X_test_rms,Y_test_rms=Load_data_all('RMS')"
      ],
      "execution_count": null,
      "outputs": [
        {
          "output_type": "stream",
          "text": [
            "shape of training data: (9828, 100, 200, 3)\n",
            "shape of training label: (9828,)\n",
            "shape of test data: (4212, 100, 200, 3)\n",
            "shape of test label: (4212,)\n"
          ],
          "name": "stdout"
        }
      ]
    },
    {
      "cell_type": "code",
      "metadata": {
        "id": "qWXT8xHSxQgA"
      },
      "source": [
        "np.save('/content/drive/MyDrive/srtp-xsh/RGBimg_with_feature/X_train_rms.npy', X_train_rms)\n",
        "np.save('/content/drive/MyDrive/srtp-xsh/RGBimg_with_feature/Y_train_rms.npy', Y_train_rms)\n",
        "np.save('/content/drive/MyDrive/srtp-xsh/RGBimg_with_feature/X_test_rms.npy', X_test_rms)\n",
        "np.save('/content/drive/MyDrive/srtp-xsh/RGBimg_with_feature/Y_test_rms.npy', Y_test_rms)"
      ],
      "execution_count": null,
      "outputs": []
    },
    {
      "cell_type": "code",
      "metadata": {
        "id": "DL3Qj6eceaNw"
      },
      "source": [
        "np.save('/content/drive/MyDrive/srtp-xsh/RGBimg_with_feature/X_train_mav.npy', X_train_mav)\n",
        "np.save('/content/drive/MyDrive/srtp-xsh/RGBimg_with_feature/Y_train_mav.npy', Y_train_mav)\n",
        "np.save('/content/drive/MyDrive/srtp-xsh/RGBimg_with_feature/X_test_mav.npy', X_test_mav)\n",
        "np.save('/content/drive/MyDrive/srtp-xsh/RGBimg_with_feature/Y_test_mav.npy', Y_test_mav)"
      ],
      "execution_count": null,
      "outputs": []
    },
    {
      "cell_type": "code",
      "metadata": {
        "id": "iHZZD8RieaW9"
      },
      "source": [
        "np.save('/content/drive/MyDrive/srtp-xsh/RGBimg_with_feature/X_train_iemg.npy', X_train_iemg)\n",
        "np.save('/content/drive/MyDrive/srtp-xsh/RGBimg_with_feature/Y_train_iemg.npy', Y_train_iemg)\n",
        "np.save('/content/drive/MyDrive/srtp-xsh/RGBimg_with_feature/X_test_iemg.npy', X_test_iemg)\n",
        "np.save('/content/drive/MyDrive/srtp-xsh/RGBimg_with_feature/Y_test_iemg.npy', Y_test_iemg)"
      ],
      "execution_count": null,
      "outputs": []
    },
    {
      "cell_type": "code",
      "metadata": {
        "id": "0rbmFl1nxwRa"
      },
      "source": [
        "# np.save('/content/drive/MyDrive/srtp-xsh/RGBimg_with_feature/RMS.npy', RMS)"
      ],
      "execution_count": null,
      "outputs": []
    },
    {
      "cell_type": "code",
      "metadata": {
        "id": "zxSfjCyABzlf"
      },
      "source": [
        "X_train_rms_t=np.load('/content/drive/MyDrive/srtp-xsh/RGBimg_with_feature/X_train_rms.npy',allow_pickle=True)"
      ],
      "execution_count": null,
      "outputs": []
    },
    {
      "cell_type": "code",
      "metadata": {
        "colab": {
          "base_uri": "https://localhost:8080/"
        },
        "id": "ZUVOV4nreiW1",
        "outputId": "23260ac1-6644-4ec3-8732-280c0f00e2aa"
      },
      "source": [
        ""
      ],
      "execution_count": null,
      "outputs": [
        {
          "output_type": "execute_result",
          "data": {
            "text/plain": [
              "(9828, 100, 200, 3)"
            ]
          },
          "metadata": {
            "tags": []
          },
          "execution_count": 17
        }
      ]
    },
    {
      "cell_type": "code",
      "metadata": {
        "id": "akac4pXsCLQv"
      },
      "source": [
        "# X_train_rms=RMS['train_data']\n",
        "# Y_train_rms=RMS['train_label']\n",
        "# X_test_rms=RMS['test_data']\n",
        "# Y_test_rms=RMS['test_label']\n",
        "RMS['test_label']"
      ],
      "execution_count": null,
      "outputs": []
    },
    {
      "cell_type": "code",
      "metadata": {
        "id": "4xeVHJ-jqdzU"
      },
      "source": [
        "num_example=X_train_iemg.shape[0]\n",
        "arr=np.arange(num_example)\n",
        "np.random.shuffle(arr)\n",
        "X_train_iemg=X_train_iemg[arr]\n",
        "Y_train_iemg=Y_train_iemg[arr]\n",
        "Y_train_iemg = to_categorical(Y_train_iemg,num_classes=53)\n",
        "Y_test_iemg = to_categorical(Y_test_iemg,num_classes=53)\n",
        "\n",
        "X_train_mav=X_train_mav[arr]\n",
        "Y_train_mav=Y_train_mav[arr]\n",
        "Y_train_mav = to_categorical(Y_train_mav,num_classes=53)\n",
        "Y_test_mav = to_categorical(Y_test_mav,num_classes=53)"
      ],
      "execution_count": null,
      "outputs": []
    },
    {
      "cell_type": "code",
      "metadata": {
        "id": "IGMw29UmPVsH"
      },
      "source": [
        ""
      ],
      "execution_count": null,
      "outputs": []
    },
    {
      "cell_type": "markdown",
      "metadata": {
        "id": "kvSYIMz1Pouu"
      },
      "source": [
        "Load model"
      ]
    },
    {
      "cell_type": "code",
      "metadata": {
        "id": "FzBDtzYAPq1Y"
      },
      "source": [
        "\n",
        "IEMG=Input(shape=(100,200,3),name='IEMG')\n",
        "MAV=Input(shape=(100,200,3),name='MAV')\n",
        "\n",
        "l_iemg=Conv2D(16,3,strides=(1, 1),padding='same',activation='relu',kernel_regularizer=regularizers.l2(0.01))(IEMG)\n",
        "l_mav=Conv2D(16,3,strides=(1, 1),padding='same',activation='relu',kernel_regularizer=regularizers.l2(0.01))(MAV)\n",
        "l_iemg=Conv2D(16,1,strides=(1, 1),padding='same',activation='relu',kernel_regularizer=regularizers.l2(0.01))(IEMG)\n",
        "l_mav=Conv2D(16,1,strides=(1, 1),padding='same',activation='relu',kernel_regularizer=regularizers.l2(0.01))(MAV)\n",
        "late_fusion=concatenate([l_iemg,l_mav])\n",
        "late_fusion=Dense(16,activation='relu')(late_fusion)\n",
        "# late_fusion=Dropout(0.2)(late_fusion)\n",
        "\n",
        "\n",
        "early_fusion=concatenate([IEMG,MAV])\n",
        "early_fusion=Conv2D(32,3,strides=(1, 1),padding='same',activation='relu',kernel_regularizer=regularizers.l2(0.01))(early_fusion)\n",
        "early_fusion=Conv2D(32,1,strides=(1, 1),padding='same',activation='relu',kernel_regularizer=regularizers.l2(0.01))(early_fusion)\n",
        "early_fusion=Dense(16,activation='relu')(early_fusion)\n",
        "# early_fusion=Dropout(0.2)(early_fusion)\n",
        "\n",
        "mix=concatenate([early_fusion,late_fusion])\n",
        "mix=Dense(3,activation='relu')(mix)\n",
        "# mix=BatchNormalization()(mix)\n",
        "\n",
        "\n",
        "\n",
        "x=Xception(include_top=False, weights='imagenet', input_tensor=None, input_shape=(100,200,3), pooling='avg')(mix)\n",
        "x = Dense(1024, activation='relu')(x)\n",
        "x=Dropout(0.5)(x)\n",
        "x = Dense(512, activation='relu')(x)\n",
        "x=Dropout(0.5)(x)\n",
        "predictions = Dense(53, activation='softmax')(x)\n",
        "\n",
        "model = Model(inputs=[IEMG,MAV], outputs=predictions)"
      ],
      "execution_count": null,
      "outputs": []
    },
    {
      "cell_type": "code",
      "metadata": {
        "id": "OnEBMVolPzMd"
      },
      "source": [
        "from tensorflow.keras.utils import plot_model\n",
        "plot_model(model, to_file='/content/drive/MyDrive/srtp-xsh/RGBimg_with_feature/model.png',show_shapes=True)"
      ],
      "execution_count": null,
      "outputs": []
    },
    {
      "cell_type": "code",
      "metadata": {
        "id": "lsYf8iDnmmfv"
      },
      "source": [
        "for i, layer in enumerate(model.layers):\n",
        "   print(i, layer.name)"
      ],
      "execution_count": null,
      "outputs": []
    },
    {
      "cell_type": "code",
      "metadata": {
        "id": "01gZKmiDszQE"
      },
      "source": [
        "# for i in range(17):\n",
        "#   if (i!=13):\n",
        "#     model.layers[i].trainable=True\n",
        "#   else:\n",
        "#     model.layers[i].trainable=False\n"
      ],
      "execution_count": null,
      "outputs": []
    },
    {
      "cell_type": "code",
      "metadata": {
        "id": "f9TqER0NP2HK"
      },
      "source": [
        "_weight='/content/drive/MyDrive/srtp-xsh/RGBimg_with_feature/mav_and_iemg.h5'\n",
        "opt=Adam(learning_rate=0.0001, beta_1=0.9, beta_2=0.999, epsilon=1e-07, amsgrad=False,name='Adam')\n",
        "optsgd=SGD(\n",
        "    learning_rate=0.01, momentum=0.7, nesterov=False, name='SGD')\n",
        "learning_rate_reduction = ReduceLROnPlateau(monitor='val_loss', patience=3, verbose=1, factor=0.5, min_lr=0.000001)\n",
        "model.compile(optimizer=optsgd, loss='categorical_crossentropy',metrics=['categorical_accuracy']) \n",
        "callbacks = [ModelCheckpoint(_weight, monitor='val_loss', save_best_only=True),learning_rate_reduction]\n",
        "history = model.fit(         [X_train_iemg,X_train_mav],\n",
        "                    Y_train_iemg,\n",
        "                    batch_size=32,\n",
        "                    epochs=32,\n",
        "                    validation_split=0.1,\n",
        "                    callbacks=callbacks)"
      ],
      "execution_count": null,
      "outputs": []
    },
    {
      "cell_type": "code",
      "metadata": {
        "id": "L-P6kYEPBSYL"
      },
      "source": [
        "model.load_weights(_weight)\n",
        "loss, accuracy = model.evaluate([X_test_iemg,X_test_mav],\n",
        "                  Y_test_iemg)\n",
        "print('loss = {0:.4f}, accuracy = {1:.4f}'.format(loss, accuracy))"
      ],
      "execution_count": null,
      "outputs": []
    },
    {
      "cell_type": "code",
      "metadata": {
        "id": "iTHtIGFICY3l"
      },
      "source": [
        "# for i in range(17):\n",
        "#   if (i!=13):\n",
        "#     model.layers[i].trainable=False\n",
        "#   else:\n",
        "#     model.layers[i].trainable=True\n"
      ],
      "execution_count": null,
      "outputs": []
    },
    {
      "cell_type": "code",
      "metadata": {
        "id": "JwpG5oudurmd"
      },
      "source": [
        "\n",
        "# _weight='/content/drive/MyDrive/srtp-xsh/RGBimg_with_feature/mav_and_iemg.h5'\n",
        "# opt=Adam(learning_rate=0.0001, beta_1=0.9, beta_2=0.999, epsilon=1e-07, amsgrad=False,name='Adam')\n",
        "# learning_rate_reduction = ReduceLROnPlateau(monitor='val_loss', patience=3, verbose=1, factor=0.5, min_lr=0.00001)\n",
        "# model.compile(optimizer=opt, loss='categorical_crossentropy',metrics=['categorical_accuracy']) \n",
        "# callbacks = [ModelCheckpoint(_weight, monitor='val_loss', save_best_only=True),learning_rate_reduction]\n",
        "# # model.load_weights(_weight)\n",
        "# history = model.fit(         [X_train_iemg,X_train_mav],\n",
        "#                     Y_train_iemg,\n",
        "#                     batch_size=32,\n",
        "#                     epochs=48,\n",
        "#                     validation_split=0.1,\n",
        "#                     callbacks=callbacks)"
      ],
      "execution_count": null,
      "outputs": []
    },
    {
      "cell_type": "code",
      "metadata": {
        "id": "tJq1h5kmu4lP"
      },
      "source": [
        "# model.load_weights(_weight)\n",
        "# loss, accuracy = model.evaluate([X_test_iemg,X_test_mav],\n",
        "#                   Y_test_iemg)\n",
        "# print('loss = {0:.4f}, accuracy = {1:.4f}'.format(loss, accuracy))"
      ],
      "execution_count": null,
      "outputs": []
    },
    {
      "cell_type": "code",
      "metadata": {
        "id": "uP97tlQhwLo7"
      },
      "source": [
        "base_model=Xception(include_top=False, weights='imagenet', input_tensor=None, input_shape=(100,200,3), pooling='avg')\n",
        "x=base_model.output\n",
        "x = Dense(1024, activation='relu')(x)\n",
        "x = Dense(512, activation='relu')(x)\n",
        "predictions = Dense(53, activation='softmax')(x)\n",
        "\n",
        "model = Model(inputs=base_model.input, outputs=predictions)"
      ],
      "execution_count": null,
      "outputs": []
    },
    {
      "cell_type": "code",
      "metadata": {
        "id": "Kzi6-Dvjzdci"
      },
      "source": [
        "opt=Adam(learning_rate=0.001, beta_1=0.9, beta_2=0.999, epsilon=1e-07, amsgrad=False,name='Adam')\n",
        "optsgd=SGD(\n",
        "    learning_rate=0.01, momentum=0.7, nesterov=False, name='SGD')\n",
        "learning_rate_reduction = ReduceLROnPlateau(monitor='val_loss', patience=3, verbose=1, factor=0.5, min_lr=0.00001)\n",
        "model.compile(optimizer=optsgd, loss='categorical_crossentropy',metrics=['categorical_accuracy']) \n",
        "callbacks = [ModelCheckpoint(_weight, monitor='val_loss', save_best_only=True),learning_rate_reduction]\n",
        "history = model.fit(         X_train_mav,\n",
        "                    Y_train_mav,\n",
        "                    epochs=64,\n",
        "                    validation_split=0.1,\n",
        "                    callbacks=callbacks)\n"
      ],
      "execution_count": null,
      "outputs": []
    },
    {
      "cell_type": "code",
      "metadata": {
        "id": "2lZ8qwF-0O3s"
      },
      "source": [
        "model.load_weights(_weight)\n",
        "loss, accuracy = model.evaluate( X_test_mav,\n",
        "                  Y_test_mav)\n",
        "print('loss = {0:.4f}, accuracy = {1:.4f}'.format(loss, accuracy))"
      ],
      "execution_count": null,
      "outputs": []
    },
    {
      "cell_type": "code",
      "metadata": {
        "id": "bu6MV1RR30_k"
      },
      "source": [
        ""
      ],
      "execution_count": null,
      "outputs": []
    },
    {
      "cell_type": "markdown",
      "metadata": {
        "id": "ghm6IEChLc2I"
      },
      "source": [
        "try new structure\n"
      ]
    },
    {
      "cell_type": "code",
      "metadata": {
        "id": "3I-IHtt2LcY8"
      },
      "source": [
        "# base_model=Xception(include_top=False, weights='imagenet', input_tensor=None, input_shape=(100,200,3), pooling='avg')\n",
        "# x=base_model.output\n",
        "# x = Dense(1024, activation='relu')(x)\n",
        "# x = Dense(512, activation='relu')(x)\n",
        "# predictions = Dense(52, activation='softmax')(x)\n",
        "\n",
        "# model = Model(inputs=base_model.input, outputs=x)\n",
        "\n",
        "\n",
        "fea1=Xception(include_top=False, weights='imagenet', input_tensor=None, input_shape=(100,200,3), pooling='avg')\n",
        "for layer in fea1.layers:\n",
        "    layer.name = layer.name + str('_fea1')\n",
        "early_fea1=fea1.get_layer(index=55).output\n",
        "# middle_fea1=fea1.get_layer(index=115).output\n",
        "late_fea1=fea1.get_layer(index=125).output\n",
        "\n",
        "fea2=Xception(include_top=False, weights='imagenet', input_tensor=None, input_shape=(100,200,3), pooling='avg')\n",
        "for layer in fea2.layers:\n",
        "    layer.name = layer.name + str('_fea2')\n",
        "early_fea2=fea2.get_layer(index=55).output\n",
        "# middle_fea2=fea2.get_layer(index=115).output\n",
        "late_fea2=fea2.get_layer(index=125).output\n",
        "\n",
        "early_fea1=Conv2D(512,3,strides=(1, 1),padding='same',activation='relu',kernel_regularizer=regularizers.l2(0.01))(early_fea1)\n",
        "early_fea2=Conv2D(512,3,strides=(1, 1),padding='same',activation='relu',kernel_regularizer=regularizers.l2(0.01))(early_fea2)\n",
        "early_fea1=Conv2D(128,1,strides=(1, 1),padding='same',activation='relu',kernel_regularizer=regularizers.l2(0.01))(early_fea1)\n",
        "early_fea2=Conv2D(128,1,strides=(1, 1),padding='same',activation='relu',kernel_regularizer=regularizers.l2(0.01))(early_fea2)\n",
        "early=concatenate([early_fea1,early_fea2])\n",
        "early=GlobalAveragePooling2D()(early)\n",
        "early=Dense(64)(early)\n",
        "\n",
        "late=concatenate([late_fea1,late_fea2])\n",
        "late=Conv2D(512,3,strides=(1, 1),padding='same',activation='relu',kernel_regularizer=regularizers.l2(0.01))(late)\n",
        "late=Conv2D(128,1,strides=(1, 1),padding='same',activation='relu',kernel_regularizer=regularizers.l2(0.01))(late)\n",
        "late=GlobalAveragePooling2D()(late)\n",
        "late=Dense(64)(late)\n",
        "\n",
        "out=concatenate([early,late])\n",
        "out=Dense(53)(out)\n",
        "\n",
        "\n",
        "model = Model(inputs=[fea1.input,fea2.input], outputs=out)\n"
      ],
      "execution_count": null,
      "outputs": []
    },
    {
      "cell_type": "code",
      "metadata": {
        "id": "ZnFlZLJ3MM00"
      },
      "source": [
        "\n",
        "base_model.summary()"
      ],
      "execution_count": null,
      "outputs": []
    },
    {
      "cell_type": "code",
      "metadata": {
        "id": "zXDwqPWAMSBp"
      },
      "source": [
        "from tensorflow.keras.utils import plot_model\n",
        "plot_model(model, to_file='/content/drive/MyDrive/srtp-xsh/RGBimg_with_feature/model.png',show_shapes=True)"
      ],
      "execution_count": null,
      "outputs": []
    },
    {
      "cell_type": "code",
      "metadata": {
        "id": "UzT9JtcFMpvy"
      },
      "source": [
        "for i, layer in enumerate(base_model.layers):\n",
        "   print(i, layer.name)\n"
      ],
      "execution_count": null,
      "outputs": []
    },
    {
      "cell_type": "code",
      "metadata": {
        "id": "meVTYN8qM8ZU"
      },
      "source": [
        ""
      ],
      "execution_count": null,
      "outputs": []
    }
  ]
}