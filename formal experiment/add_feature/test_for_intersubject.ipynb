{
  "nbformat": 4,
  "nbformat_minor": 0,
  "metadata": {
    "colab": {
      "name": "test_for_intersubject.ipynb",
      "provenance": []
    },
    "kernelspec": {
      "name": "python3",
      "display_name": "Python 3"
    },
    "language_info": {
      "name": "python"
    },
    "accelerator": "GPU"
  },
  "cells": [
    {
      "cell_type": "markdown",
      "metadata": {
        "id": "9tOY5XFRZQ9y"
      },
      "source": [
        "Load Library"
      ]
    },
    {
      "cell_type": "code",
      "metadata": {
        "id": "vscGFmM_ZCBQ"
      },
      "source": [
        "from keras.applications.xception import Xception\n",
        "from keras.preprocessing import image\n",
        "import numpy as np\n",
        "from keras.layers import Dense, Dropout\n",
        "from keras.models import Model\n",
        "import os\n",
        "from keras.preprocessing import image\n",
        "from keras.utils.np_utils import to_categorical\n",
        "from keras.metrics import categorical_accuracy\n",
        "from keras.callbacks import Callback, ModelCheckpoint,LearningRateScheduler,EarlyStopping,ReduceLROnPlateau\n",
        "from keras.optimizers import SGD,Adam"
      ],
      "execution_count": 2,
      "outputs": []
    },
    {
      "cell_type": "markdown",
      "metadata": {
        "id": "9km4aW7TZzXf"
      },
      "source": [
        "Load Driver"
      ]
    },
    {
      "cell_type": "code",
      "metadata": {
        "colab": {
          "base_uri": "https://localhost:8080/"
        },
        "id": "BKCax2vRZy4Z",
        "outputId": "6f5f1aa3-77c9-45f4-c786-b6432ab1acc7"
      },
      "source": [
        "from google.colab import drive\n",
        "drive.mount('/content/drive')"
      ],
      "execution_count": 1,
      "outputs": [
        {
          "output_type": "stream",
          "text": [
            "Mounted at /content/drive\n"
          ],
          "name": "stdout"
        }
      ]
    },
    {
      "cell_type": "markdown",
      "metadata": {
        "id": "BBRW50D0lqxU"
      },
      "source": [
        "Load data set"
      ]
    },
    {
      "cell_type": "code",
      "metadata": {
        "id": "kPdN8LaJZ5Xs"
      },
      "source": [
        "def Load_data(fea):\n",
        "  X_train=[]\n",
        "  Y_train=[]\n",
        "  X_test=[]\n",
        "  Y_test=[]\n",
        "  s_weight='/content/drive/MyDrive/srtp-xsh/RGBimg_with_feature/'+str(fea)+'_weight.h5'\n",
        "  for s in range(1,10):\n",
        "    path='/content/drive/MyDrive/srtp-xsh/RGBimg_with_feature/s'+str(s)+'/'+str(fea)\n",
        "    \n",
        "    train=path+'/train'\n",
        "    test=path+'/test'\n",
        "    for x in os.listdir(train):\n",
        "      f=train+'/'+x\n",
        "      img=image.load_img(f)\n",
        "      img=image.img_to_array(img)\n",
        "      img=image.smart_resize(img, (100,200), interpolation='bilinear')\n",
        "      label=x[3]\n",
        "      X_train.append(img)\n",
        "      Y_train.append(label)\n",
        "    for x in os.listdir(test):\n",
        "      f=test+'/'+x\n",
        "      img=image.load_img(f)\n",
        "      img=image.img_to_array(img)\n",
        "      img=image.smart_resize(img, (100,200), interpolation='bilinear')\n",
        "      label=x[3]\n",
        "      X_test.append(img)\n",
        "      Y_test.append(label)\n",
        "  \n",
        "  X_train=np.asarray(X_train,np.float32)\n",
        "  X_test=np.asarray(X_test,np.float32)\n",
        "  Y_train=np.asarray(Y_train,np.float32)\n",
        "  Y_test=np.asarray(Y_test,np.float32)\n",
        "  num_example=X_train.shape[0]\n",
        "  arr=np.arange(num_example)\n",
        "  np.random.shuffle(arr)\n",
        "  X_train=X_train[arr]\n",
        "  Y_train=Y_train[arr]\n",
        "  Y_train = to_categorical(Y_train,num_classes=52)\n",
        "  Y_test = to_categorical(Y_test,num_classes=52)\n",
        "  print('shape of training data:',X_train.shape)\n",
        "  print('shape of training label:',Y_train.shape)\n",
        "  print('shape of test data:',X_test.shape)\n",
        "  print('shape of test label:',Y_test.shape)\n",
        "  return X_train,Y_train,X_test,Y_test,s_weight\n",
        "\n"
      ],
      "execution_count": 3,
      "outputs": []
    },
    {
      "cell_type": "code",
      "metadata": {
        "colab": {
          "base_uri": "https://localhost:8080/"
        },
        "id": "58UIiNSLofAG",
        "outputId": "3d033942-8f51-48ef-fce1-a34816014caf"
      },
      "source": [
        "X_train,Y_train,X_test,Y_test,s_weight=Load_data('IEMG')"
      ],
      "execution_count": 5,
      "outputs": [
        {
          "output_type": "stream",
          "text": [
            "shape of training data: (3276, 100, 200, 3)\n",
            "shape of training label: (3276, 52)\n",
            "shape of test data: (1404, 100, 200, 3)\n",
            "shape of test label: (1404, 52)\n"
          ],
          "name": "stdout"
        }
      ]
    },
    {
      "cell_type": "markdown",
      "metadata": {
        "id": "oxJgkBrWOutO"
      },
      "source": [
        "Load model"
      ]
    },
    {
      "cell_type": "code",
      "metadata": {
        "colab": {
          "base_uri": "https://localhost:8080/"
        },
        "id": "gIPiGaLToiB6",
        "outputId": "5a4572c6-74e5-43eb-924a-23192bef73b0"
      },
      "source": [
        "base_model=Xception(include_top=False, weights='imagenet', input_tensor=None, input_shape=(100,200,3), pooling='avg')\n",
        "x=base_model.output\n",
        "x = Dense(1024, activation='relu')(x)\n",
        "x = Dense(512, activation='relu')(x)\n",
        "predictions = Dense(52, activation='softmax')(x)\n",
        "\n",
        "model = Model(inputs=base_model.input, outputs=predictions)"
      ],
      "execution_count": 6,
      "outputs": [
        {
          "output_type": "stream",
          "text": [
            "Downloading data from https://storage.googleapis.com/tensorflow/keras-applications/xception/xception_weights_tf_dim_ordering_tf_kernels_notop.h5\n",
            "83689472/83683744 [==============================] - 1s 0us/step\n",
            "83697664/83683744 [==============================] - 1s 0us/step\n"
          ],
          "name": "stdout"
        }
      ]
    },
    {
      "cell_type": "markdown",
      "metadata": {
        "id": "WItg74qXOzE2"
      },
      "source": [
        "overview of performance"
      ]
    },
    {
      "cell_type": "code",
      "metadata": {
        "colab": {
          "base_uri": "https://localhost:8080/"
        },
        "id": "W3sF026sOx-e",
        "outputId": "68a9a1e7-de5d-4251-9e8e-53fe975d0f23"
      },
      "source": [
        "opt=Adam(learning_rate=0.001, beta_1=0.9, beta_2=0.999, epsilon=1e-07, amsgrad=False,name='Adam')\n",
        "learning_rate_reduction = ReduceLROnPlateau(monitor='val_loss', patience=3, verbose=1, factor=0.5, min_lr=0.00001)\n",
        "model.compile(optimizer=opt, loss='categorical_crossentropy',metrics=['categorical_accuracy']) \n",
        "callbacks = [ModelCheckpoint(s_weight, monitor='val_loss', save_best_only=True),learning_rate_reduction]\n",
        "history = model.fit(         X_train,\n",
        "                    Y_train,\n",
        "                    batch_size=32,\n",
        "                    epochs=24,\n",
        "                    validation_split=0.1,\n",
        "                    callbacks=callbacks)"
      ],
      "execution_count": 7,
      "outputs": [
        {
          "output_type": "stream",
          "text": [
            "Epoch 1/24\n",
            "93/93 [==============================] - 83s 300ms/step - loss: 1.9772 - categorical_accuracy: 0.3583 - val_loss: 2.3887 - val_categorical_accuracy: 0.4024\n"
          ],
          "name": "stdout"
        },
        {
          "output_type": "stream",
          "text": [
            "/usr/local/lib/python3.7/dist-packages/keras/utils/generic_utils.py:497: CustomMaskWarning: Custom mask layers require a config and must override get_config. When loading, the custom mask layer must be passed to the custom_objects argument.\n",
            "  category=CustomMaskWarning)\n"
          ],
          "name": "stderr"
        },
        {
          "output_type": "stream",
          "text": [
            "Epoch 2/24\n",
            "93/93 [==============================] - 23s 252ms/step - loss: 1.1195 - categorical_accuracy: 0.6229 - val_loss: 1.1267 - val_categorical_accuracy: 0.6037\n",
            "Epoch 3/24\n",
            "93/93 [==============================] - 23s 248ms/step - loss: 0.9000 - categorical_accuracy: 0.6983 - val_loss: 1.8839 - val_categorical_accuracy: 0.5610\n",
            "Epoch 4/24\n",
            "93/93 [==============================] - 23s 251ms/step - loss: 0.6934 - categorical_accuracy: 0.7731 - val_loss: 0.9881 - val_categorical_accuracy: 0.6585\n",
            "Epoch 5/24\n",
            "93/93 [==============================] - 23s 251ms/step - loss: 0.6784 - categorical_accuracy: 0.7914 - val_loss: 1.8138 - val_categorical_accuracy: 0.5610\n",
            "Epoch 6/24\n",
            "93/93 [==============================] - 23s 248ms/step - loss: 0.4812 - categorical_accuracy: 0.8317 - val_loss: 1.4463 - val_categorical_accuracy: 0.6768\n",
            "Epoch 7/24\n",
            "93/93 [==============================] - 23s 249ms/step - loss: 0.3859 - categorical_accuracy: 0.8720 - val_loss: 1.0914 - val_categorical_accuracy: 0.7561\n",
            "\n",
            "Epoch 00007: ReduceLROnPlateau reducing learning rate to 0.0005000000237487257.\n",
            "Epoch 8/24\n",
            "93/93 [==============================] - 23s 251ms/step - loss: 0.2562 - categorical_accuracy: 0.9182 - val_loss: 0.5745 - val_categorical_accuracy: 0.8384\n",
            "Epoch 9/24\n",
            "93/93 [==============================] - 23s 248ms/step - loss: 0.0812 - categorical_accuracy: 0.9716 - val_loss: 0.5811 - val_categorical_accuracy: 0.8323\n",
            "Epoch 10/24\n",
            "93/93 [==============================] - 23s 248ms/step - loss: 0.0986 - categorical_accuracy: 0.9719 - val_loss: 0.5348 - val_categorical_accuracy: 0.8659\n",
            "Epoch 11/24\n",
            "93/93 [==============================] - 23s 249ms/step - loss: 0.1327 - categorical_accuracy: 0.9639 - val_loss: 0.5757 - val_categorical_accuracy: 0.8537\n",
            "Epoch 12/24\n",
            "93/93 [==============================] - 23s 248ms/step - loss: 0.1445 - categorical_accuracy: 0.9587 - val_loss: 0.6964 - val_categorical_accuracy: 0.8537\n",
            "Epoch 13/24\n",
            "93/93 [==============================] - 23s 248ms/step - loss: 0.1372 - categorical_accuracy: 0.9611 - val_loss: 0.7407 - val_categorical_accuracy: 0.8262\n",
            "\n",
            "Epoch 00013: ReduceLROnPlateau reducing learning rate to 0.0002500000118743628.\n",
            "Epoch 14/24\n",
            "93/93 [==============================] - 23s 249ms/step - loss: 0.0737 - categorical_accuracy: 0.9755 - val_loss: 0.4692 - val_categorical_accuracy: 0.8537\n",
            "Epoch 15/24\n",
            "93/93 [==============================] - 23s 248ms/step - loss: 0.0161 - categorical_accuracy: 0.9966 - val_loss: 0.4747 - val_categorical_accuracy: 0.8659\n",
            "Epoch 16/24\n",
            "93/93 [==============================] - 23s 250ms/step - loss: 0.0051 - categorical_accuracy: 0.9993 - val_loss: 0.4763 - val_categorical_accuracy: 0.8689\n",
            "Epoch 17/24\n",
            "93/93 [==============================] - 23s 249ms/step - loss: 0.0088 - categorical_accuracy: 0.9975 - val_loss: 0.4905 - val_categorical_accuracy: 0.8872\n",
            "\n",
            "Epoch 00017: ReduceLROnPlateau reducing learning rate to 0.0001250000059371814.\n",
            "Epoch 18/24\n",
            "93/93 [==============================] - 23s 248ms/step - loss: 0.0158 - categorical_accuracy: 0.9971 - val_loss: 0.4199 - val_categorical_accuracy: 0.8872\n",
            "Epoch 19/24\n",
            "93/93 [==============================] - 24s 253ms/step - loss: 0.0310 - categorical_accuracy: 0.9907 - val_loss: 0.5036 - val_categorical_accuracy: 0.8750\n",
            "Epoch 20/24\n",
            "93/93 [==============================] - 23s 249ms/step - loss: 0.0219 - categorical_accuracy: 0.9929 - val_loss: 0.4307 - val_categorical_accuracy: 0.8811\n",
            "Epoch 21/24\n",
            "93/93 [==============================] - 23s 249ms/step - loss: 0.0157 - categorical_accuracy: 0.9979 - val_loss: 0.4542 - val_categorical_accuracy: 0.8750\n",
            "\n",
            "Epoch 00021: ReduceLROnPlateau reducing learning rate to 6.25000029685907e-05.\n",
            "Epoch 22/24\n",
            "93/93 [==============================] - 23s 249ms/step - loss: 0.0058 - categorical_accuracy: 0.9991 - val_loss: 0.4275 - val_categorical_accuracy: 0.8841\n",
            "Epoch 23/24\n",
            "93/93 [==============================] - 23s 249ms/step - loss: 0.0029 - categorical_accuracy: 0.9997 - val_loss: 0.4232 - val_categorical_accuracy: 0.8902\n",
            "Epoch 24/24\n",
            "93/93 [==============================] - 23s 249ms/step - loss: 0.0039 - categorical_accuracy: 0.9993 - val_loss: 0.4118 - val_categorical_accuracy: 0.8933\n"
          ],
          "name": "stdout"
        }
      ]
    },
    {
      "cell_type": "code",
      "metadata": {
        "colab": {
          "base_uri": "https://localhost:8080/",
          "height": 216
        },
        "id": "Nf8fFfIeO7XH",
        "outputId": "760c5fcb-f901-421e-e89d-5da939840a9c"
      },
      "source": [
        "model.load_weights(s_weight)\n",
        "loss, accuracy = model.evaluate(X_test,\n",
        "                  Y_test)\n",
        "print('loss = {0:.4f}, accuracy = {1:.4f}'.format(loss, accuracy))"
      ],
      "execution_count": 1,
      "outputs": [
        {
          "output_type": "error",
          "ename": "NameError",
          "evalue": "ignored",
          "traceback": [
            "\u001b[0;31m---------------------------------------------------------------------------\u001b[0m",
            "\u001b[0;31mNameError\u001b[0m                                 Traceback (most recent call last)",
            "\u001b[0;32m<ipython-input-1-05d8c66d1d67>\u001b[0m in \u001b[0;36m<module>\u001b[0;34m()\u001b[0m\n\u001b[0;32m----> 1\u001b[0;31m \u001b[0mmodel\u001b[0m\u001b[0;34m.\u001b[0m\u001b[0mload_weights\u001b[0m\u001b[0;34m(\u001b[0m\u001b[0ms_weight\u001b[0m\u001b[0;34m)\u001b[0m\u001b[0;34m\u001b[0m\u001b[0;34m\u001b[0m\u001b[0m\n\u001b[0m\u001b[1;32m      2\u001b[0m loss, accuracy = model.evaluate(X_test,\n\u001b[1;32m      3\u001b[0m                   Y_test)\n\u001b[1;32m      4\u001b[0m \u001b[0mprint\u001b[0m\u001b[0;34m(\u001b[0m\u001b[0;34m'loss = {0:.4f}, accuracy = {1:.4f}'\u001b[0m\u001b[0;34m.\u001b[0m\u001b[0mformat\u001b[0m\u001b[0;34m(\u001b[0m\u001b[0mloss\u001b[0m\u001b[0;34m,\u001b[0m \u001b[0maccuracy\u001b[0m\u001b[0;34m)\u001b[0m\u001b[0;34m)\u001b[0m\u001b[0;34m\u001b[0m\u001b[0;34m\u001b[0m\u001b[0m\n",
            "\u001b[0;31mNameError\u001b[0m: name 'model' is not defined"
          ]
        }
      ]
    },
    {
      "cell_type": "code",
      "metadata": {
        "id": "6I-1XsJFQNgW"
      },
      "source": [
        ""
      ],
      "execution_count": null,
      "outputs": []
    },
    {
      "cell_type": "code",
      "metadata": {
        "id": "TJ7ZdRJ9F8nm"
      },
      "source": [
        ""
      ],
      "execution_count": null,
      "outputs": []
    }
  ]
}