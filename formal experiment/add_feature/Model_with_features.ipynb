{
  "nbformat": 4,
  "nbformat_minor": 0,
  "metadata": {
    "accelerator": "GPU",
    "colab": {
      "name": "Model_with_features.ipynb",
      "provenance": [],
      "collapsed_sections": []
    },
    "kernelspec": {
      "display_name": "Python 3",
      "name": "python3"
    },
    "language_info": {
      "name": "python"
    }
  },
  "cells": [
    {
      "cell_type": "markdown",
      "metadata": {
        "id": "AQ_FmI-9JXEa"
      },
      "source": [
        "Load Library"
      ]
    },
    {
      "cell_type": "code",
      "metadata": {
        "id": "ezrGmE0ZJMts"
      },
      "source": [
        "from keras.applications.xception import Xception\n",
        "from keras.preprocessing import image\n",
        "import numpy as np\n",
        "from keras.layers import Dense, Dropout\n",
        "from keras.models import Model\n",
        "import os\n",
        "from keras.preprocessing import image\n",
        "from keras.utils.np_utils import to_categorical\n",
        "from keras.metrics import categorical_accuracy\n",
        "from keras.callbacks import Callback, ModelCheckpoint,LearningRateScheduler,EarlyStopping,ReduceLROnPlateau\n",
        "from keras.optimizers import SGD,Adam"
      ],
      "execution_count": null,
      "outputs": []
    },
    {
      "cell_type": "markdown",
      "metadata": {
        "id": "Ffw9SwVnJhF3"
      },
      "source": [
        "Load Driver"
      ]
    },
    {
      "cell_type": "code",
      "metadata": {
        "colab": {
          "base_uri": "https://localhost:8080/"
        },
        "id": "UJfHIzzSJRsK",
        "outputId": "687fe789-4bb9-444c-cb10-737ce0107623"
      },
      "source": [
        "from google.colab import drive\n",
        "drive.mount('/content/drive')"
      ],
      "execution_count": null,
      "outputs": [
        {
          "output_type": "stream",
          "text": [
            "Mounted at /content/drive\n"
          ],
          "name": "stdout"
        }
      ]
    },
    {
      "cell_type": "markdown",
      "metadata": {
        "id": "a4gYnQ8YJkLn"
      },
      "source": [
        "Load data set"
      ]
    },
    {
      "cell_type": "code",
      "metadata": {
        "id": "gUY6AaX2JUKR"
      },
      "source": [
        "##load data set for subject s with feature fea\n",
        "##features to choose are feature_list=['MAV','WL','SSC','ZC','IEMG','VAR','WAMP','RMS','mDWT','HEMG','MAVS','ARC','MNF','PSR','SampEn','CC','HHT']\n",
        "def Load_data(s,fea):\n",
        "  if s<0 or s>27:\n",
        "    print('subject not exist')\n",
        "    return\n",
        "  else:\n",
        "    path='/content/drive/MyDrive/srtp-xsh/RGBimg_with_feature/s'+str(s)+'/'+str(fea)\n",
        "    # s_weight='/content/drive/MyDrive/srtp-xsh/RGBimg_with_feature/s'+str(s)+'/'+str(fea)+'/weight.h5'\n",
        "    train=path+'/train'\n",
        "    test=path+'/test'\n",
        "    X_train=[]\n",
        "    Y_train=[]\n",
        "    for x in os.listdir(train):\n",
        "\n",
        "      f=train+'/'+x\n",
        "      img=image.load_img(f)\n",
        "      img=image.img_to_array(img)\n",
        "      img=image.smart_resize(img, (100,200), interpolation='bilinear')\n",
        "      label=x[3]\n",
        "      X_train.append(img)\n",
        "      Y_train.append(label)\n",
        "    X_test=[]\n",
        "    Y_test=[]\n",
        "    for x in os.listdir(test):\n",
        "      f=test+'/'+x\n",
        "      img=image.load_img(f)\n",
        "      img=image.img_to_array(img)\n",
        "      img=image.smart_resize(img, (100,200), interpolation='bilinear')\n",
        "      label=x[3]\n",
        "      X_test.append(img)\n",
        "      Y_test.append(label)\n",
        "    X_train=np.asarray(X_train,np.float32)\n",
        "    X_test=np.asarray(X_test,np.float32)\n",
        "    Y_train=np.asarray(Y_train,np.float32)\n",
        "    Y_test=np.asarray(Y_test,np.float32)\n",
        "\n",
        "    num_example=X_train.shape[0]\n",
        "    arr=np.arange(num_example)\n",
        "    np.random.shuffle(arr)\n",
        "    X_train=X_train[arr]\n",
        "    Y_train=Y_train[arr]\n",
        "    Y_train = to_categorical(Y_train,num_classes=52)\n",
        "    Y_test = to_categorical(Y_test,num_classes=52)\n",
        "    print('successfully load data for subject',str(s),'with feature',fea)\n",
        "    print('shape of training data:',X_train.shape)\n",
        "    print('shape of training label:',Y_train.shape)\n",
        "    print('shape of test data:',X_test.shape)\n",
        "    print('shape of test label:',Y_test.shape)\n",
        "    return X_train,Y_train,X_test,Y_test,s_weight,path"
      ],
      "execution_count": null,
      "outputs": []
    },
    {
      "cell_type": "code",
      "metadata": {
        "colab": {
          "base_uri": "https://localhost:8080/"
        },
        "id": "5Ip-bNdvLck1",
        "outputId": "fe8533c5-c2c4-4b3a-9946-5140e22ca2bf"
      },
      "source": [
        "X_train,Y_train,X_test,Y_test,s_weight,path=Load_data(2,'RMS')"
      ],
      "execution_count": null,
      "outputs": [
        {
          "output_type": "stream",
          "text": [
            "successfully load data for subject 2 with feature RMS\n",
            "shape of training data: (364, 100, 200, 3)\n",
            "shape of training label: (364, 52)\n",
            "shape of test data: (156, 100, 200, 3)\n",
            "shape of test label: (156, 52)\n"
          ],
          "name": "stdout"
        }
      ]
    },
    {
      "cell_type": "markdown",
      "metadata": {
        "id": "APOyRbJdZDol"
      },
      "source": [
        "Test from here"
      ]
    },
    {
      "cell_type": "code",
      "metadata": {
        "id": "jx9qgcUpZGcy"
      },
      "source": [
        "acc=[]\n",
        "for tr in range(10):\n",
        "  base_model=Xception(include_top=False, weights='imagenet', input_tensor=None, input_shape=(100,200,3), pooling='avg')\n",
        "  x=base_model.output\n",
        "  x = Dense(1024, activation='relu')(x)\n",
        "  x = Dense(512, activation='relu')(x)\n",
        "  predictions = Dense(52, activation='softmax')(x)\n",
        "\n",
        "  model = Model(inputs=base_model.input, outputs=predictions)\n",
        "  s_weight='/content/drive/MyDrive/srtp-xsh/RGBimg_with_feature/'+str(fea)+'/tr'+str(tr)'.h5'\n",
        "  opt=Adam(learning_rate=0.001, beta_1=0.9, beta_2=0.999, epsilon=1e-07, amsgrad=False,name='Adam')\n",
        "  learning_rate_reduction = ReduceLROnPlateau(monitor='val_loss', patience=3, verbose=1, factor=0.5, min_lr=0.00001)\n",
        "  model.compile(optimizer=opt, loss='categorical_crossentropy',metrics=['categorical_accuracy']) \n",
        "  callbacks = [ModelCheckpoint(s_weight, monitor='val_loss', save_best_only=True),learning_rate_reduction]\n",
        "  history = model.fit(         X_train,\n",
        "                      Y_train,\n",
        "                      batch_size=32,\n",
        "                      epochs=24,\n",
        "                      validation_split=0.1,\n",
        "                      callbacks=callbacks)\n",
        "  model.load_weights(s_weight)\n",
        "  loss, accuracy = model.evaluate(X_test,\n",
        "                    Y_test)\n",
        "  acc.append(accuracy)\n",
        "  # print('loss = {0:.4f}, accuracy = {1:.4f}'.format(loss, accuracy))\n",
        "    "
      ],
      "execution_count": null,
      "outputs": []
    },
    {
      "cell_type": "code",
      "metadata": {
        "id": "sM---3-vZwTj"
      },
      "source": [
        "print(acc,np.array(acc).mean())"
      ],
      "execution_count": null,
      "outputs": []
    },
    {
      "cell_type": "code",
      "metadata": {
        "id": "Je12Ic3EZnZ1"
      },
      "source": [
        ""
      ],
      "execution_count": null,
      "outputs": []
    },
    {
      "cell_type": "markdown",
      "metadata": {
        "id": "RwSFOKEfbhni"
      },
      "source": [
        "Load model"
      ]
    },
    {
      "cell_type": "code",
      "metadata": {
        "id": "3ifgEB8SLiFt"
      },
      "source": [
        "\n",
        "base_model=Xception(include_top=False, weights='imagenet', input_tensor=None, input_shape=(100,200,3), pooling='avg')\n",
        "x=base_model.output\n",
        "x = Dense(1024, activation='relu')(x)\n",
        "x = Dense(512, activation='relu')(x)\n",
        "predictions = Dense(52, activation='softmax')(x)\n",
        "\n",
        "model = Model(inputs=base_model.input, outputs=predictions)\n"
      ],
      "execution_count": null,
      "outputs": []
    },
    {
      "cell_type": "markdown",
      "metadata": {
        "id": "DqnPpTNtbjcR"
      },
      "source": [
        "overview of performance(skip this part if tuning is required)"
      ]
    },
    {
      "cell_type": "code",
      "metadata": {
        "colab": {
          "background_save": true,
          "base_uri": "https://localhost:8080/"
        },
        "id": "88bPeWfXbe9Q",
        "outputId": "c323abd6-f3be-476c-8cb7-573e989a72fb"
      },
      "source": [
        "opt=Adam(learning_rate=0.001, beta_1=0.9, beta_2=0.999, epsilon=1e-07, amsgrad=False,name='Adam')\n",
        "learning_rate_reduction = ReduceLROnPlateau(monitor='val_loss', patience=3, verbose=1, factor=0.5, min_lr=0.00001)\n",
        "model.compile(optimizer=opt, loss='categorical_crossentropy',metrics=['categorical_accuracy']) \n",
        "callbacks = [ModelCheckpoint(s_weight, monitor='val_loss', save_best_only=True),learning_rate_reduction]\n",
        "history = model.fit(         X_train,\n",
        "                    Y_train,\n",
        "                    batch_size=32,\n",
        "                    epochs=24,\n",
        "                    validation_split=0.1,\n",
        "                    callbacks=callbacks)"
      ],
      "execution_count": null,
      "outputs": [
        {
          "output_type": "stream",
          "text": [
            "Epoch 1/24\n",
            "11/11 [==============================] - 14s 493ms/step - loss: 2.8542 - categorical_accuracy: 0.2367 - val_loss: 5.5958 - val_categorical_accuracy: 0.2973\n"
          ],
          "name": "stdout"
        },
        {
          "output_type": "stream",
          "text": [
            "/usr/local/lib/python3.7/dist-packages/keras/utils/generic_utils.py:497: CustomMaskWarning: Custom mask layers require a config and must override get_config. When loading, the custom mask layer must be passed to the custom_objects argument.\n",
            "  category=CustomMaskWarning)\n"
          ],
          "name": "stderr"
        },
        {
          "output_type": "stream",
          "text": [
            "Epoch 2/24\n",
            "11/11 [==============================] - 3s 228ms/step - loss: 1.0859 - categorical_accuracy: 0.7050 - val_loss: 6.0592 - val_categorical_accuracy: 0.1892\n",
            "Epoch 3/24\n",
            "11/11 [==============================] - 2s 226ms/step - loss: 0.6255 - categorical_accuracy: 0.8233 - val_loss: 5.8518 - val_categorical_accuracy: 0.2162\n",
            "Epoch 4/24\n",
            "11/11 [==============================] - 3s 228ms/step - loss: 0.5861 - categorical_accuracy: 0.8176 - val_loss: 17.7559 - val_categorical_accuracy: 0.1622\n",
            "\n",
            "Epoch 00004: ReduceLROnPlateau reducing learning rate to 0.0005000000237487257.\n",
            "Epoch 5/24\n",
            "11/11 [==============================] - 3s 229ms/step - loss: 0.4065 - categorical_accuracy: 0.8601 - val_loss: 7.8930 - val_categorical_accuracy: 0.1892\n",
            "Epoch 6/24\n",
            "11/11 [==============================] - 3s 228ms/step - loss: 0.2871 - categorical_accuracy: 0.9188 - val_loss: 5.9344 - val_categorical_accuracy: 0.2973\n",
            "Epoch 7/24\n",
            "11/11 [==============================] - 3s 228ms/step - loss: 0.1439 - categorical_accuracy: 0.9649 - val_loss: 5.6404 - val_categorical_accuracy: 0.3243\n",
            "\n",
            "Epoch 00007: ReduceLROnPlateau reducing learning rate to 0.0002500000118743628.\n",
            "Epoch 8/24\n",
            "11/11 [==============================] - 3s 227ms/step - loss: 0.1576 - categorical_accuracy: 0.9739 - val_loss: 2.4453 - val_categorical_accuracy: 0.4865\n",
            "Epoch 9/24\n",
            "11/11 [==============================] - 3s 226ms/step - loss: 0.1650 - categorical_accuracy: 0.9600 - val_loss: 0.9817 - val_categorical_accuracy: 0.6486\n",
            "Epoch 10/24\n",
            "11/11 [==============================] - 2s 226ms/step - loss: 0.0699 - categorical_accuracy: 0.9855 - val_loss: 0.7859 - val_categorical_accuracy: 0.7297\n",
            "Epoch 11/24\n",
            "11/11 [==============================] - 2s 227ms/step - loss: 0.0540 - categorical_accuracy: 0.9934 - val_loss: 1.1758 - val_categorical_accuracy: 0.6216\n",
            "Epoch 12/24\n",
            "11/11 [==============================] - 3s 229ms/step - loss: 0.0288 - categorical_accuracy: 0.9930 - val_loss: 1.6438 - val_categorical_accuracy: 0.6216\n",
            "Epoch 13/24\n",
            "11/11 [==============================] - 3s 232ms/step - loss: 0.0154 - categorical_accuracy: 0.9964 - val_loss: 1.5257 - val_categorical_accuracy: 0.5946\n",
            "\n",
            "Epoch 00013: ReduceLROnPlateau reducing learning rate to 0.0001250000059371814.\n",
            "Epoch 14/24\n",
            "11/11 [==============================] - 3s 228ms/step - loss: 0.0446 - categorical_accuracy: 0.9826 - val_loss: 1.6729 - val_categorical_accuracy: 0.6216\n",
            "Epoch 15/24\n",
            "11/11 [==============================] - 3s 229ms/step - loss: 0.0165 - categorical_accuracy: 0.9947 - val_loss: 1.0944 - val_categorical_accuracy: 0.7568\n",
            "Epoch 16/24\n",
            "11/11 [==============================] - 3s 233ms/step - loss: 0.0214 - categorical_accuracy: 0.9957 - val_loss: 0.3457 - val_categorical_accuracy: 0.8919\n",
            "Epoch 17/24\n",
            "11/11 [==============================] - 3s 229ms/step - loss: 0.0319 - categorical_accuracy: 0.9914 - val_loss: 0.1495 - val_categorical_accuracy: 0.9189\n",
            "Epoch 18/24\n",
            "11/11 [==============================] - 3s 228ms/step - loss: 0.0407 - categorical_accuracy: 0.9819 - val_loss: 0.1869 - val_categorical_accuracy: 0.9189\n",
            "Epoch 19/24\n",
            "11/11 [==============================] - 3s 229ms/step - loss: 0.0292 - categorical_accuracy: 0.9953 - val_loss: 0.2210 - val_categorical_accuracy: 0.9189\n",
            "Epoch 20/24\n",
            "11/11 [==============================] - 3s 229ms/step - loss: 0.0065 - categorical_accuracy: 0.9990 - val_loss: 0.3942 - val_categorical_accuracy: 0.9189\n",
            "\n",
            "Epoch 00020: ReduceLROnPlateau reducing learning rate to 6.25000029685907e-05.\n",
            "Epoch 21/24\n",
            "11/11 [==============================] - 3s 230ms/step - loss: 0.0318 - categorical_accuracy: 0.9854 - val_loss: 0.3605 - val_categorical_accuracy: 0.9189\n",
            "Epoch 22/24\n",
            "11/11 [==============================] - 3s 229ms/step - loss: 0.0145 - categorical_accuracy: 0.9979 - val_loss: 0.3395 - val_categorical_accuracy: 0.9189\n",
            "Epoch 23/24\n",
            "11/11 [==============================] - 3s 232ms/step - loss: 0.0148 - categorical_accuracy: 0.9978 - val_loss: 0.3466 - val_categorical_accuracy: 0.8649\n",
            "\n",
            "Epoch 00023: ReduceLROnPlateau reducing learning rate to 3.125000148429535e-05.\n",
            "Epoch 24/24\n",
            "11/11 [==============================] - 3s 229ms/step - loss: 0.0283 - categorical_accuracy: 0.9910 - val_loss: 0.3210 - val_categorical_accuracy: 0.8649\n"
          ],
          "name": "stdout"
        }
      ]
    },
    {
      "cell_type": "code",
      "metadata": {
        "id": "jnrHq1WIbrSM"
      },
      "source": [
        "model.load_weights(s_weight)\n",
        "loss, accuracy = model.evaluate(X_test,\n",
        "                  Y_test)\n",
        "print('loss = {0:.4f}, accuracy = {1:.4f}'.format(loss, accuracy))"
      ],
      "execution_count": null,
      "outputs": []
    },
    {
      "cell_type": "code",
      "metadata": {
        "id": "1_WS5fHFf-rW"
      },
      "source": [
        ""
      ],
      "execution_count": null,
      "outputs": []
    }
  ]
}